{
 "cells": [
  {
   "cell_type": "code",
   "execution_count": 19,
   "metadata": {},
   "outputs": [],
   "source": [
    "import glob\n",
    "import re\n",
    "import numpy as np\n",
    "import pandas as pd\n",
    "from scipy import sparse\n",
    "from nltk.corpus import stopwords\n",
    "from nltk.stem.porter import PorterStemmer\n",
    "from nltk.stem import WordNetLemmatizer\n",
    "from sklearn.model_selection import train_test_split\n",
    "import nltk"
   ]
  },
  {
   "cell_type": "markdown",
   "metadata": {},
   "source": [
    "# Parse Reviews (Tokenizers)"
   ]
  },
  {
   "cell_type": "code",
   "execution_count": 5,
   "metadata": {},
   "outputs": [],
   "source": [
    "def removeAndExpand(text): \n",
    "    text.lower()\n",
    "    text = re.sub(r\"(\\.)|(\\;)|(\\:)|(\\!)|(\\')|(\\?)|(\\,)|(\\\")|(\\()|(\\))|(\\[)|(\\])|(\\d+)\", \"\", text)\n",
    "    text = re.sub(r\"(<br\\s*/><br\\s*/>)|(\\-)|(\\/)\", '', text)\n",
    "    text = re.sub(r\"[^A-Za-z0-9(),!?@&$\\'\\`\\\"\\_\\n]\", \" \", text)\n",
    "    text = re.sub(r\"what's\", \"what is \", text)\n",
    "    text = re.sub(r\"\\'s\", \" \", text)\n",
    "    text = re.sub(r\"\\'ve\", \" have \", text)\n",
    "    text = re.sub(r\"can't\", \"can not \", text)\n",
    "    text = re.sub(r\"cannot\", \"can not \", text)\n",
    "    text = re.sub(r\"n't\", \" not \", text)\n",
    "    text = re.sub(r\"i'm\", \"i am \", text)\n",
    "    text = re.sub(r\"\\'re\", \" are \", text)\n",
    "    text = re.sub(r\"\\'d\", \" would \", text)\n",
    "    text = re.sub(r\"\\'ll\", \" will \", text)\n",
    "    text = text.replace('&', ' and')\n",
    "    text = text.replace('@', ' at')\n",
    "    text = text.replace('$', ' dollar')\n",
    "    return text.split()\n",
    "\n",
    "def stopWordRemover(textArr): \n",
    "    stopWords = set(stopwords.words('english'))\n",
    "    return [s.lower() for s in textArr if s not in stopWords]\n",
    "\n",
    "lemma = lambda u: list(map(lambda v: WordNetLemmatizer().lemmatize(PorterStemmer().stem(v)), u))\n",
    "\n",
    "bigramParser = lambda u: re.sub(\"[^a-zA-Z]\", \" \", u.lower()).split()"
   ]
  },
  {
   "cell_type": "markdown",
   "metadata": {},
   "source": [
    "# Parse Passages"
   ]
  },
  {
   "cell_type": "code",
   "execution_count": 6,
   "metadata": {},
   "outputs": [],
   "source": [
    "xPositive = []\n",
    "xNegative = []\n",
    "xSeq = []\n",
    "yContinuous = []\n",
    "yDiscrete = []\n",
    "\n",
    "for s in ['pos', 'neg']:\n",
    "    files = glob.glob('./comp-551-imbd-sentiment-classification/train/'+ s +'/*.txt')\n",
    "    files.sort(key=lambda x: int(x.split('/')[-1].split('_')[0]))\n",
    "    for name in files:\n",
    "        yContinuous.append(int(name.split('_')[1].replace('.txt', '')))\n",
    "        xSeq.append(int(name.split('/')[-1].split('_')[0]))\n",
    "        if s == 'pos':\n",
    "            yDiscrete.append(1)\n",
    "        else:\n",
    "            yDiscrete.append(0)\n",
    "        with open(name) as f:\n",
    "            text = f.read()\n",
    "            text.lower()\n",
    "            text = re.sub(r\"[^A-Za-z]\", \" \", text)\n",
    "            if s == 'pos':\n",
    "                xPositive.append(text)\n",
    "            else:\n",
    "                xNegative.append(text)"
   ]
  },
  {
   "cell_type": "markdown",
   "metadata": {},
   "source": [
    "# Utility Function"
   ]
  },
  {
   "cell_type": "code",
   "execution_count": 7,
   "metadata": {},
   "outputs": [],
   "source": [
    "def report(results, n_top=3):\n",
    "    for i in range(1, n_top + 1):\n",
    "        candidates = np.flatnonzero(results['rank_test_score'] == i)\n",
    "        for candidate in candidates:\n",
    "            print(\"Model with rank: {0}\".format(i))\n",
    "            print(\"Mean validation score: {0:.3f} (std: {1:.3f})\".format(\n",
    "                  results['mean_test_score'][candidate],\n",
    "                  results['std_test_score'][candidate]))\n",
    "            print(\"Parameters: {0}\".format(results['params'][candidate]))\n",
    "            print(\"\")"
   ]
  },
  {
   "cell_type": "code",
   "execution_count": 8,
   "metadata": {},
   "outputs": [],
   "source": [
    "df = pd.DataFrame([[x, yd, yc] for x, yd, yc in zip(xPositive + xNegative, yDiscrete, yContinuous)], columns=['text', 'y discrete', 'y continuous'])\n",
    "X_train, X_test, y_train, y_test = train_test_split(df['text'], df['y discrete'], train_size=0.8, test_size=0.2, random_state=223)"
   ]
  },
  {
   "cell_type": "markdown",
   "metadata": {},
   "source": [
    "# Experiment With Logistic Regression"
   ]
  },
  {
   "cell_type": "code",
   "execution_count": 13,
   "metadata": {},
   "outputs": [],
   "source": [
    "from sklearn.pipeline import Pipeline, FeatureUnion\n",
    "from sklearn.linear_model import LogisticRegression\n",
    "from sklearn.feature_extraction.text import CountVectorizer, TfidfVectorizer\n",
    "from sklearn.model_selection import GridSearchCV\n",
    "from sklearn import metrics"
   ]
  },
  {
   "cell_type": "markdown",
   "metadata": {},
   "source": [
    "## Count"
   ]
  },
  {
   "cell_type": "code",
   "execution_count": 22,
   "metadata": {},
   "outputs": [
    {
     "name": "stdout",
     "output_type": "stream",
     "text": [
      "0.8826439738769049\n"
     ]
    }
   ],
   "source": [
    "commentLrgAPipeline = Pipeline([\n",
    "    ('tfidf', CountVectorizer()),\n",
    "    ('lrg', LogisticRegression())\n",
    "])\n",
    "\n",
    "commentLrgAPipeline.fit(X_train, y_train)\n",
    "y_pred = commentLrgAPipeline.predict(X_test)\n",
    "print(metrics.f1_score(y_test, y_pred))"
   ]
  },
  {
   "cell_type": "markdown",
   "metadata": {},
   "source": [
    "### Cross Validation"
   ]
  },
  {
   "cell_type": "code",
   "execution_count": 27,
   "metadata": {},
   "outputs": [
    {
     "name": "stdout",
     "output_type": "stream",
     "text": [
      "Fitting 2 folds for each of 24 candidates, totalling 48 fits\n",
      "[CV] lrg__C=0.5, tfidf__max_df=0.5, tfidf__ngram_range=(1, 1) ........\n",
      "[CV] lrg__C=0.5, tfidf__max_df=0.5, tfidf__ngram_range=(1, 1) ........\n",
      "[CV] lrg__C=0.5, tfidf__max_df=0.5, tfidf__ngram_range=(1, 2) ........\n",
      "[CV] lrg__C=0.5, tfidf__max_df=0.5, tfidf__ngram_range=(1, 2) ........\n",
      "[CV]  lrg__C=0.5, tfidf__max_df=0.5, tfidf__ngram_range=(1, 1), score=0.8684, total=   7.3s\n",
      "[CV]  lrg__C=0.5, tfidf__max_df=0.5, tfidf__ngram_range=(1, 1), score=0.8705, total=   7.7s\n",
      "[CV] lrg__C=0.5, tfidf__max_df=0.83, tfidf__ngram_range=(1, 1) .......\n",
      "[CV] lrg__C=0.5, tfidf__max_df=0.83, tfidf__ngram_range=(1, 1) .......\n",
      "[CV]  lrg__C=0.5, tfidf__max_df=0.83, tfidf__ngram_range=(1, 1), score=0.8688, total=  11.3s\n",
      "[CV]  lrg__C=0.5, tfidf__max_df=0.83, tfidf__ngram_range=(1, 1), score=0.8692, total=  11.1s\n",
      "[CV] lrg__C=0.5, tfidf__max_df=0.83, tfidf__ngram_range=(1, 2) .......\n",
      "[CV] lrg__C=0.5, tfidf__max_df=0.83, tfidf__ngram_range=(1, 2) .......\n",
      "[CV]  lrg__C=0.5, tfidf__max_df=0.5, tfidf__ngram_range=(1, 2), score=0.884, total=  28.7s\n"
     ]
    },
    {
     "name": "stderr",
     "output_type": "stream",
     "text": [
      "[Parallel(n_jobs=-1)]: Done   5 tasks      | elapsed:   37.2s\n"
     ]
    },
    {
     "name": "stdout",
     "output_type": "stream",
     "text": [
      "[CV] lrg__C=0.5, tfidf__max_df=1, tfidf__ngram_range=(1, 1) ..........\n",
      "[CV]  lrg__C=0.5, tfidf__max_df=0.5, tfidf__ngram_range=(1, 2), score=0.8859, total=  29.5s\n",
      "[CV] lrg__C=0.5, tfidf__max_df=1, tfidf__ngram_range=(1, 1) ..........\n",
      "[CV]  lrg__C=0.5, tfidf__max_df=1, tfidf__ngram_range=(1, 1), score=0.5715, total=   6.4s\n",
      "[CV] lrg__C=0.5, tfidf__max_df=1, tfidf__ngram_range=(1, 2) ..........\n",
      "[CV]  lrg__C=0.5, tfidf__max_df=1, tfidf__ngram_range=(1, 1), score=0.5489, total=   6.1s\n",
      "[CV] lrg__C=0.5, tfidf__max_df=1, tfidf__ngram_range=(1, 2) ..........\n",
      "[CV]  lrg__C=0.5, tfidf__max_df=0.83, tfidf__ngram_range=(1, 2), score=0.8833, total=  33.2s\n",
      "[CV]  lrg__C=0.5, tfidf__max_df=0.83, tfidf__ngram_range=(1, 2), score=0.883, total=  33.4s\n",
      "[CV] lrg__C=1, tfidf__max_df=0.5, tfidf__ngram_range=(1, 1) ..........\n"
     ]
    },
    {
     "name": "stderr",
     "output_type": "stream",
     "text": [
      "[Parallel(n_jobs=-1)]: Done  10 tasks      | elapsed:  1.1min\n"
     ]
    },
    {
     "name": "stdout",
     "output_type": "stream",
     "text": [
      "[CV] lrg__C=1, tfidf__max_df=0.5, tfidf__ngram_range=(1, 1) ..........\n",
      "[CV]  lrg__C=0.5, tfidf__max_df=1, tfidf__ngram_range=(1, 2), score=0.7021, total=  18.8s\n",
      "[CV]  lrg__C=0.5, tfidf__max_df=1, tfidf__ngram_range=(1, 2), score=0.6935, total=  18.5s\n",
      "[CV] lrg__C=1, tfidf__max_df=0.5, tfidf__ngram_range=(1, 2) ..........\n",
      "[CV] lrg__C=1, tfidf__max_df=0.5, tfidf__ngram_range=(1, 2) ..........\n",
      "[CV]  lrg__C=1, tfidf__max_df=0.5, tfidf__ngram_range=(1, 1), score=0.869, total=   7.3s\n",
      "[CV] lrg__C=1, tfidf__max_df=0.83, tfidf__ngram_range=(1, 1) .........\n",
      "[CV]  lrg__C=1, tfidf__max_df=0.5, tfidf__ngram_range=(1, 1), score=0.8663, total=   7.3s\n",
      "[CV] lrg__C=1, tfidf__max_df=0.83, tfidf__ngram_range=(1, 1) .........\n",
      "[CV]  lrg__C=1, tfidf__max_df=0.83, tfidf__ngram_range=(1, 1), score=0.8658, total=   8.7s\n",
      "[CV]  lrg__C=1, tfidf__max_df=0.83, tfidf__ngram_range=(1, 1), score=0.8673, total=   8.6s\n",
      "[CV] lrg__C=1, tfidf__max_df=0.83, tfidf__ngram_range=(1, 2) .........\n",
      "[CV] lrg__C=1, tfidf__max_df=0.83, tfidf__ngram_range=(1, 2) .........\n",
      "[CV]  lrg__C=1, tfidf__max_df=0.5, tfidf__ngram_range=(1, 2), score=0.8841, total=  30.5s\n"
     ]
    },
    {
     "name": "stderr",
     "output_type": "stream",
     "text": [
      "[Parallel(n_jobs=-1)]: Done  17 tasks      | elapsed:  1.9min\n"
     ]
    },
    {
     "name": "stdout",
     "output_type": "stream",
     "text": [
      "[CV] lrg__C=1, tfidf__max_df=1, tfidf__ngram_range=(1, 1) ............\n",
      "[CV]  lrg__C=1, tfidf__max_df=0.5, tfidf__ngram_range=(1, 2), score=0.8848, total=  32.0s\n",
      "[CV] lrg__C=1, tfidf__max_df=1, tfidf__ngram_range=(1, 1) ............\n",
      "[CV]  lrg__C=1, tfidf__max_df=1, tfidf__ngram_range=(1, 1), score=0.5697, total=   7.2s\n",
      "[CV] lrg__C=1, tfidf__max_df=1, tfidf__ngram_range=(1, 2) ............\n",
      "[CV]  lrg__C=1, tfidf__max_df=1, tfidf__ngram_range=(1, 1), score=0.5493, total=   6.7s\n",
      "[CV] lrg__C=1, tfidf__max_df=1, tfidf__ngram_range=(1, 2) ............\n",
      "[CV]  lrg__C=1, tfidf__max_df=0.83, tfidf__ngram_range=(1, 2), score=0.8835, total=  37.3s\n",
      "[CV] lrg__C=66, tfidf__max_df=0.5, tfidf__ngram_range=(1, 1) .........\n",
      "[CV]  lrg__C=1, tfidf__max_df=0.83, tfidf__ngram_range=(1, 2), score=0.8838, total=  38.0s\n",
      "[CV] lrg__C=66, tfidf__max_df=0.5, tfidf__ngram_range=(1, 1) .........\n",
      "[CV]  lrg__C=1, tfidf__max_df=1, tfidf__ngram_range=(1, 2), score=0.7, total=  16.5s\n",
      "[CV] lrg__C=66, tfidf__max_df=0.5, tfidf__ngram_range=(1, 2) .........\n",
      "[CV]  lrg__C=1, tfidf__max_df=1, tfidf__ngram_range=(1, 2), score=0.6892, total=  16.5s\n"
     ]
    },
    {
     "name": "stderr",
     "output_type": "stream",
     "text": [
      "[Parallel(n_jobs=-1)]: Done  24 tasks      | elapsed:  2.4min\n"
     ]
    },
    {
     "name": "stdout",
     "output_type": "stream",
     "text": [
      "[CV] lrg__C=66, tfidf__max_df=0.5, tfidf__ngram_range=(1, 2) .........\n",
      "[CV]  lrg__C=66, tfidf__max_df=0.5, tfidf__ngram_range=(1, 1), score=0.8606, total=   8.2s\n",
      "[CV] lrg__C=66, tfidf__max_df=0.83, tfidf__ngram_range=(1, 1) ........\n",
      "[CV]  lrg__C=66, tfidf__max_df=0.5, tfidf__ngram_range=(1, 1), score=0.8567, total=   8.1s\n",
      "[CV] lrg__C=66, tfidf__max_df=0.83, tfidf__ngram_range=(1, 1) ........\n",
      "[CV]  lrg__C=66, tfidf__max_df=0.83, tfidf__ngram_range=(1, 1), score=0.8595, total=   9.2s\n",
      "[CV] lrg__C=66, tfidf__max_df=0.83, tfidf__ngram_range=(1, 2) ........\n",
      "[CV]  lrg__C=66, tfidf__max_df=0.83, tfidf__ngram_range=(1, 1), score=0.8574, total=   9.2s\n",
      "[CV] lrg__C=66, tfidf__max_df=0.83, tfidf__ngram_range=(1, 2) ........\n",
      "[CV]  lrg__C=66, tfidf__max_df=0.5, tfidf__ngram_range=(1, 2), score=0.8821, total=  32.6s\n",
      "[CV]  lrg__C=66, tfidf__max_df=0.5, tfidf__ngram_range=(1, 2), score=0.8814, total=  32.0s\n",
      "[CV] lrg__C=66, tfidf__max_df=1, tfidf__ngram_range=(1, 1) ...........\n",
      "[CV] lrg__C=66, tfidf__max_df=1, tfidf__ngram_range=(1, 1) ...........\n",
      "[CV]  lrg__C=66, tfidf__max_df=1, tfidf__ngram_range=(1, 1), score=0.5564, total=   7.5s\n",
      "[CV] lrg__C=66, tfidf__max_df=1, tfidf__ngram_range=(1, 2) ...........\n",
      "[CV]  lrg__C=66, tfidf__max_df=1, tfidf__ngram_range=(1, 1), score=0.5471, total=   7.4s\n",
      "[CV] lrg__C=66, tfidf__max_df=1, tfidf__ngram_range=(1, 2) ...........\n",
      "[CV]  lrg__C=66, tfidf__max_df=0.83, tfidf__ngram_range=(1, 2), score=0.8826, total=  46.2s\n"
     ]
    },
    {
     "name": "stderr",
     "output_type": "stream",
     "text": [
      "[Parallel(n_jobs=-1)]: Done  33 tasks      | elapsed:  3.6min\n"
     ]
    },
    {
     "name": "stdout",
     "output_type": "stream",
     "text": [
      "[CV]  lrg__C=66, tfidf__max_df=0.83, tfidf__ngram_range=(1, 2), score=0.8823, total=  45.9s\n",
      "[CV] lrg__C=6666, tfidf__max_df=0.5, tfidf__ngram_range=(1, 1) .......\n",
      "[CV] lrg__C=6666, tfidf__max_df=0.5, tfidf__ngram_range=(1, 1) .......\n",
      "[CV]  lrg__C=6666, tfidf__max_df=0.5, tfidf__ngram_range=(1, 1), score=0.8397, total=   8.8s\n",
      "[CV] lrg__C=6666, tfidf__max_df=0.5, tfidf__ngram_range=(1, 2) .......\n",
      "[CV]  lrg__C=6666, tfidf__max_df=0.5, tfidf__ngram_range=(1, 1), score=0.8435, total=   9.7s\n",
      "[CV]  lrg__C=66, tfidf__max_df=1, tfidf__ngram_range=(1, 2), score=0.6086, total=  21.7s\n",
      "[CV]  lrg__C=66, tfidf__max_df=1, tfidf__ngram_range=(1, 2), score=0.6689, total=  21.9s\n",
      "[CV] lrg__C=6666, tfidf__max_df=0.5, tfidf__ngram_range=(1, 2) .......\n",
      "[CV] lrg__C=6666, tfidf__max_df=0.83, tfidf__ngram_range=(1, 1) ......\n",
      "[CV] lrg__C=6666, tfidf__max_df=0.83, tfidf__ngram_range=(1, 1) ......\n",
      "[CV]  lrg__C=6666, tfidf__max_df=0.83, tfidf__ngram_range=(1, 1), score=0.8449, total=  10.6s\n",
      "[CV]  lrg__C=6666, tfidf__max_df=0.83, tfidf__ngram_range=(1, 1), score=0.8438, total=  10.6s\n",
      "[CV] lrg__C=6666, tfidf__max_df=0.83, tfidf__ngram_range=(1, 2) ......\n",
      "[CV] lrg__C=6666, tfidf__max_df=0.83, tfidf__ngram_range=(1, 2) ......\n",
      "[CV]  lrg__C=6666, tfidf__max_df=0.5, tfidf__ngram_range=(1, 2), score=0.8757, total=  33.4s\n",
      "[CV] lrg__C=6666, tfidf__max_df=1, tfidf__ngram_range=(1, 1) .........\n",
      "[CV]  lrg__C=6666, tfidf__max_df=0.5, tfidf__ngram_range=(1, 2), score=0.8747, total=  34.6s\n",
      "[CV] lrg__C=6666, tfidf__max_df=1, tfidf__ngram_range=(1, 1) .........\n",
      "[CV]  lrg__C=6666, tfidf__max_df=1, tfidf__ngram_range=(1, 1), score=0.5558, total=   7.6s\n",
      "[CV] lrg__C=6666, tfidf__max_df=1, tfidf__ngram_range=(1, 2) .........\n",
      "[CV]  lrg__C=6666, tfidf__max_df=1, tfidf__ngram_range=(1, 1), score=0.5462, total=   7.8s\n",
      "[CV] lrg__C=6666, tfidf__max_df=1, tfidf__ngram_range=(1, 2) .........\n",
      "[CV]  lrg__C=6666, tfidf__max_df=0.83, tfidf__ngram_range=(1, 2), score=0.8756, total=  40.3s\n",
      "[CV]  lrg__C=6666, tfidf__max_df=0.83, tfidf__ngram_range=(1, 2), score=0.8731, total=  41.0s\n"
     ]
    },
    {
     "name": "stderr",
     "output_type": "stream",
     "text": [
      "[Parallel(n_jobs=-1)]: Done  46 out of  48 | elapsed:  4.8min remaining:   12.6s\n"
     ]
    },
    {
     "name": "stdout",
     "output_type": "stream",
     "text": [
      "[CV]  lrg__C=6666, tfidf__max_df=1, tfidf__ngram_range=(1, 2), score=0.6614, total=  15.3s\n",
      "[CV]  lrg__C=6666, tfidf__max_df=1, tfidf__ngram_range=(1, 2), score=0.6078, total=  14.9s\n"
     ]
    },
    {
     "name": "stderr",
     "output_type": "stream",
     "text": [
      "[Parallel(n_jobs=-1)]: Done  48 out of  48 | elapsed:  5.0min finished\n"
     ]
    },
    {
     "ename": "AttributeError",
     "evalue": "'GridSearchCV' object has no attribute 'cv_results_'",
     "output_type": "error",
     "traceback": [
      "\u001b[0;31m---------------------------------------------------------------------------\u001b[0m",
      "\u001b[0;31mAttributeError\u001b[0m                            Traceback (most recent call last)",
      "\u001b[0;32m<ipython-input-27-0ca622413c81>\u001b[0m in \u001b[0;36m<module>\u001b[0;34m()\u001b[0m\n\u001b[1;32m     11\u001b[0m \u001b[0;34m\u001b[0m\u001b[0m\n\u001b[1;32m     12\u001b[0m \u001b[0mgridSearchA\u001b[0m\u001b[0;34m.\u001b[0m\u001b[0mfit\u001b[0m\u001b[0;34m(\u001b[0m\u001b[0mX_train\u001b[0m\u001b[0;34m,\u001b[0m \u001b[0my_train\u001b[0m\u001b[0;34m)\u001b[0m\u001b[0;34m\u001b[0m\u001b[0m\n\u001b[0;32m---> 13\u001b[0;31m \u001b[0mreport\u001b[0m\u001b[0;34m(\u001b[0m\u001b[0mgridSearch\u001b[0m\u001b[0;34m.\u001b[0m\u001b[0mcv_results_\u001b[0m\u001b[0;34m)\u001b[0m\u001b[0;34m\u001b[0m\u001b[0m\n\u001b[0m",
      "\u001b[0;31mAttributeError\u001b[0m: 'GridSearchCV' object has no attribute 'cv_results_'"
     ]
    }
   ],
   "source": [
    "commentLrgCVAPipeline = Pipeline([\n",
    "    ('tfidf', CountVectorizer()),\n",
    "    ('lrg', LogisticRegression())\n",
    "])\n",
    "\n",
    "gridSearchA = GridSearchCV(commentLrgCVAPipeline, {\n",
    "    'tfidf__ngram_range': [(1, 1), (1, 2)], \n",
    "    'tfidf__max_df': [0.5, 0.83, 1], \n",
    "    'lrg__C': [0.5, 1, 66, 6666]\n",
    "}, cv=2, verbose=10, n_jobs=-1)\n",
    "\n",
    "gridSearchA.fit(X_train, y_train)"
   ]
  },
  {
   "cell_type": "code",
   "execution_count": 28,
   "metadata": {},
   "outputs": [
    {
     "name": "stdout",
     "output_type": "stream",
     "text": [
      "Model with rank: 1\n",
      "Mean validation score: 0.885 (std: 0.001)\n",
      "Parameters: {'lrg__C': 0.5, 'tfidf__max_df': 0.5, 'tfidf__ngram_range': (1, 2)}\n",
      "\n",
      "Model with rank: 2\n",
      "Mean validation score: 0.884 (std: 0.000)\n",
      "Parameters: {'lrg__C': 1, 'tfidf__max_df': 0.5, 'tfidf__ngram_range': (1, 2)}\n",
      "\n",
      "Model with rank: 3\n",
      "Mean validation score: 0.884 (std: 0.000)\n",
      "Parameters: {'lrg__C': 1, 'tfidf__max_df': 0.83, 'tfidf__ngram_range': (1, 2)}\n",
      "\n",
      "Model with rank: 4\n",
      "Mean validation score: 0.883 (std: 0.000)\n",
      "Parameters: {'lrg__C': 0.5, 'tfidf__max_df': 0.83, 'tfidf__ngram_range': (1, 2)}\n",
      "\n",
      "Model with rank: 5\n",
      "Mean validation score: 0.882 (std: 0.000)\n",
      "Parameters: {'lrg__C': 66, 'tfidf__max_df': 0.83, 'tfidf__ngram_range': (1, 2)}\n",
      "\n",
      "Model with rank: 6\n",
      "Mean validation score: 0.882 (std: 0.000)\n",
      "Parameters: {'lrg__C': 66, 'tfidf__max_df': 0.5, 'tfidf__ngram_range': (1, 2)}\n",
      "\n",
      "Model with rank: 7\n",
      "Mean validation score: 0.875 (std: 0.001)\n",
      "Parameters: {'lrg__C': 6666, 'tfidf__max_df': 0.5, 'tfidf__ngram_range': (1, 2)}\n",
      "\n",
      "Model with rank: 8\n",
      "Mean validation score: 0.874 (std: 0.001)\n",
      "Parameters: {'lrg__C': 6666, 'tfidf__max_df': 0.83, 'tfidf__ngram_range': (1, 2)}\n",
      "\n",
      "Model with rank: 9\n",
      "Mean validation score: 0.869 (std: 0.001)\n",
      "Parameters: {'lrg__C': 0.5, 'tfidf__max_df': 0.5, 'tfidf__ngram_range': (1, 1)}\n",
      "\n",
      "Model with rank: 10\n",
      "Mean validation score: 0.869 (std: 0.000)\n",
      "Parameters: {'lrg__C': 0.5, 'tfidf__max_df': 0.83, 'tfidf__ngram_range': (1, 1)}\n",
      "\n",
      "Model with rank: 11\n",
      "Mean validation score: 0.868 (std: 0.001)\n",
      "Parameters: {'lrg__C': 1, 'tfidf__max_df': 0.5, 'tfidf__ngram_range': (1, 1)}\n",
      "\n",
      "Model with rank: 12\n",
      "Mean validation score: 0.867 (std: 0.001)\n",
      "Parameters: {'lrg__C': 1, 'tfidf__max_df': 0.83, 'tfidf__ngram_range': (1, 1)}\n",
      "\n",
      "Model with rank: 13\n",
      "Mean validation score: 0.859 (std: 0.002)\n",
      "Parameters: {'lrg__C': 66, 'tfidf__max_df': 0.5, 'tfidf__ngram_range': (1, 1)}\n",
      "\n",
      "Model with rank: 14\n",
      "Mean validation score: 0.858 (std: 0.001)\n",
      "Parameters: {'lrg__C': 66, 'tfidf__max_df': 0.83, 'tfidf__ngram_range': (1, 1)}\n",
      "\n",
      "Model with rank: 15\n",
      "Mean validation score: 0.844 (std: 0.001)\n",
      "Parameters: {'lrg__C': 6666, 'tfidf__max_df': 0.83, 'tfidf__ngram_range': (1, 1)}\n",
      "\n",
      "Model with rank: 16\n",
      "Mean validation score: 0.842 (std: 0.002)\n",
      "Parameters: {'lrg__C': 6666, 'tfidf__max_df': 0.5, 'tfidf__ngram_range': (1, 1)}\n",
      "\n",
      "Model with rank: 17\n",
      "Mean validation score: 0.698 (std: 0.004)\n",
      "Parameters: {'lrg__C': 0.5, 'tfidf__max_df': 1, 'tfidf__ngram_range': (1, 2)}\n",
      "\n",
      "Model with rank: 18\n",
      "Mean validation score: 0.695 (std: 0.005)\n",
      "Parameters: {'lrg__C': 1, 'tfidf__max_df': 1, 'tfidf__ngram_range': (1, 2)}\n",
      "\n",
      "Model with rank: 19\n",
      "Mean validation score: 0.639 (std: 0.030)\n",
      "Parameters: {'lrg__C': 66, 'tfidf__max_df': 1, 'tfidf__ngram_range': (1, 2)}\n",
      "\n",
      "Model with rank: 20\n",
      "Mean validation score: 0.635 (std: 0.027)\n",
      "Parameters: {'lrg__C': 6666, 'tfidf__max_df': 1, 'tfidf__ngram_range': (1, 2)}\n",
      "\n"
     ]
    }
   ],
   "source": [
    "report(gridSearchA.cv_results_, n_top=20)"
   ]
  },
  {
   "cell_type": "code",
   "execution_count": 31,
   "metadata": {},
   "outputs": [
    {
     "name": "stdout",
     "output_type": "stream",
     "text": [
      "0.8986593059936909\n"
     ]
    }
   ],
   "source": [
    "commentLrgAFPipeline = Pipeline([\n",
    "    ('tfidf', CountVectorizer(max_df=0.5, ngram_range=(1, 2))),\n",
    "    ('lrg', LogisticRegression(C=0.5))\n",
    "])\n",
    "\n",
    "commentLrgAFPipeline.fit(X_train, y_train)\n",
    "y_pred = commentLrgAFPipeline.predict(X_test)\n",
    "print(metrics.f1_score(y_test, y_pred))"
   ]
  },
  {
   "cell_type": "markdown",
   "metadata": {},
   "source": [
    "## TF-IDF"
   ]
  },
  {
   "cell_type": "code",
   "execution_count": 8,
   "metadata": {},
   "outputs": [
    {
     "name": "stdout",
     "output_type": "stream",
     "text": [
      "0.8933569879755568\n"
     ]
    }
   ],
   "source": [
    "commentLrgBPipeline = Pipeline([\n",
    "    ('tfidf', TfidfVectorizer()),\n",
    "    ('lrg', LogisticRegression())\n",
    "])\n",
    "\n",
    "commentLrgBPipeline.fit(X_train, y_train)\n",
    "y_pred = commentLrgBPipeline.predict(X_test)\n",
    "print(metrics.f1_score(y_test, y_pred))"
   ]
  },
  {
   "cell_type": "markdown",
   "metadata": {},
   "source": [
    "### Cross Validation"
   ]
  },
  {
   "cell_type": "code",
   "execution_count": 32,
   "metadata": {
    "scrolled": true
   },
   "outputs": [
    {
     "name": "stdout",
     "output_type": "stream",
     "text": [
      "Fitting 2 folds for each of 96 candidates, totalling 192 fits\n",
      "[CV] lrg__C=0.5, tfidf__max_df=0.5, tfidf__ngram_range=(1, 1), tfidf__norm=l1, tfidf__sublinear_tf=True \n",
      "[CV] lrg__C=0.5, tfidf__max_df=0.5, tfidf__ngram_range=(1, 1), tfidf__norm=l1, tfidf__sublinear_tf=True \n",
      "[CV] lrg__C=0.5, tfidf__max_df=0.5, tfidf__ngram_range=(1, 1), tfidf__norm=l1, tfidf__sublinear_tf=False \n",
      "[CV] lrg__C=0.5, tfidf__max_df=0.5, tfidf__ngram_range=(1, 1), tfidf__norm=l1, tfidf__sublinear_tf=False \n",
      "[CV]  lrg__C=0.5, tfidf__max_df=0.5, tfidf__ngram_range=(1, 1), tfidf__norm=l1, tfidf__sublinear_tf=True, score=0.8332, total=   6.5s\n",
      "[CV]  lrg__C=0.5, tfidf__max_df=0.5, tfidf__ngram_range=(1, 1), tfidf__norm=l1, tfidf__sublinear_tf=True, score=0.8242, total=   6.6s\n",
      "[CV] lrg__C=0.5, tfidf__max_df=0.5, tfidf__ngram_range=(1, 1), tfidf__norm=l2, tfidf__sublinear_tf=True \n",
      "[CV] lrg__C=0.5, tfidf__max_df=0.5, tfidf__ngram_range=(1, 1), tfidf__norm=l2, tfidf__sublinear_tf=True \n",
      "[CV]  lrg__C=0.5, tfidf__max_df=0.5, tfidf__ngram_range=(1, 1), tfidf__norm=l1, tfidf__sublinear_tf=False, score=0.8208, total=   6.7s\n",
      "[CV]  lrg__C=0.5, tfidf__max_df=0.5, tfidf__ngram_range=(1, 1), tfidf__norm=l1, tfidf__sublinear_tf=False, score=0.8118, total=   6.6s\n",
      "[CV] lrg__C=0.5, tfidf__max_df=0.5, tfidf__ngram_range=(1, 1), tfidf__norm=l2, tfidf__sublinear_tf=False \n",
      "[CV] lrg__C=0.5, tfidf__max_df=0.5, tfidf__ngram_range=(1, 1), tfidf__norm=l2, tfidf__sublinear_tf=False \n",
      "[CV]  lrg__C=0.5, tfidf__max_df=0.5, tfidf__ngram_range=(1, 1), tfidf__norm=l2, tfidf__sublinear_tf=True, score=0.8745, total=   6.5s\n"
     ]
    },
    {
     "name": "stderr",
     "output_type": "stream",
     "text": [
      "[Parallel(n_jobs=-1)]: Done   5 tasks      | elapsed:   20.0s\n"
     ]
    },
    {
     "name": "stdout",
     "output_type": "stream",
     "text": [
      "[CV]  lrg__C=0.5, tfidf__max_df=0.5, tfidf__ngram_range=(1, 1), tfidf__norm=l2, tfidf__sublinear_tf=True, score=0.8726, total=   6.5s\n",
      "[CV] lrg__C=0.5, tfidf__max_df=0.5, tfidf__ngram_range=(1, 2), tfidf__norm=l1, tfidf__sublinear_tf=True \n",
      "[CV] lrg__C=0.5, tfidf__max_df=0.5, tfidf__ngram_range=(1, 2), tfidf__norm=l1, tfidf__sublinear_tf=True \n",
      "[CV]  lrg__C=0.5, tfidf__max_df=0.5, tfidf__ngram_range=(1, 1), tfidf__norm=l2, tfidf__sublinear_tf=False, score=0.8715, total=   6.5s\n",
      "[CV]  lrg__C=0.5, tfidf__max_df=0.5, tfidf__ngram_range=(1, 1), tfidf__norm=l2, tfidf__sublinear_tf=False, score=0.8673, total=   6.4s\n",
      "[CV] lrg__C=0.5, tfidf__max_df=0.5, tfidf__ngram_range=(1, 2), tfidf__norm=l1, tfidf__sublinear_tf=False \n",
      "[CV] lrg__C=0.5, tfidf__max_df=0.5, tfidf__ngram_range=(1, 2), tfidf__norm=l1, tfidf__sublinear_tf=False \n",
      "[CV]  lrg__C=0.5, tfidf__max_df=0.5, tfidf__ngram_range=(1, 2), tfidf__norm=l1, tfidf__sublinear_tf=True, score=0.8481, total=  24.1s\n",
      "[CV]  lrg__C=0.5, tfidf__max_df=0.5, tfidf__ngram_range=(1, 2), tfidf__norm=l1, tfidf__sublinear_tf=True, score=0.8517, total=  24.7s\n",
      "[CV] lrg__C=0.5, tfidf__max_df=0.5, tfidf__ngram_range=(1, 2), tfidf__norm=l2, tfidf__sublinear_tf=True \n"
     ]
    },
    {
     "name": "stderr",
     "output_type": "stream",
     "text": [
      "[Parallel(n_jobs=-1)]: Done  10 tasks      | elapsed:   55.9s\n"
     ]
    },
    {
     "name": "stdout",
     "output_type": "stream",
     "text": [
      "[CV]  lrg__C=0.5, tfidf__max_df=0.5, tfidf__ngram_range=(1, 2), tfidf__norm=l1, tfidf__sublinear_tf=False, score=0.837, total=  24.3s\n",
      "[CV] lrg__C=0.5, tfidf__max_df=0.5, tfidf__ngram_range=(1, 2), tfidf__norm=l2, tfidf__sublinear_tf=True \n",
      "[CV]  lrg__C=0.5, tfidf__max_df=0.5, tfidf__ngram_range=(1, 2), tfidf__norm=l1, tfidf__sublinear_tf=False, score=0.8389, total=  24.4s\n",
      "[CV] lrg__C=0.5, tfidf__max_df=0.5, tfidf__ngram_range=(1, 2), tfidf__norm=l2, tfidf__sublinear_tf=False \n",
      "[CV] lrg__C=0.5, tfidf__max_df=0.5, tfidf__ngram_range=(1, 2), tfidf__norm=l2, tfidf__sublinear_tf=False \n",
      "[CV]  lrg__C=0.5, tfidf__max_df=0.5, tfidf__ngram_range=(1, 2), tfidf__norm=l2, tfidf__sublinear_tf=True, score=0.8748, total=  32.4s\n",
      "[CV]  lrg__C=0.5, tfidf__max_df=0.5, tfidf__ngram_range=(1, 2), tfidf__norm=l2, tfidf__sublinear_tf=True, score=0.8737, total=  32.2s\n",
      "[CV] lrg__C=0.5, tfidf__max_df=0.83, tfidf__ngram_range=(1, 1), tfidf__norm=l1, tfidf__sublinear_tf=True \n",
      "[CV]  lrg__C=0.5, tfidf__max_df=0.5, tfidf__ngram_range=(1, 2), tfidf__norm=l2, tfidf__sublinear_tf=False, score=0.8699, total=  32.3s\n",
      "[CV] lrg__C=0.5, tfidf__max_df=0.83, tfidf__ngram_range=(1, 1), tfidf__norm=l1, tfidf__sublinear_tf=True \n",
      "[CV]  lrg__C=0.5, tfidf__max_df=0.5, tfidf__ngram_range=(1, 2), tfidf__norm=l2, tfidf__sublinear_tf=False, score=0.8667, total=  32.8s\n",
      "[CV] lrg__C=0.5, tfidf__max_df=0.83, tfidf__ngram_range=(1, 1), tfidf__norm=l1, tfidf__sublinear_tf=False \n",
      "[CV] lrg__C=0.5, tfidf__max_df=0.83, tfidf__ngram_range=(1, 1), tfidf__norm=l1, tfidf__sublinear_tf=False \n",
      "[CV]  lrg__C=0.5, tfidf__max_df=0.83, tfidf__ngram_range=(1, 1), tfidf__norm=l1, tfidf__sublinear_tf=True, score=0.8197, total=   8.5s\n",
      "[CV]  lrg__C=0.5, tfidf__max_df=0.83, tfidf__ngram_range=(1, 1), tfidf__norm=l1, tfidf__sublinear_tf=True, score=0.8082, total=   8.4s\n"
     ]
    },
    {
     "name": "stderr",
     "output_type": "stream",
     "text": [
      "[Parallel(n_jobs=-1)]: Done  17 tasks      | elapsed:  1.9min\n"
     ]
    },
    {
     "name": "stdout",
     "output_type": "stream",
     "text": [
      "[CV] lrg__C=0.5, tfidf__max_df=0.83, tfidf__ngram_range=(1, 1), tfidf__norm=l2, tfidf__sublinear_tf=True \n",
      "[CV] lrg__C=0.5, tfidf__max_df=0.83, tfidf__ngram_range=(1, 1), tfidf__norm=l2, tfidf__sublinear_tf=True \n",
      "[CV]  lrg__C=0.5, tfidf__max_df=0.83, tfidf__ngram_range=(1, 1), tfidf__norm=l1, tfidf__sublinear_tf=False, score=0.7874, total=   8.5s\n",
      "[CV] lrg__C=0.5, tfidf__max_df=0.83, tfidf__ngram_range=(1, 1), tfidf__norm=l2, tfidf__sublinear_tf=False \n",
      "[CV]  lrg__C=0.5, tfidf__max_df=0.83, tfidf__ngram_range=(1, 1), tfidf__norm=l1, tfidf__sublinear_tf=False, score=0.7811, total=   8.4s\n",
      "[CV] lrg__C=0.5, tfidf__max_df=0.83, tfidf__ngram_range=(1, 1), tfidf__norm=l2, tfidf__sublinear_tf=False \n",
      "[CV]  lrg__C=0.5, tfidf__max_df=0.83, tfidf__ngram_range=(1, 1), tfidf__norm=l2, tfidf__sublinear_tf=True, score=0.8746, total=   7.4s\n",
      "[CV]  lrg__C=0.5, tfidf__max_df=0.83, tfidf__ngram_range=(1, 1), tfidf__norm=l2, tfidf__sublinear_tf=True, score=0.8723, total=   7.4s\n",
      "[CV] lrg__C=0.5, tfidf__max_df=0.83, tfidf__ngram_range=(1, 2), tfidf__norm=l1, tfidf__sublinear_tf=True \n",
      "[CV] lrg__C=0.5, tfidf__max_df=0.83, tfidf__ngram_range=(1, 2), tfidf__norm=l1, tfidf__sublinear_tf=True \n",
      "[CV]  lrg__C=0.5, tfidf__max_df=0.83, tfidf__ngram_range=(1, 1), tfidf__norm=l2, tfidf__sublinear_tf=False, score=0.8687, total=   7.5s\n",
      "[CV]  lrg__C=0.5, tfidf__max_df=0.83, tfidf__ngram_range=(1, 1), tfidf__norm=l2, tfidf__sublinear_tf=False, score=0.8673, total=   7.6s\n",
      "[CV] lrg__C=0.5, tfidf__max_df=0.83, tfidf__ngram_range=(1, 2), tfidf__norm=l1, tfidf__sublinear_tf=False \n"
     ]
    },
    {
     "name": "stderr",
     "output_type": "stream",
     "text": [
      "[Parallel(n_jobs=-1)]: Done  24 tasks      | elapsed:  2.1min\n"
     ]
    },
    {
     "name": "stdout",
     "output_type": "stream",
     "text": [
      "[CV] lrg__C=0.5, tfidf__max_df=0.83, tfidf__ngram_range=(1, 2), tfidf__norm=l1, tfidf__sublinear_tf=False \n",
      "[CV]  lrg__C=0.5, tfidf__max_df=0.83, tfidf__ngram_range=(1, 2), tfidf__norm=l1, tfidf__sublinear_tf=True, score=0.8391, total=  24.6s\n",
      "[CV] lrg__C=0.5, tfidf__max_df=0.83, tfidf__ngram_range=(1, 2), tfidf__norm=l2, tfidf__sublinear_tf=True \n",
      "[CV]  lrg__C=0.5, tfidf__max_df=0.83, tfidf__ngram_range=(1, 2), tfidf__norm=l1, tfidf__sublinear_tf=True, score=0.8455, total=  25.2s\n",
      "[CV] lrg__C=0.5, tfidf__max_df=0.83, tfidf__ngram_range=(1, 2), tfidf__norm=l2, tfidf__sublinear_tf=True \n",
      "[CV]  lrg__C=0.5, tfidf__max_df=0.83, tfidf__ngram_range=(1, 2), tfidf__norm=l1, tfidf__sublinear_tf=False, score=0.8072, total=  24.9s\n",
      "[CV]  lrg__C=0.5, tfidf__max_df=0.83, tfidf__ngram_range=(1, 2), tfidf__norm=l1, tfidf__sublinear_tf=False, score=0.8102, total=  25.3s\n",
      "[CV] lrg__C=0.5, tfidf__max_df=0.83, tfidf__ngram_range=(1, 2), tfidf__norm=l2, tfidf__sublinear_tf=False \n",
      "[CV] lrg__C=0.5, tfidf__max_df=0.83, tfidf__ngram_range=(1, 2), tfidf__norm=l2, tfidf__sublinear_tf=False \n",
      "[CV]  lrg__C=0.5, tfidf__max_df=0.83, tfidf__ngram_range=(1, 2), tfidf__norm=l2, tfidf__sublinear_tf=True, score=0.8721, total=  27.9s\n",
      "[CV]  lrg__C=0.5, tfidf__max_df=0.83, tfidf__ngram_range=(1, 2), tfidf__norm=l2, tfidf__sublinear_tf=True, score=0.8704, total=  28.7s\n",
      "[CV] lrg__C=0.5, tfidf__max_df=1, tfidf__ngram_range=(1, 1), tfidf__norm=l1, tfidf__sublinear_tf=True \n",
      "[CV] lrg__C=0.5, tfidf__max_df=1, tfidf__ngram_range=(1, 1), tfidf__norm=l1, tfidf__sublinear_tf=True \n",
      "[CV]  lrg__C=0.5, tfidf__max_df=0.83, tfidf__ngram_range=(1, 2), tfidf__norm=l2, tfidf__sublinear_tf=False, score=0.8637, total=  28.7s\n",
      "[CV]  lrg__C=0.5, tfidf__max_df=0.83, tfidf__ngram_range=(1, 2), tfidf__norm=l2, tfidf__sublinear_tf=False, score=0.8621, total=  29.1s\n",
      "[CV] lrg__C=0.5, tfidf__max_df=1, tfidf__ngram_range=(1, 1), tfidf__norm=l1, tfidf__sublinear_tf=False \n",
      "[CV] lrg__C=0.5, tfidf__max_df=1, tfidf__ngram_range=(1, 1), tfidf__norm=l1, tfidf__sublinear_tf=False \n",
      "[CV]  lrg__C=0.5, tfidf__max_df=1, tfidf__ngram_range=(1, 1), tfidf__norm=l1, tfidf__sublinear_tf=True, score=0.5569, total=   7.7s\n",
      "[CV]  lrg__C=0.5, tfidf__max_df=1, tfidf__ngram_range=(1, 1), tfidf__norm=l1, tfidf__sublinear_tf=True, score=0.5517, total=   7.5s\n",
      "[CV] lrg__C=0.5, tfidf__max_df=1, tfidf__ngram_range=(1, 1), tfidf__norm=l2, tfidf__sublinear_tf=True \n"
     ]
    },
    {
     "name": "stderr",
     "output_type": "stream",
     "text": [
      "[Parallel(n_jobs=-1)]: Done  33 tasks      | elapsed:  3.6min\n"
     ]
    },
    {
     "name": "stdout",
     "output_type": "stream",
     "text": [
      "[CV] lrg__C=0.5, tfidf__max_df=1, tfidf__ngram_range=(1, 1), tfidf__norm=l2, tfidf__sublinear_tf=True \n",
      "[CV]  lrg__C=0.5, tfidf__max_df=1, tfidf__ngram_range=(1, 1), tfidf__norm=l1, tfidf__sublinear_tf=False, score=0.5569, total=   7.1s\n",
      "[CV]  lrg__C=0.5, tfidf__max_df=1, tfidf__ngram_range=(1, 1), tfidf__norm=l1, tfidf__sublinear_tf=False, score=0.5519, total=   6.9s\n",
      "[CV] lrg__C=0.5, tfidf__max_df=1, tfidf__ngram_range=(1, 1), tfidf__norm=l2, tfidf__sublinear_tf=False \n",
      "[CV] lrg__C=0.5, tfidf__max_df=1, tfidf__ngram_range=(1, 1), tfidf__norm=l2, tfidf__sublinear_tf=False \n",
      "[CV]  lrg__C=0.5, tfidf__max_df=1, tfidf__ngram_range=(1, 1), tfidf__norm=l2, tfidf__sublinear_tf=True, score=0.5478, total=   6.3s\n",
      "[CV]  lrg__C=0.5, tfidf__max_df=1, tfidf__ngram_range=(1, 1), tfidf__norm=l2, tfidf__sublinear_tf=True, score=0.5601, total=   6.4s\n",
      "[CV] lrg__C=0.5, tfidf__max_df=1, tfidf__ngram_range=(1, 2), tfidf__norm=l1, tfidf__sublinear_tf=True \n",
      "[CV] lrg__C=0.5, tfidf__max_df=1, tfidf__ngram_range=(1, 2), tfidf__norm=l1, tfidf__sublinear_tf=True \n",
      "[CV]  lrg__C=0.5, tfidf__max_df=1, tfidf__ngram_range=(1, 1), tfidf__norm=l2, tfidf__sublinear_tf=False, score=0.5599, total=   6.5s\n",
      "[CV]  lrg__C=0.5, tfidf__max_df=1, tfidf__ngram_range=(1, 1), tfidf__norm=l2, tfidf__sublinear_tf=False, score=0.5492, total=   6.4s\n",
      "[CV] lrg__C=0.5, tfidf__max_df=1, tfidf__ngram_range=(1, 2), tfidf__norm=l1, tfidf__sublinear_tf=False \n",
      "[CV] lrg__C=0.5, tfidf__max_df=1, tfidf__ngram_range=(1, 2), tfidf__norm=l1, tfidf__sublinear_tf=False \n",
      "[CV]  lrg__C=0.5, tfidf__max_df=1, tfidf__ngram_range=(1, 2), tfidf__norm=l1, tfidf__sublinear_tf=True, score=0.6816, total=  20.2s\n",
      "[CV]  lrg__C=0.5, tfidf__max_df=1, tfidf__ngram_range=(1, 2), tfidf__norm=l1, tfidf__sublinear_tf=True, score=0.6878, total=  20.5s\n",
      "[CV] lrg__C=0.5, tfidf__max_df=1, tfidf__ngram_range=(1, 2), tfidf__norm=l2, tfidf__sublinear_tf=True \n"
     ]
    },
    {
     "name": "stderr",
     "output_type": "stream",
     "text": [
      "[Parallel(n_jobs=-1)]: Done  42 tasks      | elapsed:  4.2min\n"
     ]
    },
    {
     "name": "stdout",
     "output_type": "stream",
     "text": [
      "[CV] lrg__C=0.5, tfidf__max_df=1, tfidf__ngram_range=(1, 2), tfidf__norm=l2, tfidf__sublinear_tf=True \n",
      "[CV]  lrg__C=0.5, tfidf__max_df=1, tfidf__ngram_range=(1, 2), tfidf__norm=l1, tfidf__sublinear_tf=False, score=0.6826, total=  20.0s\n",
      "[CV]  lrg__C=0.5, tfidf__max_df=1, tfidf__ngram_range=(1, 2), tfidf__norm=l1, tfidf__sublinear_tf=False, score=0.6894, total=  20.5s\n",
      "[CV] lrg__C=0.5, tfidf__max_df=1, tfidf__ngram_range=(1, 2), tfidf__norm=l2, tfidf__sublinear_tf=False \n",
      "[CV] lrg__C=0.5, tfidf__max_df=1, tfidf__ngram_range=(1, 2), tfidf__norm=l2, tfidf__sublinear_tf=False \n",
      "[CV]  lrg__C=0.5, tfidf__max_df=1, tfidf__ngram_range=(1, 2), tfidf__norm=l2, tfidf__sublinear_tf=True, score=0.6985, total=  21.3s\n",
      "[CV]  lrg__C=0.5, tfidf__max_df=1, tfidf__ngram_range=(1, 2), tfidf__norm=l2, tfidf__sublinear_tf=True, score=0.7067, total=  21.8s\n",
      "[CV] lrg__C=1, tfidf__max_df=0.5, tfidf__ngram_range=(1, 1), tfidf__norm=l1, tfidf__sublinear_tf=True \n",
      "[CV] lrg__C=1, tfidf__max_df=0.5, tfidf__ngram_range=(1, 1), tfidf__norm=l1, tfidf__sublinear_tf=True \n",
      "[CV]  lrg__C=0.5, tfidf__max_df=1, tfidf__ngram_range=(1, 2), tfidf__norm=l2, tfidf__sublinear_tf=False, score=0.7081, total=  21.5s\n",
      "[CV]  lrg__C=0.5, tfidf__max_df=1, tfidf__ngram_range=(1, 2), tfidf__norm=l2, tfidf__sublinear_tf=False, score=0.6985, total=  21.2s\n",
      "[CV] lrg__C=1, tfidf__max_df=0.5, tfidf__ngram_range=(1, 1), tfidf__norm=l1, tfidf__sublinear_tf=False \n",
      "[CV] lrg__C=1, tfidf__max_df=0.5, tfidf__ngram_range=(1, 1), tfidf__norm=l1, tfidf__sublinear_tf=False \n",
      "[CV]  lrg__C=1, tfidf__max_df=0.5, tfidf__ngram_range=(1, 1), tfidf__norm=l1, tfidf__sublinear_tf=True, score=0.8359, total=   6.9s\n",
      "[CV] lrg__C=1, tfidf__max_df=0.5, tfidf__ngram_range=(1, 1), tfidf__norm=l2, tfidf__sublinear_tf=True \n",
      "[CV]  lrg__C=1, tfidf__max_df=0.5, tfidf__ngram_range=(1, 1), tfidf__norm=l1, tfidf__sublinear_tf=True, score=0.8278, total=   6.9s\n",
      "[CV] lrg__C=1, tfidf__max_df=0.5, tfidf__ngram_range=(1, 1), tfidf__norm=l2, tfidf__sublinear_tf=True \n",
      "[CV]  lrg__C=1, tfidf__max_df=0.5, tfidf__ngram_range=(1, 1), tfidf__norm=l1, tfidf__sublinear_tf=False, score=0.8239, total=   6.7s\n",
      "[CV] lrg__C=1, tfidf__max_df=0.5, tfidf__ngram_range=(1, 1), tfidf__norm=l2, tfidf__sublinear_tf=False \n",
      "[CV]  lrg__C=1, tfidf__max_df=0.5, tfidf__ngram_range=(1, 1), tfidf__norm=l1, tfidf__sublinear_tf=False, score=0.8168, total=   6.9s\n",
      "[CV] lrg__C=1, tfidf__max_df=0.5, tfidf__ngram_range=(1, 1), tfidf__norm=l2, tfidf__sublinear_tf=False \n",
      "[CV]  lrg__C=1, tfidf__max_df=0.5, tfidf__ngram_range=(1, 1), tfidf__norm=l2, tfidf__sublinear_tf=True, score=0.8801, total=   7.0s\n",
      "[CV]  lrg__C=1, tfidf__max_df=0.5, tfidf__ngram_range=(1, 1), tfidf__norm=l2, tfidf__sublinear_tf=True, score=0.8772, total=   6.9s\n",
      "[CV] lrg__C=1, tfidf__max_df=0.5, tfidf__ngram_range=(1, 2), tfidf__norm=l1, tfidf__sublinear_tf=True \n"
     ]
    },
    {
     "name": "stderr",
     "output_type": "stream",
     "text": [
      "[Parallel(n_jobs=-1)]: Done  53 tasks      | elapsed:  5.0min\n"
     ]
    },
    {
     "name": "stdout",
     "output_type": "stream",
     "text": [
      "[CV] lrg__C=1, tfidf__max_df=0.5, tfidf__ngram_range=(1, 2), tfidf__norm=l1, tfidf__sublinear_tf=True \n",
      "[CV]  lrg__C=1, tfidf__max_df=0.5, tfidf__ngram_range=(1, 1), tfidf__norm=l2, tfidf__sublinear_tf=False, score=0.8795, total=   7.0s\n",
      "[CV] lrg__C=1, tfidf__max_df=0.5, tfidf__ngram_range=(1, 2), tfidf__norm=l1, tfidf__sublinear_tf=False \n",
      "[CV]  lrg__C=1, tfidf__max_df=0.5, tfidf__ngram_range=(1, 1), tfidf__norm=l2, tfidf__sublinear_tf=False, score=0.8755, total=   6.9s\n",
      "[CV] lrg__C=1, tfidf__max_df=0.5, tfidf__ngram_range=(1, 2), tfidf__norm=l1, tfidf__sublinear_tf=False \n",
      "[CV]  lrg__C=1, tfidf__max_df=0.5, tfidf__ngram_range=(1, 2), tfidf__norm=l1, tfidf__sublinear_tf=True, score=0.848, total=  28.3s\n",
      "[CV]  lrg__C=1, tfidf__max_df=0.5, tfidf__ngram_range=(1, 2), tfidf__norm=l1, tfidf__sublinear_tf=True, score=0.8523, total=  28.5s\n",
      "[CV] lrg__C=1, tfidf__max_df=0.5, tfidf__ngram_range=(1, 2), tfidf__norm=l2, tfidf__sublinear_tf=True \n",
      "[CV] lrg__C=1, tfidf__max_df=0.5, tfidf__ngram_range=(1, 2), tfidf__norm=l2, tfidf__sublinear_tf=True \n",
      "[CV]  lrg__C=1, tfidf__max_df=0.5, tfidf__ngram_range=(1, 2), tfidf__norm=l1, tfidf__sublinear_tf=False, score=0.8375, total=  28.4s\n",
      "[CV]  lrg__C=1, tfidf__max_df=0.5, tfidf__ngram_range=(1, 2), tfidf__norm=l1, tfidf__sublinear_tf=False, score=0.8395, total=  28.8s\n",
      "[CV] lrg__C=1, tfidf__max_df=0.5, tfidf__ngram_range=(1, 2), tfidf__norm=l2, tfidf__sublinear_tf=False \n",
      "[CV] lrg__C=1, tfidf__max_df=0.5, tfidf__ngram_range=(1, 2), tfidf__norm=l2, tfidf__sublinear_tf=False \n",
      "[CV]  lrg__C=1, tfidf__max_df=0.5, tfidf__ngram_range=(1, 2), tfidf__norm=l2, tfidf__sublinear_tf=True, score=0.88, total=  28.5s\n",
      "[CV]  lrg__C=1, tfidf__max_df=0.5, tfidf__ngram_range=(1, 2), tfidf__norm=l2, tfidf__sublinear_tf=True, score=0.8824, total=  28.9s\n",
      "[CV] lrg__C=1, tfidf__max_df=0.83, tfidf__ngram_range=(1, 1), tfidf__norm=l1, tfidf__sublinear_tf=True \n",
      "[CV] lrg__C=1, tfidf__max_df=0.83, tfidf__ngram_range=(1, 1), tfidf__norm=l1, tfidf__sublinear_tf=True \n",
      "[CV]  lrg__C=1, tfidf__max_df=0.5, tfidf__ngram_range=(1, 2), tfidf__norm=l2, tfidf__sublinear_tf=False, score=0.8753, total=  28.5s\n",
      "[CV]  lrg__C=1, tfidf__max_df=0.5, tfidf__ngram_range=(1, 2), tfidf__norm=l2, tfidf__sublinear_tf=False, score=0.8788, total=  28.8s\n"
     ]
    },
    {
     "name": "stderr",
     "output_type": "stream",
     "text": [
      "[Parallel(n_jobs=-1)]: Done  64 tasks      | elapsed:  6.3min\n"
     ]
    },
    {
     "name": "stdout",
     "output_type": "stream",
     "text": [
      "[CV] lrg__C=1, tfidf__max_df=0.83, tfidf__ngram_range=(1, 1), tfidf__norm=l1, tfidf__sublinear_tf=False \n",
      "[CV] lrg__C=1, tfidf__max_df=0.83, tfidf__ngram_range=(1, 1), tfidf__norm=l1, tfidf__sublinear_tf=False \n",
      "[CV]  lrg__C=1, tfidf__max_df=0.83, tfidf__ngram_range=(1, 1), tfidf__norm=l1, tfidf__sublinear_tf=True, score=0.8246, total=   8.2s\n",
      "[CV]  lrg__C=1, tfidf__max_df=0.83, tfidf__ngram_range=(1, 1), tfidf__norm=l1, tfidf__sublinear_tf=True, score=0.8137, total=   8.0s\n",
      "[CV] lrg__C=1, tfidf__max_df=0.83, tfidf__ngram_range=(1, 1), tfidf__norm=l2, tfidf__sublinear_tf=True \n",
      "[CV] lrg__C=1, tfidf__max_df=0.83, tfidf__ngram_range=(1, 1), tfidf__norm=l2, tfidf__sublinear_tf=True \n",
      "[CV]  lrg__C=1, tfidf__max_df=0.83, tfidf__ngram_range=(1, 1), tfidf__norm=l1, tfidf__sublinear_tf=False, score=0.7964, total=   8.1s\n",
      "[CV]  lrg__C=1, tfidf__max_df=0.83, tfidf__ngram_range=(1, 1), tfidf__norm=l1, tfidf__sublinear_tf=False, score=0.7898, total=   8.0s\n",
      "[CV] lrg__C=1, tfidf__max_df=0.83, tfidf__ngram_range=(1, 1), tfidf__norm=l2, tfidf__sublinear_tf=False \n",
      "[CV] lrg__C=1, tfidf__max_df=0.83, tfidf__ngram_range=(1, 1), tfidf__norm=l2, tfidf__sublinear_tf=False \n",
      "[CV]  lrg__C=1, tfidf__max_df=0.83, tfidf__ngram_range=(1, 1), tfidf__norm=l2, tfidf__sublinear_tf=True, score=0.8798, total=   6.8s\n",
      "[CV]  lrg__C=1, tfidf__max_df=0.83, tfidf__ngram_range=(1, 1), tfidf__norm=l2, tfidf__sublinear_tf=True, score=0.877, total=   6.9s\n",
      "[CV] lrg__C=1, tfidf__max_df=0.83, tfidf__ngram_range=(1, 2), tfidf__norm=l1, tfidf__sublinear_tf=True \n",
      "[CV] lrg__C=1, tfidf__max_df=0.83, tfidf__ngram_range=(1, 2), tfidf__norm=l1, tfidf__sublinear_tf=True \n",
      "[CV]  lrg__C=1, tfidf__max_df=0.83, tfidf__ngram_range=(1, 1), tfidf__norm=l2, tfidf__sublinear_tf=False, score=0.8781, total=   6.6s\n",
      "[CV] lrg__C=1, tfidf__max_df=0.83, tfidf__ngram_range=(1, 2), tfidf__norm=l1, tfidf__sublinear_tf=False \n",
      "[CV]  lrg__C=1, tfidf__max_df=0.83, tfidf__ngram_range=(1, 1), tfidf__norm=l2, tfidf__sublinear_tf=False, score=0.8756, total=   6.6s\n",
      "[CV] lrg__C=1, tfidf__max_df=0.83, tfidf__ngram_range=(1, 2), tfidf__norm=l1, tfidf__sublinear_tf=False \n",
      "[CV]  lrg__C=1, tfidf__max_df=0.83, tfidf__ngram_range=(1, 2), tfidf__norm=l1, tfidf__sublinear_tf=True, score=0.8397, total=  22.3s\n",
      "[CV] lrg__C=1, tfidf__max_df=0.83, tfidf__ngram_range=(1, 2), tfidf__norm=l2, tfidf__sublinear_tf=True \n",
      "[CV]  lrg__C=1, tfidf__max_df=0.83, tfidf__ngram_range=(1, 2), tfidf__norm=l1, tfidf__sublinear_tf=True, score=0.8458, total=  22.7s\n",
      "[CV] lrg__C=1, tfidf__max_df=0.83, tfidf__ngram_range=(1, 2), tfidf__norm=l2, tfidf__sublinear_tf=True \n",
      "[CV]  lrg__C=1, tfidf__max_df=0.83, tfidf__ngram_range=(1, 2), tfidf__norm=l1, tfidf__sublinear_tf=False, score=0.8082, total=  22.4s\n",
      "[CV]  lrg__C=1, tfidf__max_df=0.83, tfidf__ngram_range=(1, 2), tfidf__norm=l1, tfidf__sublinear_tf=False, score=0.8115, total=  22.8s\n",
      "[CV] lrg__C=1, tfidf__max_df=0.83, tfidf__ngram_range=(1, 2), tfidf__norm=l2, tfidf__sublinear_tf=False \n",
      "[CV] lrg__C=1, tfidf__max_df=0.83, tfidf__ngram_range=(1, 2), tfidf__norm=l2, tfidf__sublinear_tf=False \n",
      "[CV]  lrg__C=1, tfidf__max_df=0.83, tfidf__ngram_range=(1, 2), tfidf__norm=l2, tfidf__sublinear_tf=True, score=0.8796, total=  31.3s\n",
      "[CV]  lrg__C=1, tfidf__max_df=0.83, tfidf__ngram_range=(1, 2), tfidf__norm=l2, tfidf__sublinear_tf=True, score=0.8806, total=  32.2s\n"
     ]
    },
    {
     "name": "stderr",
     "output_type": "stream",
     "text": [
      "[Parallel(n_jobs=-1)]: Done  77 tasks      | elapsed:  7.9min\n"
     ]
    },
    {
     "name": "stdout",
     "output_type": "stream",
     "text": [
      "[CV] lrg__C=1, tfidf__max_df=1, tfidf__ngram_range=(1, 1), tfidf__norm=l1, tfidf__sublinear_tf=True \n",
      "[CV] lrg__C=1, tfidf__max_df=1, tfidf__ngram_range=(1, 1), tfidf__norm=l1, tfidf__sublinear_tf=True \n",
      "[CV]  lrg__C=1, tfidf__max_df=0.83, tfidf__ngram_range=(1, 2), tfidf__norm=l2, tfidf__sublinear_tf=False, score=0.8737, total=  31.9s\n",
      "[CV]  lrg__C=1, tfidf__max_df=0.83, tfidf__ngram_range=(1, 2), tfidf__norm=l2, tfidf__sublinear_tf=False, score=0.8753, total=  32.1s\n",
      "[CV] lrg__C=1, tfidf__max_df=1, tfidf__ngram_range=(1, 1), tfidf__norm=l1, tfidf__sublinear_tf=False \n",
      "[CV] lrg__C=1, tfidf__max_df=1, tfidf__ngram_range=(1, 1), tfidf__norm=l1, tfidf__sublinear_tf=False \n",
      "[CV]  lrg__C=1, tfidf__max_df=1, tfidf__ngram_range=(1, 1), tfidf__norm=l1, tfidf__sublinear_tf=True, score=0.5569, total=   6.2s\n",
      "[CV] lrg__C=1, tfidf__max_df=1, tfidf__ngram_range=(1, 1), tfidf__norm=l2, tfidf__sublinear_tf=True \n",
      "[CV]  lrg__C=1, tfidf__max_df=1, tfidf__ngram_range=(1, 1), tfidf__norm=l1, tfidf__sublinear_tf=True, score=0.5523, total=   6.2s\n",
      "[CV] lrg__C=1, tfidf__max_df=1, tfidf__ngram_range=(1, 1), tfidf__norm=l2, tfidf__sublinear_tf=True \n",
      "[CV]  lrg__C=1, tfidf__max_df=1, tfidf__ngram_range=(1, 1), tfidf__norm=l1, tfidf__sublinear_tf=False, score=0.5571, total=   6.1s\n",
      "[CV]  lrg__C=1, tfidf__max_df=1, tfidf__ngram_range=(1, 1), tfidf__norm=l1, tfidf__sublinear_tf=False, score=0.5525, total=   6.0s\n",
      "[CV] lrg__C=1, tfidf__max_df=1, tfidf__ngram_range=(1, 1), tfidf__norm=l2, tfidf__sublinear_tf=False \n",
      "[CV] lrg__C=1, tfidf__max_df=1, tfidf__ngram_range=(1, 1), tfidf__norm=l2, tfidf__sublinear_tf=False \n",
      "[CV]  lrg__C=1, tfidf__max_df=1, tfidf__ngram_range=(1, 1), tfidf__norm=l2, tfidf__sublinear_tf=True, score=0.5601, total=   6.1s\n",
      "[CV]  lrg__C=1, tfidf__max_df=1, tfidf__ngram_range=(1, 1), tfidf__norm=l2, tfidf__sublinear_tf=True, score=0.5478, total=   6.1s\n",
      "[CV] lrg__C=1, tfidf__max_df=1, tfidf__ngram_range=(1, 2), tfidf__norm=l1, tfidf__sublinear_tf=True \n",
      "[CV] lrg__C=1, tfidf__max_df=1, tfidf__ngram_range=(1, 2), tfidf__norm=l1, tfidf__sublinear_tf=True \n",
      "[CV]  lrg__C=1, tfidf__max_df=1, tfidf__ngram_range=(1, 1), tfidf__norm=l2, tfidf__sublinear_tf=False, score=0.5599, total=   6.1s\n",
      "[CV]  lrg__C=1, tfidf__max_df=1, tfidf__ngram_range=(1, 1), tfidf__norm=l2, tfidf__sublinear_tf=False, score=0.5492, total=   6.1s\n",
      "[CV] lrg__C=1, tfidf__max_df=1, tfidf__ngram_range=(1, 2), tfidf__norm=l1, tfidf__sublinear_tf=False \n",
      "[CV] lrg__C=1, tfidf__max_df=1, tfidf__ngram_range=(1, 2), tfidf__norm=l1, tfidf__sublinear_tf=False \n",
      "[CV]  lrg__C=1, tfidf__max_df=1, tfidf__ngram_range=(1, 2), tfidf__norm=l1, tfidf__sublinear_tf=True, score=0.6811, total=  19.4s\n",
      "[CV]  lrg__C=1, tfidf__max_df=1, tfidf__ngram_range=(1, 2), tfidf__norm=l1, tfidf__sublinear_tf=True, score=0.6878, total=  19.6s\n"
     ]
    },
    {
     "name": "stderr",
     "output_type": "stream",
     "text": [
      "[Parallel(n_jobs=-1)]: Done  90 tasks      | elapsed:  8.6min\n"
     ]
    },
    {
     "name": "stdout",
     "output_type": "stream",
     "text": [
      "[CV] lrg__C=1, tfidf__max_df=1, tfidf__ngram_range=(1, 2), tfidf__norm=l2, tfidf__sublinear_tf=True \n",
      "[CV] lrg__C=1, tfidf__max_df=1, tfidf__ngram_range=(1, 2), tfidf__norm=l2, tfidf__sublinear_tf=True \n",
      "[CV]  lrg__C=1, tfidf__max_df=1, tfidf__ngram_range=(1, 2), tfidf__norm=l1, tfidf__sublinear_tf=False, score=0.6827, total=  19.2s\n",
      "[CV]  lrg__C=1, tfidf__max_df=1, tfidf__ngram_range=(1, 2), tfidf__norm=l1, tfidf__sublinear_tf=False, score=0.6895, total=  19.5s\n",
      "[CV] lrg__C=1, tfidf__max_df=1, tfidf__ngram_range=(1, 2), tfidf__norm=l2, tfidf__sublinear_tf=False \n",
      "[CV] lrg__C=1, tfidf__max_df=1, tfidf__ngram_range=(1, 2), tfidf__norm=l2, tfidf__sublinear_tf=False \n",
      "[CV]  lrg__C=1, tfidf__max_df=1, tfidf__ngram_range=(1, 2), tfidf__norm=l2, tfidf__sublinear_tf=True, score=0.7067, total=  19.3s\n",
      "[CV]  lrg__C=1, tfidf__max_df=1, tfidf__ngram_range=(1, 2), tfidf__norm=l2, tfidf__sublinear_tf=True, score=0.6984, total=  19.3s\n",
      "[CV] lrg__C=66, tfidf__max_df=0.5, tfidf__ngram_range=(1, 1), tfidf__norm=l1, tfidf__sublinear_tf=True \n",
      "[CV] lrg__C=66, tfidf__max_df=0.5, tfidf__ngram_range=(1, 1), tfidf__norm=l1, tfidf__sublinear_tf=True \n",
      "[CV]  lrg__C=1, tfidf__max_df=1, tfidf__ngram_range=(1, 2), tfidf__norm=l2, tfidf__sublinear_tf=False, score=0.6984, total=  19.2s\n",
      "[CV]  lrg__C=1, tfidf__max_df=1, tfidf__ngram_range=(1, 2), tfidf__norm=l2, tfidf__sublinear_tf=False, score=0.7081, total=  19.5s\n",
      "[CV] lrg__C=66, tfidf__max_df=0.5, tfidf__ngram_range=(1, 1), tfidf__norm=l1, tfidf__sublinear_tf=False \n",
      "[CV] lrg__C=66, tfidf__max_df=0.5, tfidf__ngram_range=(1, 1), tfidf__norm=l1, tfidf__sublinear_tf=False \n",
      "[CV]  lrg__C=66, tfidf__max_df=0.5, tfidf__ngram_range=(1, 1), tfidf__norm=l1, tfidf__sublinear_tf=True, score=0.879, total=   8.1s\n",
      "[CV] lrg__C=66, tfidf__max_df=0.5, tfidf__ngram_range=(1, 1), tfidf__norm=l2, tfidf__sublinear_tf=True \n",
      "[CV]  lrg__C=66, tfidf__max_df=0.5, tfidf__ngram_range=(1, 1), tfidf__norm=l1, tfidf__sublinear_tf=True, score=0.8754, total=   8.3s\n",
      "[CV] lrg__C=66, tfidf__max_df=0.5, tfidf__ngram_range=(1, 1), tfidf__norm=l2, tfidf__sublinear_tf=True \n",
      "[CV]  lrg__C=66, tfidf__max_df=0.5, tfidf__ngram_range=(1, 1), tfidf__norm=l1, tfidf__sublinear_tf=False, score=0.8778, total=   8.4s\n",
      "[CV] lrg__C=66, tfidf__max_df=0.5, tfidf__ngram_range=(1, 1), tfidf__norm=l2, tfidf__sublinear_tf=False \n",
      "[CV]  lrg__C=66, tfidf__max_df=0.5, tfidf__ngram_range=(1, 1), tfidf__norm=l1, tfidf__sublinear_tf=False, score=0.8738, total=   8.4s\n",
      "[CV] lrg__C=66, tfidf__max_df=0.5, tfidf__ngram_range=(1, 1), tfidf__norm=l2, tfidf__sublinear_tf=False \n",
      "[CV]  lrg__C=66, tfidf__max_df=0.5, tfidf__ngram_range=(1, 1), tfidf__norm=l2, tfidf__sublinear_tf=True, score=0.8811, total=   8.5s\n",
      "[CV] lrg__C=66, tfidf__max_df=0.5, tfidf__ngram_range=(1, 2), tfidf__norm=l1, tfidf__sublinear_tf=True \n",
      "[CV]  lrg__C=66, tfidf__max_df=0.5, tfidf__ngram_range=(1, 1), tfidf__norm=l2, tfidf__sublinear_tf=True, score=0.8791, total=   8.4s\n",
      "[CV] lrg__C=66, tfidf__max_df=0.5, tfidf__ngram_range=(1, 2), tfidf__norm=l1, tfidf__sublinear_tf=True \n",
      "[CV]  lrg__C=66, tfidf__max_df=0.5, tfidf__ngram_range=(1, 1), tfidf__norm=l2, tfidf__sublinear_tf=False, score=0.883, total=   8.5s\n",
      "[CV]  lrg__C=66, tfidf__max_df=0.5, tfidf__ngram_range=(1, 1), tfidf__norm=l2, tfidf__sublinear_tf=False, score=0.8765, total=   8.5s\n",
      "[CV] lrg__C=66, tfidf__max_df=0.5, tfidf__ngram_range=(1, 2), tfidf__norm=l1, tfidf__sublinear_tf=False \n",
      "[CV] lrg__C=66, tfidf__max_df=0.5, tfidf__ngram_range=(1, 2), tfidf__norm=l1, tfidf__sublinear_tf=False \n",
      "[CV]  lrg__C=66, tfidf__max_df=0.5, tfidf__ngram_range=(1, 2), tfidf__norm=l1, tfidf__sublinear_tf=True, score=0.8704, total=  26.5s\n"
     ]
    },
    {
     "name": "stderr",
     "output_type": "stream",
     "text": [
      "[Parallel(n_jobs=-1)]: Done 105 tasks      | elapsed: 10.1min\n"
     ]
    },
    {
     "name": "stdout",
     "output_type": "stream",
     "text": [
      "[CV] lrg__C=66, tfidf__max_df=0.5, tfidf__ngram_range=(1, 2), tfidf__norm=l2, tfidf__sublinear_tf=True \n",
      "[CV]  lrg__C=66, tfidf__max_df=0.5, tfidf__ngram_range=(1, 2), tfidf__norm=l1, tfidf__sublinear_tf=True, score=0.8725, total=  27.1s\n",
      "[CV] lrg__C=66, tfidf__max_df=0.5, tfidf__ngram_range=(1, 2), tfidf__norm=l2, tfidf__sublinear_tf=True \n",
      "[CV]  lrg__C=66, tfidf__max_df=0.5, tfidf__ngram_range=(1, 2), tfidf__norm=l1, tfidf__sublinear_tf=False, score=0.8631, total=  26.4s\n",
      "[CV]  lrg__C=66, tfidf__max_df=0.5, tfidf__ngram_range=(1, 2), tfidf__norm=l1, tfidf__sublinear_tf=False, score=0.8668, total=  26.7s\n",
      "[CV] lrg__C=66, tfidf__max_df=0.5, tfidf__ngram_range=(1, 2), tfidf__norm=l2, tfidf__sublinear_tf=False \n",
      "[CV] lrg__C=66, tfidf__max_df=0.5, tfidf__ngram_range=(1, 2), tfidf__norm=l2, tfidf__sublinear_tf=False \n",
      "[CV]  lrg__C=66, tfidf__max_df=0.5, tfidf__ngram_range=(1, 2), tfidf__norm=l2, tfidf__sublinear_tf=True, score=0.8958, total=  28.8s\n",
      "[CV] lrg__C=66, tfidf__max_df=0.83, tfidf__ngram_range=(1, 1), tfidf__norm=l1, tfidf__sublinear_tf=True \n",
      "[CV]  lrg__C=66, tfidf__max_df=0.5, tfidf__ngram_range=(1, 2), tfidf__norm=l2, tfidf__sublinear_tf=True, score=0.8957, total=  29.4s\n",
      "[CV] lrg__C=66, tfidf__max_df=0.83, tfidf__ngram_range=(1, 1), tfidf__norm=l1, tfidf__sublinear_tf=True \n",
      "[CV]  lrg__C=66, tfidf__max_df=0.5, tfidf__ngram_range=(1, 2), tfidf__norm=l2, tfidf__sublinear_tf=False, score=0.8942, total=  29.3s\n",
      "[CV]  lrg__C=66, tfidf__max_df=0.5, tfidf__ngram_range=(1, 2), tfidf__norm=l2, tfidf__sublinear_tf=False, score=0.8962, total=  29.8s\n",
      "[CV] lrg__C=66, tfidf__max_df=0.83, tfidf__ngram_range=(1, 1), tfidf__norm=l1, tfidf__sublinear_tf=False \n",
      "[CV] lrg__C=66, tfidf__max_df=0.83, tfidf__ngram_range=(1, 1), tfidf__norm=l1, tfidf__sublinear_tf=False \n",
      "[CV]  lrg__C=66, tfidf__max_df=0.83, tfidf__ngram_range=(1, 1), tfidf__norm=l1, tfidf__sublinear_tf=True, score=0.8785, total=   7.3s\n",
      "[CV] lrg__C=66, tfidf__max_df=0.83, tfidf__ngram_range=(1, 1), tfidf__norm=l2, tfidf__sublinear_tf=True \n",
      "[CV]  lrg__C=66, tfidf__max_df=0.83, tfidf__ngram_range=(1, 1), tfidf__norm=l1, tfidf__sublinear_tf=True, score=0.875, total=   7.2s\n",
      "[CV] lrg__C=66, tfidf__max_df=0.83, tfidf__ngram_range=(1, 1), tfidf__norm=l2, tfidf__sublinear_tf=True \n",
      "[CV]  lrg__C=66, tfidf__max_df=0.83, tfidf__ngram_range=(1, 1), tfidf__norm=l1, tfidf__sublinear_tf=False, score=0.8752, total=   7.0s\n",
      "[CV] lrg__C=66, tfidf__max_df=0.83, tfidf__ngram_range=(1, 1), tfidf__norm=l2, tfidf__sublinear_tf=False \n",
      "[CV]  lrg__C=66, tfidf__max_df=0.83, tfidf__ngram_range=(1, 1), tfidf__norm=l1, tfidf__sublinear_tf=False, score=0.8727, total=   7.1s\n",
      "[CV] lrg__C=66, tfidf__max_df=0.83, tfidf__ngram_range=(1, 1), tfidf__norm=l2, tfidf__sublinear_tf=False \n",
      "[CV]  lrg__C=66, tfidf__max_df=0.83, tfidf__ngram_range=(1, 1), tfidf__norm=l2, tfidf__sublinear_tf=True, score=0.8848, total=   7.7s\n",
      "[CV]  lrg__C=66, tfidf__max_df=0.83, tfidf__ngram_range=(1, 1), tfidf__norm=l2, tfidf__sublinear_tf=True, score=0.8796, total=   7.7s\n",
      "[CV] lrg__C=66, tfidf__max_df=0.83, tfidf__ngram_range=(1, 2), tfidf__norm=l1, tfidf__sublinear_tf=True \n",
      "[CV] lrg__C=66, tfidf__max_df=0.83, tfidf__ngram_range=(1, 2), tfidf__norm=l1, tfidf__sublinear_tf=True \n",
      "[CV]  lrg__C=66, tfidf__max_df=0.83, tfidf__ngram_range=(1, 1), tfidf__norm=l2, tfidf__sublinear_tf=False, score=0.8826, total=   7.9s\n",
      "[CV]  lrg__C=66, tfidf__max_df=0.83, tfidf__ngram_range=(1, 1), tfidf__norm=l2, tfidf__sublinear_tf=False, score=0.8771, total=   7.6s\n",
      "[CV] lrg__C=66, tfidf__max_df=0.83, tfidf__ngram_range=(1, 2), tfidf__norm=l1, tfidf__sublinear_tf=False \n"
     ]
    },
    {
     "name": "stderr",
     "output_type": "stream",
     "text": [
      "[Parallel(n_jobs=-1)]: Done 120 tasks      | elapsed: 11.1min\n"
     ]
    },
    {
     "name": "stdout",
     "output_type": "stream",
     "text": [
      "[CV] lrg__C=66, tfidf__max_df=0.83, tfidf__ngram_range=(1, 2), tfidf__norm=l1, tfidf__sublinear_tf=False \n",
      "[CV]  lrg__C=66, tfidf__max_df=0.83, tfidf__ngram_range=(1, 2), tfidf__norm=l1, tfidf__sublinear_tf=True, score=0.8682, total=  30.3s\n",
      "[CV] lrg__C=66, tfidf__max_df=0.83, tfidf__ngram_range=(1, 2), tfidf__norm=l2, tfidf__sublinear_tf=True \n",
      "[CV]  lrg__C=66, tfidf__max_df=0.83, tfidf__ngram_range=(1, 2), tfidf__norm=l1, tfidf__sublinear_tf=True, score=0.8705, total=  30.6s\n",
      "[CV] lrg__C=66, tfidf__max_df=0.83, tfidf__ngram_range=(1, 2), tfidf__norm=l2, tfidf__sublinear_tf=True \n",
      "[CV]  lrg__C=66, tfidf__max_df=0.83, tfidf__ngram_range=(1, 2), tfidf__norm=l1, tfidf__sublinear_tf=False, score=0.8553, total=  30.6s\n",
      "[CV]  lrg__C=66, tfidf__max_df=0.83, tfidf__ngram_range=(1, 2), tfidf__norm=l1, tfidf__sublinear_tf=False, score=0.8588, total=  30.9s\n",
      "[CV] lrg__C=66, tfidf__max_df=0.83, tfidf__ngram_range=(1, 2), tfidf__norm=l2, tfidf__sublinear_tf=False \n",
      "[CV] lrg__C=66, tfidf__max_df=0.83, tfidf__ngram_range=(1, 2), tfidf__norm=l2, tfidf__sublinear_tf=False \n",
      "[CV]  lrg__C=66, tfidf__max_df=0.83, tfidf__ngram_range=(1, 2), tfidf__norm=l2, tfidf__sublinear_tf=True, score=0.8972, total=  31.2s\n",
      "[CV]  lrg__C=66, tfidf__max_df=0.83, tfidf__ngram_range=(1, 2), tfidf__norm=l2, tfidf__sublinear_tf=True, score=0.896, total=  31.7s\n",
      "[CV] lrg__C=66, tfidf__max_df=1, tfidf__ngram_range=(1, 1), tfidf__norm=l1, tfidf__sublinear_tf=True \n",
      "[CV] lrg__C=66, tfidf__max_df=1, tfidf__ngram_range=(1, 1), tfidf__norm=l1, tfidf__sublinear_tf=True \n",
      "[CV]  lrg__C=66, tfidf__max_df=0.83, tfidf__ngram_range=(1, 2), tfidf__norm=l2, tfidf__sublinear_tf=False, score=0.8946, total=  31.2s\n",
      "[CV]  lrg__C=66, tfidf__max_df=0.83, tfidf__ngram_range=(1, 2), tfidf__norm=l2, tfidf__sublinear_tf=False, score=0.8939, total=  31.7s\n",
      "[CV] lrg__C=66, tfidf__max_df=1, tfidf__ngram_range=(1, 1), tfidf__norm=l1, tfidf__sublinear_tf=False \n",
      "[CV] lrg__C=66, tfidf__max_df=1, tfidf__ngram_range=(1, 1), tfidf__norm=l1, tfidf__sublinear_tf=False \n",
      "[CV]  lrg__C=66, tfidf__max_df=1, tfidf__ngram_range=(1, 1), tfidf__norm=l1, tfidf__sublinear_tf=True, score=0.5607, total=   6.2s\n",
      "[CV] lrg__C=66, tfidf__max_df=1, tfidf__ngram_range=(1, 1), tfidf__norm=l2, tfidf__sublinear_tf=True \n",
      "[CV]  lrg__C=66, tfidf__max_df=1, tfidf__ngram_range=(1, 1), tfidf__norm=l1, tfidf__sublinear_tf=True, score=0.5537, total=   6.2s\n",
      "[CV] lrg__C=66, tfidf__max_df=1, tfidf__ngram_range=(1, 1), tfidf__norm=l2, tfidf__sublinear_tf=True \n",
      "[CV]  lrg__C=66, tfidf__max_df=1, tfidf__ngram_range=(1, 1), tfidf__norm=l1, tfidf__sublinear_tf=False, score=0.5601, total=   6.6s\n",
      "[CV] lrg__C=66, tfidf__max_df=1, tfidf__ngram_range=(1, 1), tfidf__norm=l2, tfidf__sublinear_tf=False \n",
      "[CV]  lrg__C=66, tfidf__max_df=1, tfidf__ngram_range=(1, 1), tfidf__norm=l1, tfidf__sublinear_tf=False, score=0.5554, total=   6.7s\n",
      "[CV] lrg__C=66, tfidf__max_df=1, tfidf__ngram_range=(1, 1), tfidf__norm=l2, tfidf__sublinear_tf=False \n",
      "[CV]  lrg__C=66, tfidf__max_df=1, tfidf__ngram_range=(1, 1), tfidf__norm=l2, tfidf__sublinear_tf=True, score=0.5597, total=   7.9s\n",
      "[CV]  lrg__C=66, tfidf__max_df=1, tfidf__ngram_range=(1, 1), tfidf__norm=l2, tfidf__sublinear_tf=True, score=0.5481, total=   7.7s\n",
      "[CV] lrg__C=66, tfidf__max_df=1, tfidf__ngram_range=(1, 2), tfidf__norm=l1, tfidf__sublinear_tf=True \n",
      "[CV] lrg__C=66, tfidf__max_df=1, tfidf__ngram_range=(1, 2), tfidf__norm=l1, tfidf__sublinear_tf=True \n",
      "[CV]  lrg__C=66, tfidf__max_df=1, tfidf__ngram_range=(1, 1), tfidf__norm=l2, tfidf__sublinear_tf=False, score=0.5593, total=   7.5s\n",
      "[CV] lrg__C=66, tfidf__max_df=1, tfidf__ngram_range=(1, 2), tfidf__norm=l1, tfidf__sublinear_tf=False \n",
      "[CV]  lrg__C=66, tfidf__max_df=1, tfidf__ngram_range=(1, 1), tfidf__norm=l2, tfidf__sublinear_tf=False, score=0.5495, total=   7.4s\n",
      "[CV] lrg__C=66, tfidf__max_df=1, tfidf__ngram_range=(1, 2), tfidf__norm=l1, tfidf__sublinear_tf=False \n",
      "[CV]  lrg__C=66, tfidf__max_df=1, tfidf__ngram_range=(1, 2), tfidf__norm=l1, tfidf__sublinear_tf=True, score=0.6925, total=  21.5s\n"
     ]
    },
    {
     "name": "stderr",
     "output_type": "stream",
     "text": [
      "[Parallel(n_jobs=-1)]: Done 137 tasks      | elapsed: 13.3min\n"
     ]
    },
    {
     "name": "stdout",
     "output_type": "stream",
     "text": [
      "[CV]  lrg__C=66, tfidf__max_df=1, tfidf__ngram_range=(1, 2), tfidf__norm=l1, tfidf__sublinear_tf=True, score=0.6979, total=  21.8s\n",
      "[CV] lrg__C=66, tfidf__max_df=1, tfidf__ngram_range=(1, 2), tfidf__norm=l2, tfidf__sublinear_tf=True \n",
      "[CV] lrg__C=66, tfidf__max_df=1, tfidf__ngram_range=(1, 2), tfidf__norm=l2, tfidf__sublinear_tf=True \n",
      "[CV]  lrg__C=66, tfidf__max_df=1, tfidf__ngram_range=(1, 2), tfidf__norm=l1, tfidf__sublinear_tf=False, score=0.6989, total=  22.8s\n",
      "[CV]  lrg__C=66, tfidf__max_df=1, tfidf__ngram_range=(1, 2), tfidf__norm=l1, tfidf__sublinear_tf=False, score=0.6944, total=  22.7s\n",
      "[CV] lrg__C=66, tfidf__max_df=1, tfidf__ngram_range=(1, 2), tfidf__norm=l2, tfidf__sublinear_tf=False \n",
      "[CV] lrg__C=66, tfidf__max_df=1, tfidf__ngram_range=(1, 2), tfidf__norm=l2, tfidf__sublinear_tf=False \n",
      "[CV]  lrg__C=66, tfidf__max_df=1, tfidf__ngram_range=(1, 2), tfidf__norm=l2, tfidf__sublinear_tf=True, score=0.7059, total=  21.8s\n",
      "[CV] lrg__C=6666, tfidf__max_df=0.5, tfidf__ngram_range=(1, 1), tfidf__norm=l1, tfidf__sublinear_tf=True \n",
      "[CV]  lrg__C=66, tfidf__max_df=1, tfidf__ngram_range=(1, 2), tfidf__norm=l2, tfidf__sublinear_tf=True, score=0.697, total=  21.7s\n",
      "[CV] lrg__C=6666, tfidf__max_df=0.5, tfidf__ngram_range=(1, 1), tfidf__norm=l1, tfidf__sublinear_tf=True \n",
      "[CV]  lrg__C=66, tfidf__max_df=1, tfidf__ngram_range=(1, 2), tfidf__norm=l2, tfidf__sublinear_tf=False, score=0.6984, total=  21.1s\n",
      "[CV]  lrg__C=66, tfidf__max_df=1, tfidf__ngram_range=(1, 2), tfidf__norm=l2, tfidf__sublinear_tf=False, score=0.7074, total=  21.5s\n",
      "[CV] lrg__C=6666, tfidf__max_df=0.5, tfidf__ngram_range=(1, 1), tfidf__norm=l1, tfidf__sublinear_tf=False \n",
      "[CV] lrg__C=6666, tfidf__max_df=0.5, tfidf__ngram_range=(1, 1), tfidf__norm=l1, tfidf__sublinear_tf=False \n",
      "[CV]  lrg__C=6666, tfidf__max_df=0.5, tfidf__ngram_range=(1, 1), tfidf__norm=l1, tfidf__sublinear_tf=True, score=0.8839, total=   7.9s\n",
      "[CV] lrg__C=6666, tfidf__max_df=0.5, tfidf__ngram_range=(1, 1), tfidf__norm=l2, tfidf__sublinear_tf=True \n",
      "[CV]  lrg__C=6666, tfidf__max_df=0.5, tfidf__ngram_range=(1, 1), tfidf__norm=l1, tfidf__sublinear_tf=True, score=0.8788, total=   7.9s\n",
      "[CV] lrg__C=6666, tfidf__max_df=0.5, tfidf__ngram_range=(1, 1), tfidf__norm=l2, tfidf__sublinear_tf=True \n",
      "[CV]  lrg__C=6666, tfidf__max_df=0.5, tfidf__ngram_range=(1, 1), tfidf__norm=l1, tfidf__sublinear_tf=False, score=0.8815, total=   7.6s\n",
      "[CV] lrg__C=6666, tfidf__max_df=0.5, tfidf__ngram_range=(1, 1), tfidf__norm=l2, tfidf__sublinear_tf=False \n",
      "[CV]  lrg__C=6666, tfidf__max_df=0.5, tfidf__ngram_range=(1, 1), tfidf__norm=l1, tfidf__sublinear_tf=False, score=0.8764, total=   7.7s\n",
      "[CV] lrg__C=6666, tfidf__max_df=0.5, tfidf__ngram_range=(1, 1), tfidf__norm=l2, tfidf__sublinear_tf=False \n",
      "[CV]  lrg__C=6666, tfidf__max_df=0.5, tfidf__ngram_range=(1, 1), tfidf__norm=l2, tfidf__sublinear_tf=True, score=0.8787, total=   8.0s\n",
      "[CV] lrg__C=6666, tfidf__max_df=0.5, tfidf__ngram_range=(1, 2), tfidf__norm=l1, tfidf__sublinear_tf=True \n",
      "[CV]  lrg__C=6666, tfidf__max_df=0.5, tfidf__ngram_range=(1, 1), tfidf__norm=l2, tfidf__sublinear_tf=True, score=0.8752, total=   8.4s\n",
      "[CV] lrg__C=6666, tfidf__max_df=0.5, tfidf__ngram_range=(1, 2), tfidf__norm=l1, tfidf__sublinear_tf=True \n",
      "[CV]  lrg__C=6666, tfidf__max_df=0.5, tfidf__ngram_range=(1, 1), tfidf__norm=l2, tfidf__sublinear_tf=False, score=0.8767, total=   8.5s\n",
      "[CV] lrg__C=6666, tfidf__max_df=0.5, tfidf__ngram_range=(1, 2), tfidf__norm=l1, tfidf__sublinear_tf=False \n",
      "[CV]  lrg__C=6666, tfidf__max_df=0.5, tfidf__ngram_range=(1, 1), tfidf__norm=l2, tfidf__sublinear_tf=False, score=0.8715, total=   8.6s\n",
      "[CV] lrg__C=6666, tfidf__max_df=0.5, tfidf__ngram_range=(1, 2), tfidf__norm=l1, tfidf__sublinear_tf=False \n",
      "[CV]  lrg__C=6666, tfidf__max_df=0.5, tfidf__ngram_range=(1, 2), tfidf__norm=l1, tfidf__sublinear_tf=True, score=0.893, total=  30.0s\n",
      "[CV]  lrg__C=6666, tfidf__max_df=0.5, tfidf__ngram_range=(1, 2), tfidf__norm=l1, tfidf__sublinear_tf=True, score=0.8959, total=  30.5s\n"
     ]
    },
    {
     "name": "stderr",
     "output_type": "stream",
     "text": [
      "[Parallel(n_jobs=-1)]: Done 154 tasks      | elapsed: 14.8min\n"
     ]
    },
    {
     "name": "stdout",
     "output_type": "stream",
     "text": [
      "[CV] lrg__C=6666, tfidf__max_df=0.5, tfidf__ngram_range=(1, 2), tfidf__norm=l2, tfidf__sublinear_tf=True \n",
      "[CV] lrg__C=6666, tfidf__max_df=0.5, tfidf__ngram_range=(1, 2), tfidf__norm=l2, tfidf__sublinear_tf=True \n",
      "[CV]  lrg__C=6666, tfidf__max_df=0.5, tfidf__ngram_range=(1, 2), tfidf__norm=l1, tfidf__sublinear_tf=False, score=0.8923, total=  30.3s\n",
      "[CV] lrg__C=6666, tfidf__max_df=0.5, tfidf__ngram_range=(1, 2), tfidf__norm=l2, tfidf__sublinear_tf=False \n",
      "[CV]  lrg__C=6666, tfidf__max_df=0.5, tfidf__ngram_range=(1, 2), tfidf__norm=l1, tfidf__sublinear_tf=False, score=0.8928, total=  31.1s\n",
      "[CV] lrg__C=6666, tfidf__max_df=0.5, tfidf__ngram_range=(1, 2), tfidf__norm=l2, tfidf__sublinear_tf=False \n",
      "[CV]  lrg__C=6666, tfidf__max_df=0.5, tfidf__ngram_range=(1, 2), tfidf__norm=l2, tfidf__sublinear_tf=True, score=0.8968, total=  38.4s\n",
      "[CV]  lrg__C=6666, tfidf__max_df=0.5, tfidf__ngram_range=(1, 2), tfidf__norm=l2, tfidf__sublinear_tf=True, score=0.898, total=  38.9s\n",
      "[CV] lrg__C=6666, tfidf__max_df=0.83, tfidf__ngram_range=(1, 1), tfidf__norm=l1, tfidf__sublinear_tf=True \n",
      "[CV] lrg__C=6666, tfidf__max_df=0.83, tfidf__ngram_range=(1, 1), tfidf__norm=l1, tfidf__sublinear_tf=True \n",
      "[CV]  lrg__C=6666, tfidf__max_df=0.5, tfidf__ngram_range=(1, 2), tfidf__norm=l2, tfidf__sublinear_tf=False, score=0.8962, total=  38.8s\n",
      "[CV]  lrg__C=6666, tfidf__max_df=0.5, tfidf__ngram_range=(1, 2), tfidf__norm=l2, tfidf__sublinear_tf=False, score=0.8989, total=  39.6s\n",
      "[CV] lrg__C=6666, tfidf__max_df=0.83, tfidf__ngram_range=(1, 1), tfidf__norm=l1, tfidf__sublinear_tf=False \n",
      "[CV] lrg__C=6666, tfidf__max_df=0.83, tfidf__ngram_range=(1, 1), tfidf__norm=l1, tfidf__sublinear_tf=False \n",
      "[CV]  lrg__C=6666, tfidf__max_df=0.83, tfidf__ngram_range=(1, 1), tfidf__norm=l1, tfidf__sublinear_tf=True, score=0.884, total=   8.8s\n",
      "[CV] lrg__C=6666, tfidf__max_df=0.83, tfidf__ngram_range=(1, 1), tfidf__norm=l2, tfidf__sublinear_tf=True \n",
      "[CV]  lrg__C=6666, tfidf__max_df=0.83, tfidf__ngram_range=(1, 1), tfidf__norm=l1, tfidf__sublinear_tf=True, score=0.8775, total=   8.7s\n",
      "[CV] lrg__C=6666, tfidf__max_df=0.83, tfidf__ngram_range=(1, 1), tfidf__norm=l2, tfidf__sublinear_tf=True \n",
      "[CV]  lrg__C=6666, tfidf__max_df=0.83, tfidf__ngram_range=(1, 1), tfidf__norm=l1, tfidf__sublinear_tf=False, score=0.8832, total=   8.8s\n",
      "[CV]  lrg__C=6666, tfidf__max_df=0.83, tfidf__ngram_range=(1, 1), tfidf__norm=l1, tfidf__sublinear_tf=False, score=0.8784, total=   8.8s\n",
      "[CV] lrg__C=6666, tfidf__max_df=0.83, tfidf__ngram_range=(1, 1), tfidf__norm=l2, tfidf__sublinear_tf=False \n",
      "[CV] lrg__C=6666, tfidf__max_df=0.83, tfidf__ngram_range=(1, 1), tfidf__norm=l2, tfidf__sublinear_tf=False \n",
      "[CV]  lrg__C=6666, tfidf__max_df=0.83, tfidf__ngram_range=(1, 1), tfidf__norm=l2, tfidf__sublinear_tf=True, score=0.8776, total=   9.8s\n",
      "[CV]  lrg__C=6666, tfidf__max_df=0.83, tfidf__ngram_range=(1, 1), tfidf__norm=l2, tfidf__sublinear_tf=True, score=0.8758, total=   9.7s\n",
      "[CV] lrg__C=6666, tfidf__max_df=0.83, tfidf__ngram_range=(1, 2), tfidf__norm=l1, tfidf__sublinear_tf=True \n",
      "[CV] lrg__C=6666, tfidf__max_df=0.83, tfidf__ngram_range=(1, 2), tfidf__norm=l1, tfidf__sublinear_tf=True \n",
      "[CV]  lrg__C=6666, tfidf__max_df=0.83, tfidf__ngram_range=(1, 1), tfidf__norm=l2, tfidf__sublinear_tf=False, score=0.8713, total=  10.3s\n",
      "[CV]  lrg__C=6666, tfidf__max_df=0.83, tfidf__ngram_range=(1, 1), tfidf__norm=l2, tfidf__sublinear_tf=False, score=0.8768, total=  10.7s\n",
      "[CV] lrg__C=6666, tfidf__max_df=0.83, tfidf__ngram_range=(1, 2), tfidf__norm=l1, tfidf__sublinear_tf=False \n",
      "[CV] lrg__C=6666, tfidf__max_df=0.83, tfidf__ngram_range=(1, 2), tfidf__norm=l1, tfidf__sublinear_tf=False \n",
      "[CV]  lrg__C=6666, tfidf__max_df=0.83, tfidf__ngram_range=(1, 2), tfidf__norm=l1, tfidf__sublinear_tf=True, score=0.8951, total=  28.8s\n",
      "[CV]  lrg__C=6666, tfidf__max_df=0.83, tfidf__ngram_range=(1, 2), tfidf__norm=l1, tfidf__sublinear_tf=True, score=0.8938, total=  28.9s\n",
      "[CV] lrg__C=6666, tfidf__max_df=0.83, tfidf__ngram_range=(1, 2), tfidf__norm=l2, tfidf__sublinear_tf=True \n",
      "[CV] lrg__C=6666, tfidf__max_df=0.83, tfidf__ngram_range=(1, 2), tfidf__norm=l2, tfidf__sublinear_tf=True \n",
      "[CV]  lrg__C=6666, tfidf__max_df=0.83, tfidf__ngram_range=(1, 2), tfidf__norm=l1, tfidf__sublinear_tf=False, score=0.8929, total=  27.4s\n",
      "[CV]  lrg__C=6666, tfidf__max_df=0.83, tfidf__ngram_range=(1, 2), tfidf__norm=l1, tfidf__sublinear_tf=False, score=0.8921, total=  27.6s\n",
      "[CV] lrg__C=6666, tfidf__max_df=0.83, tfidf__ngram_range=(1, 2), tfidf__norm=l2, tfidf__sublinear_tf=False \n",
      "[CV] lrg__C=6666, tfidf__max_df=0.83, tfidf__ngram_range=(1, 2), tfidf__norm=l2, tfidf__sublinear_tf=False \n",
      "[CV]  lrg__C=6666, tfidf__max_df=0.83, tfidf__ngram_range=(1, 2), tfidf__norm=l2, tfidf__sublinear_tf=True, score=0.8974, total=  26.6s\n",
      "[CV]  lrg__C=6666, tfidf__max_df=0.83, tfidf__ngram_range=(1, 2), tfidf__norm=l2, tfidf__sublinear_tf=True, score=0.8982, total=  26.8s\n"
     ]
    },
    {
     "name": "stderr",
     "output_type": "stream",
     "text": [
      "[Parallel(n_jobs=-1)]: Done 173 tasks      | elapsed: 17.3min\n"
     ]
    },
    {
     "name": "stdout",
     "output_type": "stream",
     "text": [
      "[CV] lrg__C=6666, tfidf__max_df=1, tfidf__ngram_range=(1, 1), tfidf__norm=l1, tfidf__sublinear_tf=True \n",
      "[CV] lrg__C=6666, tfidf__max_df=1, tfidf__ngram_range=(1, 1), tfidf__norm=l1, tfidf__sublinear_tf=True \n",
      "[CV]  lrg__C=6666, tfidf__max_df=0.83, tfidf__ngram_range=(1, 2), tfidf__norm=l2, tfidf__sublinear_tf=False, score=0.8966, total=  28.7s\n",
      "[CV] lrg__C=6666, tfidf__max_df=1, tfidf__ngram_range=(1, 1), tfidf__norm=l1, tfidf__sublinear_tf=False \n",
      "[CV]  lrg__C=6666, tfidf__max_df=0.83, tfidf__ngram_range=(1, 2), tfidf__norm=l2, tfidf__sublinear_tf=False, score=0.8962, total=  29.3s\n",
      "[CV] lrg__C=6666, tfidf__max_df=1, tfidf__ngram_range=(1, 1), tfidf__norm=l1, tfidf__sublinear_tf=False \n",
      "[CV]  lrg__C=6666, tfidf__max_df=1, tfidf__ngram_range=(1, 1), tfidf__norm=l1, tfidf__sublinear_tf=True, score=0.56, total=   5.7s\n",
      "[CV] lrg__C=6666, tfidf__max_df=1, tfidf__ngram_range=(1, 1), tfidf__norm=l2, tfidf__sublinear_tf=True \n",
      "[CV]  lrg__C=6666, tfidf__max_df=1, tfidf__ngram_range=(1, 1), tfidf__norm=l1, tfidf__sublinear_tf=True, score=0.5511, total=   5.7s\n",
      "[CV] lrg__C=6666, tfidf__max_df=1, tfidf__ngram_range=(1, 1), tfidf__norm=l2, tfidf__sublinear_tf=True \n",
      "[CV]  lrg__C=6666, tfidf__max_df=1, tfidf__ngram_range=(1, 1), tfidf__norm=l1, tfidf__sublinear_tf=False, score=0.5603, total=   5.4s\n",
      "[CV] lrg__C=6666, tfidf__max_df=1, tfidf__ngram_range=(1, 1), tfidf__norm=l2, tfidf__sublinear_tf=False \n",
      "[CV]  lrg__C=6666, tfidf__max_df=1, tfidf__ngram_range=(1, 1), tfidf__norm=l1, tfidf__sublinear_tf=False, score=0.5508, total=   5.5s\n",
      "[CV] lrg__C=6666, tfidf__max_df=1, tfidf__ngram_range=(1, 1), tfidf__norm=l2, tfidf__sublinear_tf=False \n",
      "[CV]  lrg__C=6666, tfidf__max_df=1, tfidf__ngram_range=(1, 1), tfidf__norm=l2, tfidf__sublinear_tf=True, score=0.5598, total=   5.5s\n",
      "[CV]  lrg__C=6666, tfidf__max_df=1, tfidf__ngram_range=(1, 1), tfidf__norm=l2, tfidf__sublinear_tf=True, score=0.548, total=   5.4s\n",
      "[CV] lrg__C=6666, tfidf__max_df=1, tfidf__ngram_range=(1, 2), tfidf__norm=l1, tfidf__sublinear_tf=True \n",
      "[CV] lrg__C=6666, tfidf__max_df=1, tfidf__ngram_range=(1, 2), tfidf__norm=l1, tfidf__sublinear_tf=True \n",
      "[CV]  lrg__C=6666, tfidf__max_df=1, tfidf__ngram_range=(1, 1), tfidf__norm=l2, tfidf__sublinear_tf=False, score=0.5593, total=   5.5s\n",
      "[CV] lrg__C=6666, tfidf__max_df=1, tfidf__ngram_range=(1, 2), tfidf__norm=l1, tfidf__sublinear_tf=False \n",
      "[CV]  lrg__C=6666, tfidf__max_df=1, tfidf__ngram_range=(1, 1), tfidf__norm=l2, tfidf__sublinear_tf=False, score=0.5493, total=   5.5s\n",
      "[CV] lrg__C=6666, tfidf__max_df=1, tfidf__ngram_range=(1, 2), tfidf__norm=l1, tfidf__sublinear_tf=False \n",
      "[CV]  lrg__C=6666, tfidf__max_df=1, tfidf__ngram_range=(1, 2), tfidf__norm=l1, tfidf__sublinear_tf=True, score=0.702, total=  17.1s\n",
      "[CV] lrg__C=6666, tfidf__max_df=1, tfidf__ngram_range=(1, 2), tfidf__norm=l2, tfidf__sublinear_tf=True \n",
      "[CV]  lrg__C=6666, tfidf__max_df=1, tfidf__ngram_range=(1, 2), tfidf__norm=l1, tfidf__sublinear_tf=True, score=0.7099, total=  17.6s\n",
      "[CV] lrg__C=6666, tfidf__max_df=1, tfidf__ngram_range=(1, 2), tfidf__norm=l2, tfidf__sublinear_tf=True \n",
      "[CV]  lrg__C=6666, tfidf__max_df=1, tfidf__ngram_range=(1, 2), tfidf__norm=l1, tfidf__sublinear_tf=False, score=0.7111, total=  18.0s\n",
      "[CV]  lrg__C=6666, tfidf__max_df=1, tfidf__ngram_range=(1, 2), tfidf__norm=l1, tfidf__sublinear_tf=False, score=0.7026, total=  17.8s\n",
      "[CV] lrg__C=6666, tfidf__max_df=1, tfidf__ngram_range=(1, 2), tfidf__norm=l2, tfidf__sublinear_tf=False \n",
      "[CV] lrg__C=6666, tfidf__max_df=1, tfidf__ngram_range=(1, 2), tfidf__norm=l2, tfidf__sublinear_tf=False \n",
      "[CV]  lrg__C=6666, tfidf__max_df=1, tfidf__ngram_range=(1, 2), tfidf__norm=l2, tfidf__sublinear_tf=True, score=0.7008, total=  16.2s\n",
      "[CV]  lrg__C=6666, tfidf__max_df=1, tfidf__ngram_range=(1, 2), tfidf__norm=l2, tfidf__sublinear_tf=True, score=0.6657, total=  16.1s\n",
      "[CV]  lrg__C=6666, tfidf__max_df=1, tfidf__ngram_range=(1, 2), tfidf__norm=l2, tfidf__sublinear_tf=False, score=0.7037, total=  17.1s\n",
      "[CV]  lrg__C=6666, tfidf__max_df=1, tfidf__ngram_range=(1, 2), tfidf__norm=l2, tfidf__sublinear_tf=False, score=0.6673, total=  16.9s\n"
     ]
    },
    {
     "name": "stderr",
     "output_type": "stream",
     "text": [
      "[Parallel(n_jobs=-1)]: Done 192 out of 192 | elapsed: 18.5min finished\n"
     ]
    },
    {
     "name": "stdout",
     "output_type": "stream",
     "text": [
      "Model with rank: 1\n",
      "Mean validation score: 0.898 (std: 0.000)\n",
      "Parameters: {'lrg__C': 6666, 'tfidf__max_df': 0.83, 'tfidf__ngram_range': (1, 2), 'tfidf__norm': 'l2', 'tfidf__sublinear_tf': True}\n",
      "\n",
      "Model with rank: 2\n",
      "Mean validation score: 0.898 (std: 0.001)\n",
      "Parameters: {'lrg__C': 6666, 'tfidf__max_df': 0.5, 'tfidf__ngram_range': (1, 2), 'tfidf__norm': 'l2', 'tfidf__sublinear_tf': False}\n",
      "\n",
      "Model with rank: 3\n",
      "Mean validation score: 0.897 (std: 0.001)\n",
      "Parameters: {'lrg__C': 6666, 'tfidf__max_df': 0.5, 'tfidf__ngram_range': (1, 2), 'tfidf__norm': 'l2', 'tfidf__sublinear_tf': True}\n",
      "\n",
      "Model with rank: 4\n",
      "Mean validation score: 0.897 (std: 0.001)\n",
      "Parameters: {'lrg__C': 66, 'tfidf__max_df': 0.83, 'tfidf__ngram_range': (1, 2), 'tfidf__norm': 'l2', 'tfidf__sublinear_tf': True}\n",
      "\n",
      "Model with rank: 5\n",
      "Mean validation score: 0.896 (std: 0.000)\n",
      "Parameters: {'lrg__C': 6666, 'tfidf__max_df': 0.83, 'tfidf__ngram_range': (1, 2), 'tfidf__norm': 'l2', 'tfidf__sublinear_tf': False}\n",
      "\n",
      "Model with rank: 6\n",
      "Mean validation score: 0.896 (std: 0.000)\n",
      "Parameters: {'lrg__C': 66, 'tfidf__max_df': 0.5, 'tfidf__ngram_range': (1, 2), 'tfidf__norm': 'l2', 'tfidf__sublinear_tf': True}\n",
      "\n",
      "Model with rank: 7\n",
      "Mean validation score: 0.895 (std: 0.001)\n",
      "Parameters: {'lrg__C': 66, 'tfidf__max_df': 0.5, 'tfidf__ngram_range': (1, 2), 'tfidf__norm': 'l2', 'tfidf__sublinear_tf': False}\n",
      "\n",
      "Model with rank: 8\n",
      "Mean validation score: 0.894 (std: 0.001)\n",
      "Parameters: {'lrg__C': 6666, 'tfidf__max_df': 0.5, 'tfidf__ngram_range': (1, 2), 'tfidf__norm': 'l1', 'tfidf__sublinear_tf': True}\n",
      "\n",
      "Model with rank: 8\n",
      "Mean validation score: 0.894 (std: 0.001)\n",
      "Parameters: {'lrg__C': 6666, 'tfidf__max_df': 0.83, 'tfidf__ngram_range': (1, 2), 'tfidf__norm': 'l1', 'tfidf__sublinear_tf': True}\n",
      "\n",
      "Model with rank: 10\n",
      "Mean validation score: 0.894 (std: 0.000)\n",
      "Parameters: {'lrg__C': 66, 'tfidf__max_df': 0.83, 'tfidf__ngram_range': (1, 2), 'tfidf__norm': 'l2', 'tfidf__sublinear_tf': False}\n",
      "\n",
      "Model with rank: 11\n",
      "Mean validation score: 0.893 (std: 0.000)\n",
      "Parameters: {'lrg__C': 6666, 'tfidf__max_df': 0.5, 'tfidf__ngram_range': (1, 2), 'tfidf__norm': 'l1', 'tfidf__sublinear_tf': False}\n",
      "\n",
      "Model with rank: 12\n",
      "Mean validation score: 0.892 (std: 0.000)\n",
      "Parameters: {'lrg__C': 6666, 'tfidf__max_df': 0.83, 'tfidf__ngram_range': (1, 2), 'tfidf__norm': 'l1', 'tfidf__sublinear_tf': False}\n",
      "\n",
      "Model with rank: 13\n",
      "Mean validation score: 0.882 (std: 0.003)\n",
      "Parameters: {'lrg__C': 66, 'tfidf__max_df': 0.83, 'tfidf__ngram_range': (1, 1), 'tfidf__norm': 'l2', 'tfidf__sublinear_tf': True}\n",
      "\n",
      "Model with rank: 14\n",
      "Mean validation score: 0.881 (std: 0.003)\n",
      "Parameters: {'lrg__C': 6666, 'tfidf__max_df': 0.5, 'tfidf__ngram_range': (1, 1), 'tfidf__norm': 'l1', 'tfidf__sublinear_tf': True}\n",
      "\n",
      "Model with rank: 15\n",
      "Mean validation score: 0.881 (std: 0.001)\n",
      "Parameters: {'lrg__C': 1, 'tfidf__max_df': 0.5, 'tfidf__ngram_range': (1, 2), 'tfidf__norm': 'l2', 'tfidf__sublinear_tf': True}\n",
      "\n",
      "Model with rank: 16\n",
      "Mean validation score: 0.881 (std: 0.002)\n",
      "Parameters: {'lrg__C': 6666, 'tfidf__max_df': 0.83, 'tfidf__ngram_range': (1, 1), 'tfidf__norm': 'l1', 'tfidf__sublinear_tf': False}\n",
      "\n",
      "Model with rank: 17\n",
      "Mean validation score: 0.881 (std: 0.003)\n",
      "Parameters: {'lrg__C': 6666, 'tfidf__max_df': 0.83, 'tfidf__ngram_range': (1, 1), 'tfidf__norm': 'l1', 'tfidf__sublinear_tf': True}\n",
      "\n",
      "Model with rank: 18\n",
      "Mean validation score: 0.880 (std: 0.001)\n",
      "Parameters: {'lrg__C': 1, 'tfidf__max_df': 0.83, 'tfidf__ngram_range': (1, 2), 'tfidf__norm': 'l2', 'tfidf__sublinear_tf': True}\n",
      "\n",
      "Model with rank: 18\n",
      "Mean validation score: 0.880 (std: 0.001)\n",
      "Parameters: {'lrg__C': 66, 'tfidf__max_df': 0.5, 'tfidf__ngram_range': (1, 1), 'tfidf__norm': 'l2', 'tfidf__sublinear_tf': True}\n",
      "\n",
      "Model with rank: 20\n",
      "Mean validation score: 0.880 (std: 0.003)\n",
      "Parameters: {'lrg__C': 66, 'tfidf__max_df': 0.83, 'tfidf__ngram_range': (1, 1), 'tfidf__norm': 'l2', 'tfidf__sublinear_tf': False}\n",
      "\n"
     ]
    }
   ],
   "source": [
    "commentLrgCVBPipeline = Pipeline([\n",
    "    ('tfidf', TfidfVectorizer()),\n",
    "    ('lrg', LogisticRegression())\n",
    "])\n",
    "\n",
    "gridSearch = GridSearchCV(commentLrgCVBPipeline, {\n",
    "    'tfidf__sublinear_tf': [True, False], \n",
    "    'tfidf__ngram_range': [(1, 1), (1, 2)], \n",
    "    'tfidf__norm': ['l1', 'l2'], \n",
    "    'tfidf__max_df': [0.5, 0.83, 1], \n",
    "    'lrg__C': [0.5, 1, 66, 6666]\n",
    "}, cv=2, verbose=10, n_jobs=-1)\n",
    "\n",
    "gridSearch.fit(X_train, y_train)\n",
    "report(gridSearch.cv_results_, n_top=20)"
   ]
  },
  {
   "cell_type": "code",
   "execution_count": 7,
   "metadata": {},
   "outputs": [
    {
     "name": "stdout",
     "output_type": "stream",
     "text": [
      "0.9131807419100236\n"
     ]
    }
   ],
   "source": [
    "commentLrgBFPipeline = Pipeline([\n",
    "    ('tfidf', TfidfVectorizer(max_df=0.83, ngram_range=(1, 2), norm='l2', sublinear_tf=True)),\n",
    "    ('lrg', LogisticRegression(C=6666))\n",
    "])\n",
    "\n",
    "commentLrgBFPipeline.fit(X_train, y_train)\n",
    "y_pred = commentLrgBFPipeline.predict(X_test)\n",
    "print(metrics.f1_score(y_test, y_pred))"
   ]
  },
  {
   "cell_type": "markdown",
   "metadata": {},
   "source": [
    "## Remove Stopword"
   ]
  },
  {
   "cell_type": "code",
   "execution_count": 25,
   "metadata": {},
   "outputs": [
    {
     "name": "stdout",
     "output_type": "stream",
     "text": [
      "0.9028052153299091\n"
     ]
    }
   ],
   "source": [
    "commentLrgCPipeline = Pipeline([\n",
    "    ('tfidf', TfidfVectorizer(max_df=0.83, ngram_range=(1, 2), norm='l2', sublinear_tf=True, tokenizer = lambda x: stopWordRemover(x.split()))),\n",
    "    ('lrg', LogisticRegression(C=6666))\n",
    "])\n",
    "\n",
    "commentLrgCPipeline.fit(X_train, y_train)\n",
    "y_pred = commentLrgCPipeline.predict(X_test)\n",
    "print(metrics.f1_score(y_test, y_pred))"
   ]
  },
  {
   "cell_type": "markdown",
   "metadata": {},
   "source": [
    "## Lemma and Stemma"
   ]
  },
  {
   "cell_type": "code",
   "execution_count": 26,
   "metadata": {},
   "outputs": [
    {
     "name": "stdout",
     "output_type": "stream",
     "text": [
      "0.9134387351778656\n"
     ]
    }
   ],
   "source": [
    "commentLrgDPipeline = Pipeline([\n",
    "    ('tfidf', TfidfVectorizer(max_df=0.83, ngram_range=(1, 2), norm='l2', sublinear_tf=True, tokenizer = lambda x: lemma(x.split()))),\n",
    "    ('lrg', LogisticRegression(C=6666))\n",
    "])\n",
    "\n",
    "commentLrgDPipeline.fit(X_train, y_train)\n",
    "y_pred = commentLrgDPipeline.predict(X_test)\n",
    "print(metrics.f1_score(y_test, y_pred))"
   ]
  },
  {
   "cell_type": "markdown",
   "metadata": {},
   "source": [
    "# Linear SVM"
   ]
  },
  {
   "cell_type": "code",
   "execution_count": 11,
   "metadata": {},
   "outputs": [],
   "source": [
    "from sklearn import svm"
   ]
  },
  {
   "cell_type": "markdown",
   "metadata": {},
   "source": [
    "## Count"
   ]
  },
  {
   "cell_type": "code",
   "execution_count": 35,
   "metadata": {},
   "outputs": [
    {
     "name": "stdout",
     "output_type": "stream",
     "text": [
      "0.8684419713831479\n"
     ]
    }
   ],
   "source": [
    "commentSvmAPipeline = Pipeline([\n",
    "    ('tfidf', CountVectorizer()),\n",
    "    ('lrg', svm.LinearSVC())\n",
    "])\n",
    "\n",
    "commentSvmAPipeline.fit(X_train, y_train)\n",
    "y_pred = commentSvmAPipeline.predict(X_test)\n",
    "print(metrics.f1_score(y_test, y_pred))"
   ]
  },
  {
   "cell_type": "code",
   "execution_count": 36,
   "metadata": {},
   "outputs": [
    {
     "name": "stdout",
     "output_type": "stream",
     "text": [
      "Fitting 2 folds for each of 24 candidates, totalling 48 fits\n",
      "[CV] lrg__C=0.5, tfidf__max_df=0.5, tfidf__ngram_range=(1, 1) ........\n",
      "[CV] lrg__C=0.5, tfidf__max_df=0.5, tfidf__ngram_range=(1, 1) ........\n",
      "[CV] lrg__C=0.5, tfidf__max_df=0.5, tfidf__ngram_range=(1, 2) ........\n",
      "[CV] lrg__C=0.5, tfidf__max_df=0.5, tfidf__ngram_range=(1, 2) ........\n",
      "[CV]  lrg__C=0.5, tfidf__max_df=0.5, tfidf__ngram_range=(1, 1), score=0.8496, total=   8.6s\n",
      "[CV]  lrg__C=0.5, tfidf__max_df=0.5, tfidf__ngram_range=(1, 1), score=0.8539, total=   8.6s\n",
      "[CV] lrg__C=0.5, tfidf__max_df=0.83, tfidf__ngram_range=(1, 1) .......\n",
      "[CV] lrg__C=0.5, tfidf__max_df=0.83, tfidf__ngram_range=(1, 1) .......\n",
      "[CV]  lrg__C=0.5, tfidf__max_df=0.83, tfidf__ngram_range=(1, 1), score=0.8543, total=  12.6s\n",
      "[CV]  lrg__C=0.5, tfidf__max_df=0.83, tfidf__ngram_range=(1, 1), score=0.8484, total=  12.4s\n",
      "[CV] lrg__C=0.5, tfidf__max_df=0.83, tfidf__ngram_range=(1, 2) .......\n",
      "[CV] lrg__C=0.5, tfidf__max_df=0.83, tfidf__ngram_range=(1, 2) .......\n",
      "[CV]  lrg__C=0.5, tfidf__max_df=0.5, tfidf__ngram_range=(1, 2), score=0.879, total=  38.9s\n"
     ]
    },
    {
     "name": "stderr",
     "output_type": "stream",
     "text": [
      "[Parallel(n_jobs=-1)]: Done   5 tasks      | elapsed:   50.0s\n"
     ]
    },
    {
     "name": "stdout",
     "output_type": "stream",
     "text": [
      "[CV]  lrg__C=0.5, tfidf__max_df=0.5, tfidf__ngram_range=(1, 2), score=0.8809, total=  39.3s\n",
      "[CV] lrg__C=0.5, tfidf__max_df=1, tfidf__ngram_range=(1, 1) ..........\n",
      "[CV] lrg__C=0.5, tfidf__max_df=1, tfidf__ngram_range=(1, 1) ..........\n",
      "[CV]  lrg__C=0.5, tfidf__max_df=1, tfidf__ngram_range=(1, 1), score=0.5667, total=   9.0s\n",
      "[CV]  lrg__C=0.5, tfidf__max_df=1, tfidf__ngram_range=(1, 1), score=0.5474, total=   8.9s\n",
      "[CV] lrg__C=0.5, tfidf__max_df=1, tfidf__ngram_range=(1, 2) ..........\n",
      "[CV] lrg__C=0.5, tfidf__max_df=1, tfidf__ngram_range=(1, 2) ..........\n",
      "[CV]  lrg__C=0.5, tfidf__max_df=0.83, tfidf__ngram_range=(1, 2), score=0.88, total=  48.0s\n",
      "[CV] lrg__C=1, tfidf__max_df=0.5, tfidf__ngram_range=(1, 1) ..........\n",
      "[CV]  lrg__C=0.5, tfidf__max_df=0.83, tfidf__ngram_range=(1, 2), score=0.879, total=  48.8s\n"
     ]
    },
    {
     "name": "stderr",
     "output_type": "stream",
     "text": [
      "[Parallel(n_jobs=-1)]: Done  10 tasks      | elapsed:  1.4min\n"
     ]
    },
    {
     "name": "stdout",
     "output_type": "stream",
     "text": [
      "[CV] lrg__C=1, tfidf__max_df=0.5, tfidf__ngram_range=(1, 1) ..........\n",
      "[CV]  lrg__C=0.5, tfidf__max_df=1, tfidf__ngram_range=(1, 2), score=0.6558, total=  22.0s\n",
      "[CV]  lrg__C=0.5, tfidf__max_df=1, tfidf__ngram_range=(1, 2), score=0.6834, total=  22.5s\n",
      "[CV] lrg__C=1, tfidf__max_df=0.5, tfidf__ngram_range=(1, 2) ..........\n",
      "[CV] lrg__C=1, tfidf__max_df=0.5, tfidf__ngram_range=(1, 2) ..........\n",
      "[CV]  lrg__C=1, tfidf__max_df=0.5, tfidf__ngram_range=(1, 1), score=0.8521, total=  10.6s\n",
      "[CV] lrg__C=1, tfidf__max_df=0.83, tfidf__ngram_range=(1, 1) .........\n",
      "[CV]  lrg__C=1, tfidf__max_df=0.5, tfidf__ngram_range=(1, 1), score=0.8468, total=  10.5s\n",
      "[CV] lrg__C=1, tfidf__max_df=0.83, tfidf__ngram_range=(1, 1) .........\n",
      "[CV]  lrg__C=1, tfidf__max_df=0.83, tfidf__ngram_range=(1, 1), score=0.853, total=  12.1s\n",
      "[CV] lrg__C=1, tfidf__max_df=0.83, tfidf__ngram_range=(1, 2) .........\n",
      "[CV]  lrg__C=1, tfidf__max_df=0.83, tfidf__ngram_range=(1, 1), score=0.8478, total=  12.1s\n",
      "[CV] lrg__C=1, tfidf__max_df=0.83, tfidf__ngram_range=(1, 2) .........\n",
      "[CV]  lrg__C=1, tfidf__max_df=0.5, tfidf__ngram_range=(1, 2), score=0.8788, total=  45.7s\n"
     ]
    },
    {
     "name": "stderr",
     "output_type": "stream",
     "text": [
      "[Parallel(n_jobs=-1)]: Done  17 tasks      | elapsed:  2.5min\n"
     ]
    },
    {
     "name": "stdout",
     "output_type": "stream",
     "text": [
      "[CV]  lrg__C=1, tfidf__max_df=0.5, tfidf__ngram_range=(1, 2), score=0.8809, total=  46.3s\n",
      "[CV] lrg__C=1, tfidf__max_df=1, tfidf__ngram_range=(1, 1) ............\n",
      "[CV] lrg__C=1, tfidf__max_df=1, tfidf__ngram_range=(1, 1) ............\n",
      "[CV]  lrg__C=1, tfidf__max_df=1, tfidf__ngram_range=(1, 1), score=0.5561, total=   7.2s\n",
      "[CV] lrg__C=1, tfidf__max_df=1, tfidf__ngram_range=(1, 2) ............\n",
      "[CV]  lrg__C=1, tfidf__max_df=1, tfidf__ngram_range=(1, 1), score=0.5467, total=   7.2s\n",
      "[CV] lrg__C=1, tfidf__max_df=1, tfidf__ngram_range=(1, 2) ............\n",
      "[CV]  lrg__C=1, tfidf__max_df=0.83, tfidf__ngram_range=(1, 2), score=0.8799, total=  46.7s\n",
      "[CV] lrg__C=66, tfidf__max_df=0.5, tfidf__ngram_range=(1, 1) .........\n",
      "[CV]  lrg__C=1, tfidf__max_df=0.83, tfidf__ngram_range=(1, 2), score=0.8789, total=  47.6s\n",
      "[CV] lrg__C=66, tfidf__max_df=0.5, tfidf__ngram_range=(1, 1) .........\n",
      "[CV]  lrg__C=66, tfidf__max_df=0.5, tfidf__ngram_range=(1, 1), score=0.8498, total=   8.9s\n",
      "[CV] lrg__C=66, tfidf__max_df=0.5, tfidf__ngram_range=(1, 2) .........\n",
      "[CV]  lrg__C=66, tfidf__max_df=0.5, tfidf__ngram_range=(1, 1), score=0.8444, total=   8.7s\n"
     ]
    },
    {
     "name": "stderr",
     "output_type": "stream",
     "text": [
      "[Parallel(n_jobs=-1)]: Done  24 tasks      | elapsed:  3.1min\n"
     ]
    },
    {
     "name": "stdout",
     "output_type": "stream",
     "text": [
      "[CV] lrg__C=66, tfidf__max_df=0.5, tfidf__ngram_range=(1, 2) .........\n",
      "[CV]  lrg__C=1, tfidf__max_df=1, tfidf__ngram_range=(1, 2), score=0.6263, total=  21.9s\n",
      "[CV]  lrg__C=1, tfidf__max_df=1, tfidf__ngram_range=(1, 2), score=0.6754, total=  22.5s\n",
      "[CV] lrg__C=66, tfidf__max_df=0.83, tfidf__ngram_range=(1, 1) ........\n",
      "[CV] lrg__C=66, tfidf__max_df=0.83, tfidf__ngram_range=(1, 1) ........\n",
      "[CV]  lrg__C=66, tfidf__max_df=0.83, tfidf__ngram_range=(1, 1), score=0.8505, total=   9.7s\n",
      "[CV] lrg__C=66, tfidf__max_df=0.83, tfidf__ngram_range=(1, 2) ........\n",
      "[CV]  lrg__C=66, tfidf__max_df=0.83, tfidf__ngram_range=(1, 1), score=0.8465, total=  10.3s\n",
      "[CV] lrg__C=66, tfidf__max_df=0.83, tfidf__ngram_range=(1, 2) ........\n",
      "[CV]  lrg__C=66, tfidf__max_df=0.5, tfidf__ngram_range=(1, 2), score=0.8788, total=  23.7s\n",
      "[CV] lrg__C=66, tfidf__max_df=1, tfidf__ngram_range=(1, 1) ...........\n",
      "[CV]  lrg__C=66, tfidf__max_df=0.5, tfidf__ngram_range=(1, 2), score=0.8811, total=  24.8s\n",
      "[CV] lrg__C=66, tfidf__max_df=1, tfidf__ngram_range=(1, 1) ...........\n",
      "[CV]  lrg__C=66, tfidf__max_df=1, tfidf__ngram_range=(1, 1), score=0.5542, total=   8.4s\n",
      "[CV] lrg__C=66, tfidf__max_df=1, tfidf__ngram_range=(1, 2) ...........\n",
      "[CV]  lrg__C=66, tfidf__max_df=1, tfidf__ngram_range=(1, 1), score=0.5455, total=   8.3s\n",
      "[CV] lrg__C=66, tfidf__max_df=1, tfidf__ngram_range=(1, 2) ...........\n",
      "[CV]  lrg__C=66, tfidf__max_df=0.83, tfidf__ngram_range=(1, 2), score=0.8798, total=  26.5s\n"
     ]
    },
    {
     "name": "stderr",
     "output_type": "stream",
     "text": [
      "[Parallel(n_jobs=-1)]: Done  33 tasks      | elapsed:  4.0min\n"
     ]
    },
    {
     "name": "stdout",
     "output_type": "stream",
     "text": [
      "[CV] lrg__C=6666, tfidf__max_df=0.5, tfidf__ngram_range=(1, 1) .......\n",
      "[CV]  lrg__C=66, tfidf__max_df=0.83, tfidf__ngram_range=(1, 2), score=0.879, total=  28.1s\n",
      "[CV] lrg__C=6666, tfidf__max_df=0.5, tfidf__ngram_range=(1, 1) .......\n",
      "[CV]  lrg__C=6666, tfidf__max_df=0.5, tfidf__ngram_range=(1, 1), score=0.8499, total=   7.1s\n",
      "[CV] lrg__C=6666, tfidf__max_df=0.5, tfidf__ngram_range=(1, 2) .......\n",
      "[CV]  lrg__C=6666, tfidf__max_df=0.5, tfidf__ngram_range=(1, 1), score=0.8445, total=   6.9s\n",
      "[CV] lrg__C=6666, tfidf__max_df=0.5, tfidf__ngram_range=(1, 2) .......\n",
      "[CV]  lrg__C=66, tfidf__max_df=1, tfidf__ngram_range=(1, 2), score=0.5377, total=  26.7s\n",
      "[CV]  lrg__C=66, tfidf__max_df=1, tfidf__ngram_range=(1, 2), score=0.5705, total=  27.3s\n",
      "[CV] lrg__C=6666, tfidf__max_df=0.83, tfidf__ngram_range=(1, 1) ......\n",
      "[CV] lrg__C=6666, tfidf__max_df=0.83, tfidf__ngram_range=(1, 1) ......\n",
      "[CV]  lrg__C=6666, tfidf__max_df=0.83, tfidf__ngram_range=(1, 1), score=0.8465, total=   8.7s\n",
      "[CV]  lrg__C=6666, tfidf__max_df=0.83, tfidf__ngram_range=(1, 1), score=0.8505, total=   9.2s\n",
      "[CV] lrg__C=6666, tfidf__max_df=0.83, tfidf__ngram_range=(1, 2) ......\n",
      "[CV] lrg__C=6666, tfidf__max_df=0.83, tfidf__ngram_range=(1, 2) ......\n",
      "[CV]  lrg__C=6666, tfidf__max_df=0.5, tfidf__ngram_range=(1, 2), score=0.8788, total=  24.7s\n",
      "[CV]  lrg__C=6666, tfidf__max_df=0.5, tfidf__ngram_range=(1, 2), score=0.8811, total=  25.3s\n",
      "[CV] lrg__C=6666, tfidf__max_df=1, tfidf__ngram_range=(1, 1) .........\n",
      "[CV] lrg__C=6666, tfidf__max_df=1, tfidf__ngram_range=(1, 1) .........\n",
      "[CV]  lrg__C=6666, tfidf__max_df=1, tfidf__ngram_range=(1, 1), score=0.5157, total=   8.1s\n",
      "[CV] lrg__C=6666, tfidf__max_df=1, tfidf__ngram_range=(1, 2) .........\n",
      "[CV]  lrg__C=6666, tfidf__max_df=1, tfidf__ngram_range=(1, 1), score=0.5245, total=   8.4s\n",
      "[CV] lrg__C=6666, tfidf__max_df=1, tfidf__ngram_range=(1, 2) .........\n",
      "[CV]  lrg__C=6666, tfidf__max_df=0.83, tfidf__ngram_range=(1, 2), score=0.8798, total=  27.0s\n",
      "[CV]  lrg__C=6666, tfidf__max_df=0.83, tfidf__ngram_range=(1, 2), score=0.879, total=  27.9s\n"
     ]
    },
    {
     "name": "stderr",
     "output_type": "stream",
     "text": [
      "[Parallel(n_jobs=-1)]: Done  46 out of  48 | elapsed:  5.3min remaining:   13.9s\n"
     ]
    },
    {
     "name": "stdout",
     "output_type": "stream",
     "text": [
      "[CV]  lrg__C=6666, tfidf__max_df=1, tfidf__ngram_range=(1, 2), score=0.5323, total=  27.9s\n",
      "[CV]  lrg__C=6666, tfidf__max_df=1, tfidf__ngram_range=(1, 2), score=0.5651, total=  28.5s\n"
     ]
    },
    {
     "name": "stderr",
     "output_type": "stream",
     "text": [
      "[Parallel(n_jobs=-1)]: Done  48 out of  48 | elapsed:  5.5min finished\n"
     ]
    },
    {
     "name": "stdout",
     "output_type": "stream",
     "text": [
      "Model with rank: 1\n",
      "Mean validation score: 0.898 (std: 0.000)\n",
      "Parameters: {'lrg__C': 6666, 'tfidf__max_df': 0.83, 'tfidf__ngram_range': (1, 2), 'tfidf__norm': 'l2', 'tfidf__sublinear_tf': True}\n",
      "\n",
      "Model with rank: 2\n",
      "Mean validation score: 0.898 (std: 0.001)\n",
      "Parameters: {'lrg__C': 6666, 'tfidf__max_df': 0.5, 'tfidf__ngram_range': (1, 2), 'tfidf__norm': 'l2', 'tfidf__sublinear_tf': False}\n",
      "\n",
      "Model with rank: 3\n",
      "Mean validation score: 0.897 (std: 0.001)\n",
      "Parameters: {'lrg__C': 6666, 'tfidf__max_df': 0.5, 'tfidf__ngram_range': (1, 2), 'tfidf__norm': 'l2', 'tfidf__sublinear_tf': True}\n",
      "\n"
     ]
    }
   ],
   "source": [
    "commentSvmCVAPipeline = Pipeline([\n",
    "    ('tfidf', CountVectorizer()),\n",
    "    ('lrg', svm.LinearSVC())\n",
    "])\n",
    "\n",
    "gridSearchAS = GridSearchCV(commentSvmCVAPipeline, {\n",
    "    'tfidf__ngram_range': [(1, 1), (1, 2)], \n",
    "    'tfidf__max_df': [0.5, 0.83, 1], \n",
    "    'lrg__C': [0.5, 1, 66, 6666]\n",
    "}, cv=2, verbose=10, n_jobs=-1)\n",
    "\n",
    "gridSearchAS.fit(X_train, y_train)"
   ]
  },
  {
   "cell_type": "code",
   "execution_count": 41,
   "metadata": {},
   "outputs": [
    {
     "name": "stdout",
     "output_type": "stream",
     "text": [
      "Model with rank: 1\n",
      "Mean validation score: 0.880 (std: 0.001)\n",
      "Parameters: {'lrg__C': 0.5, 'tfidf__max_df': 0.5, 'tfidf__ngram_range': (1, 2)}\n",
      "\n",
      "Model with rank: 1\n",
      "Mean validation score: 0.880 (std: 0.001)\n",
      "Parameters: {'lrg__C': 66, 'tfidf__max_df': 0.5, 'tfidf__ngram_range': (1, 2)}\n",
      "\n",
      "Model with rank: 1\n",
      "Mean validation score: 0.880 (std: 0.001)\n",
      "Parameters: {'lrg__C': 6666, 'tfidf__max_df': 0.5, 'tfidf__ngram_range': (1, 2)}\n",
      "\n",
      "Model with rank: 4\n",
      "Mean validation score: 0.880 (std: 0.001)\n",
      "Parameters: {'lrg__C': 1, 'tfidf__max_df': 0.5, 'tfidf__ngram_range': (1, 2)}\n",
      "\n",
      "Model with rank: 5\n",
      "Mean validation score: 0.879 (std: 0.001)\n",
      "Parameters: {'lrg__C': 0.5, 'tfidf__max_df': 0.83, 'tfidf__ngram_range': (1, 2)}\n",
      "\n",
      "Model with rank: 6\n",
      "Mean validation score: 0.879 (std: 0.001)\n",
      "Parameters: {'lrg__C': 1, 'tfidf__max_df': 0.83, 'tfidf__ngram_range': (1, 2)}\n",
      "\n",
      "Model with rank: 6\n",
      "Mean validation score: 0.879 (std: 0.000)\n",
      "Parameters: {'lrg__C': 66, 'tfidf__max_df': 0.83, 'tfidf__ngram_range': (1, 2)}\n",
      "\n",
      "Model with rank: 6\n",
      "Mean validation score: 0.879 (std: 0.000)\n",
      "Parameters: {'lrg__C': 6666, 'tfidf__max_df': 0.83, 'tfidf__ngram_range': (1, 2)}\n",
      "\n",
      "Model with rank: 9\n",
      "Mean validation score: 0.852 (std: 0.002)\n",
      "Parameters: {'lrg__C': 0.5, 'tfidf__max_df': 0.5, 'tfidf__ngram_range': (1, 1)}\n",
      "\n",
      "Model with rank: 10\n",
      "Mean validation score: 0.851 (std: 0.003)\n",
      "Parameters: {'lrg__C': 0.5, 'tfidf__max_df': 0.83, 'tfidf__ngram_range': (1, 1)}\n",
      "\n",
      "Model with rank: 11\n",
      "Mean validation score: 0.850 (std: 0.003)\n",
      "Parameters: {'lrg__C': 1, 'tfidf__max_df': 0.83, 'tfidf__ngram_range': (1, 1)}\n",
      "\n",
      "Model with rank: 12\n",
      "Mean validation score: 0.849 (std: 0.003)\n",
      "Parameters: {'lrg__C': 1, 'tfidf__max_df': 0.5, 'tfidf__ngram_range': (1, 1)}\n",
      "\n",
      "Model with rank: 13\n",
      "Mean validation score: 0.849 (std: 0.002)\n",
      "Parameters: {'lrg__C': 66, 'tfidf__max_df': 0.83, 'tfidf__ngram_range': (1, 1)}\n",
      "\n",
      "Model with rank: 13\n",
      "Mean validation score: 0.849 (std: 0.002)\n",
      "Parameters: {'lrg__C': 6666, 'tfidf__max_df': 0.83, 'tfidf__ngram_range': (1, 1)}\n",
      "\n",
      "Model with rank: 15\n",
      "Mean validation score: 0.847 (std: 0.003)\n",
      "Parameters: {'lrg__C': 6666, 'tfidf__max_df': 0.5, 'tfidf__ngram_range': (1, 1)}\n",
      "\n",
      "Model with rank: 16\n",
      "Mean validation score: 0.847 (std: 0.003)\n",
      "Parameters: {'lrg__C': 66, 'tfidf__max_df': 0.5, 'tfidf__ngram_range': (1, 1)}\n",
      "\n",
      "Model with rank: 17\n",
      "Mean validation score: 0.670 (std: 0.014)\n",
      "Parameters: {'lrg__C': 0.5, 'tfidf__max_df': 1, 'tfidf__ngram_range': (1, 2)}\n",
      "\n",
      "Model with rank: 18\n",
      "Mean validation score: 0.651 (std: 0.025)\n",
      "Parameters: {'lrg__C': 1, 'tfidf__max_df': 1, 'tfidf__ngram_range': (1, 2)}\n",
      "\n",
      "Model with rank: 19\n",
      "Mean validation score: 0.557 (std: 0.010)\n",
      "Parameters: {'lrg__C': 0.5, 'tfidf__max_df': 1, 'tfidf__ngram_range': (1, 1)}\n",
      "\n",
      "Model with rank: 20\n",
      "Mean validation score: 0.554 (std: 0.016)\n",
      "Parameters: {'lrg__C': 66, 'tfidf__max_df': 1, 'tfidf__ngram_range': (1, 2)}\n",
      "\n"
     ]
    }
   ],
   "source": [
    "report(gridSearchAS.cv_results_, n_top=20)"
   ]
  },
  {
   "cell_type": "code",
   "execution_count": 42,
   "metadata": {},
   "outputs": [
    {
     "name": "stdout",
     "output_type": "stream",
     "text": [
      "0.8915140775743255\n"
     ]
    }
   ],
   "source": [
    "commentLrgAFPipeline = Pipeline([\n",
    "    ('tfidf', CountVectorizer(max_df=0.5, ngram_range=(1, 2))),\n",
    "    ('lrg', svm.LinearSVC(C=0.5))\n",
    "])\n",
    "\n",
    "commentLrgAFPipeline.fit(X_train, y_train)\n",
    "y_pred = commentLrgAFPipeline.predict(X_test)\n",
    "print(metrics.f1_score(y_test, y_pred))"
   ]
  },
  {
   "cell_type": "markdown",
   "metadata": {},
   "source": [
    "## TF-IDF"
   ]
  },
  {
   "cell_type": "code",
   "execution_count": 37,
   "metadata": {},
   "outputs": [
    {
     "name": "stdout",
     "output_type": "stream",
     "text": [
      "0.8939123537576839\n"
     ]
    }
   ],
   "source": [
    "commentSvmBPipeline = Pipeline([\n",
    "    ('tfidf', TfidfVectorizer()),\n",
    "    ('lrg', svm.LinearSVC())\n",
    "])\n",
    "\n",
    "commentSvmBPipeline.fit(X_train, y_train)\n",
    "y_pred = commentSvmBPipeline.predict(X_test)\n",
    "print(metrics.f1_score(y_test, y_pred))"
   ]
  },
  {
   "cell_type": "code",
   "execution_count": 38,
   "metadata": {},
   "outputs": [
    {
     "name": "stdout",
     "output_type": "stream",
     "text": [
      "Fitting 2 folds for each of 96 candidates, totalling 192 fits\n",
      "[CV] lrg__C=0.5, tfidf__max_df=0.5, tfidf__ngram_range=(1, 1), tfidf__norm=l1, tfidf__sublinear_tf=True \n",
      "[CV] lrg__C=0.5, tfidf__max_df=0.5, tfidf__ngram_range=(1, 1), tfidf__norm=l1, tfidf__sublinear_tf=True \n",
      "[CV] lrg__C=0.5, tfidf__max_df=0.5, tfidf__ngram_range=(1, 1), tfidf__norm=l1, tfidf__sublinear_tf=False \n",
      "[CV] lrg__C=0.5, tfidf__max_df=0.5, tfidf__ngram_range=(1, 1), tfidf__norm=l1, tfidf__sublinear_tf=False \n",
      "[CV]  lrg__C=0.5, tfidf__max_df=0.5, tfidf__ngram_range=(1, 1), tfidf__norm=l1, tfidf__sublinear_tf=True, score=0.8474, total=   8.0s\n",
      "[CV]  lrg__C=0.5, tfidf__max_df=0.5, tfidf__ngram_range=(1, 1), tfidf__norm=l1, tfidf__sublinear_tf=True, score=0.8418, total=   8.2s\n",
      "[CV] lrg__C=0.5, tfidf__max_df=0.5, tfidf__ngram_range=(1, 1), tfidf__norm=l2, tfidf__sublinear_tf=True \n",
      "[CV] lrg__C=0.5, tfidf__max_df=0.5, tfidf__ngram_range=(1, 1), tfidf__norm=l2, tfidf__sublinear_tf=True \n",
      "[CV]  lrg__C=0.5, tfidf__max_df=0.5, tfidf__ngram_range=(1, 1), tfidf__norm=l1, tfidf__sublinear_tf=False, score=0.8393, total=   8.2s\n",
      "[CV]  lrg__C=0.5, tfidf__max_df=0.5, tfidf__ngram_range=(1, 1), tfidf__norm=l1, tfidf__sublinear_tf=False, score=0.8332, total=   8.2s\n",
      "[CV] lrg__C=0.5, tfidf__max_df=0.5, tfidf__ngram_range=(1, 1), tfidf__norm=l2, tfidf__sublinear_tf=False \n",
      "[CV] lrg__C=0.5, tfidf__max_df=0.5, tfidf__ngram_range=(1, 1), tfidf__norm=l2, tfidf__sublinear_tf=False \n",
      "[CV]  lrg__C=0.5, tfidf__max_df=0.5, tfidf__ngram_range=(1, 1), tfidf__norm=l2, tfidf__sublinear_tf=True, score=0.8873, total=   7.5s\n"
     ]
    },
    {
     "name": "stderr",
     "output_type": "stream",
     "text": [
      "[Parallel(n_jobs=-1)]: Done   5 tasks      | elapsed:   23.8s\n"
     ]
    },
    {
     "name": "stdout",
     "output_type": "stream",
     "text": [
      "[CV]  lrg__C=0.5, tfidf__max_df=0.5, tfidf__ngram_range=(1, 1), tfidf__norm=l2, tfidf__sublinear_tf=True, score=0.8817, total=   7.6s\n",
      "[CV] lrg__C=0.5, tfidf__max_df=0.5, tfidf__ngram_range=(1, 2), tfidf__norm=l1, tfidf__sublinear_tf=True \n",
      "[CV] lrg__C=0.5, tfidf__max_df=0.5, tfidf__ngram_range=(1, 2), tfidf__norm=l1, tfidf__sublinear_tf=True \n",
      "[CV]  lrg__C=0.5, tfidf__max_df=0.5, tfidf__ngram_range=(1, 1), tfidf__norm=l2, tfidf__sublinear_tf=False, score=0.8875, total=   7.5s\n",
      "[CV] lrg__C=0.5, tfidf__max_df=0.5, tfidf__ngram_range=(1, 2), tfidf__norm=l1, tfidf__sublinear_tf=False \n",
      "[CV]  lrg__C=0.5, tfidf__max_df=0.5, tfidf__ngram_range=(1, 1), tfidf__norm=l2, tfidf__sublinear_tf=False, score=0.8808, total=   7.5s\n",
      "[CV] lrg__C=0.5, tfidf__max_df=0.5, tfidf__ngram_range=(1, 2), tfidf__norm=l1, tfidf__sublinear_tf=False \n",
      "[CV]  lrg__C=0.5, tfidf__max_df=0.5, tfidf__ngram_range=(1, 2), tfidf__norm=l1, tfidf__sublinear_tf=True, score=0.8546, total=  32.2s\n",
      "[CV]  lrg__C=0.5, tfidf__max_df=0.5, tfidf__ngram_range=(1, 2), tfidf__norm=l1, tfidf__sublinear_tf=True, score=0.8505, total=  32.0s\n"
     ]
    },
    {
     "name": "stderr",
     "output_type": "stream",
     "text": [
      "[Parallel(n_jobs=-1)]: Done  10 tasks      | elapsed:  1.1min\n"
     ]
    },
    {
     "name": "stdout",
     "output_type": "stream",
     "text": [
      "[CV] lrg__C=0.5, tfidf__max_df=0.5, tfidf__ngram_range=(1, 2), tfidf__norm=l2, tfidf__sublinear_tf=True \n",
      "[CV]  lrg__C=0.5, tfidf__max_df=0.5, tfidf__ngram_range=(1, 2), tfidf__norm=l1, tfidf__sublinear_tf=False, score=0.8421, total=  31.8s\n",
      "[CV]  lrg__C=0.5, tfidf__max_df=0.5, tfidf__ngram_range=(1, 2), tfidf__norm=l1, tfidf__sublinear_tf=False, score=0.8402, total=  31.4s\n",
      "[CV] lrg__C=0.5, tfidf__max_df=0.5, tfidf__ngram_range=(1, 2), tfidf__norm=l2, tfidf__sublinear_tf=True \n",
      "[CV] lrg__C=0.5, tfidf__max_df=0.5, tfidf__ngram_range=(1, 2), tfidf__norm=l2, tfidf__sublinear_tf=False \n",
      "[CV] lrg__C=0.5, tfidf__max_df=0.5, tfidf__ngram_range=(1, 2), tfidf__norm=l2, tfidf__sublinear_tf=False \n",
      "[CV]  lrg__C=0.5, tfidf__max_df=0.5, tfidf__ngram_range=(1, 2), tfidf__norm=l2, tfidf__sublinear_tf=True, score=0.8931, total=  22.9s\n",
      "[CV]  lrg__C=0.5, tfidf__max_df=0.5, tfidf__ngram_range=(1, 2), tfidf__norm=l2, tfidf__sublinear_tf=True, score=0.8941, total=  23.2s\n",
      "[CV] lrg__C=0.5, tfidf__max_df=0.83, tfidf__ngram_range=(1, 1), tfidf__norm=l1, tfidf__sublinear_tf=True \n",
      "[CV] lrg__C=0.5, tfidf__max_df=0.83, tfidf__ngram_range=(1, 1), tfidf__norm=l1, tfidf__sublinear_tf=True \n",
      "[CV]  lrg__C=0.5, tfidf__max_df=0.5, tfidf__ngram_range=(1, 2), tfidf__norm=l2, tfidf__sublinear_tf=False, score=0.892, total=  23.1s\n",
      "[CV]  lrg__C=0.5, tfidf__max_df=0.5, tfidf__ngram_range=(1, 2), tfidf__norm=l2, tfidf__sublinear_tf=False, score=0.8922, total=  23.3s\n",
      "[CV] lrg__C=0.5, tfidf__max_df=0.83, tfidf__ngram_range=(1, 1), tfidf__norm=l1, tfidf__sublinear_tf=False \n",
      "[CV] lrg__C=0.5, tfidf__max_df=0.83, tfidf__ngram_range=(1, 1), tfidf__norm=l1, tfidf__sublinear_tf=False \n",
      "[CV]  lrg__C=0.5, tfidf__max_df=0.83, tfidf__ngram_range=(1, 1), tfidf__norm=l1, tfidf__sublinear_tf=True, score=0.8418, total=   7.9s\n"
     ]
    },
    {
     "name": "stderr",
     "output_type": "stream",
     "text": [
      "[Parallel(n_jobs=-1)]: Done  17 tasks      | elapsed:  1.8min\n"
     ]
    },
    {
     "name": "stdout",
     "output_type": "stream",
     "text": [
      "[CV] lrg__C=0.5, tfidf__max_df=0.83, tfidf__ngram_range=(1, 1), tfidf__norm=l2, tfidf__sublinear_tf=True \n",
      "[CV]  lrg__C=0.5, tfidf__max_df=0.83, tfidf__ngram_range=(1, 1), tfidf__norm=l1, tfidf__sublinear_tf=True, score=0.8359, total=   7.9s\n",
      "[CV] lrg__C=0.5, tfidf__max_df=0.83, tfidf__ngram_range=(1, 1), tfidf__norm=l2, tfidf__sublinear_tf=True \n",
      "[CV]  lrg__C=0.5, tfidf__max_df=0.83, tfidf__ngram_range=(1, 1), tfidf__norm=l1, tfidf__sublinear_tf=False, score=0.8275, total=   7.7s\n",
      "[CV]  lrg__C=0.5, tfidf__max_df=0.83, tfidf__ngram_range=(1, 1), tfidf__norm=l1, tfidf__sublinear_tf=False, score=0.8192, total=   7.5s\n",
      "[CV] lrg__C=0.5, tfidf__max_df=0.83, tfidf__ngram_range=(1, 1), tfidf__norm=l2, tfidf__sublinear_tf=False \n",
      "[CV] lrg__C=0.5, tfidf__max_df=0.83, tfidf__ngram_range=(1, 1), tfidf__norm=l2, tfidf__sublinear_tf=False \n",
      "[CV]  lrg__C=0.5, tfidf__max_df=0.83, tfidf__ngram_range=(1, 1), tfidf__norm=l2, tfidf__sublinear_tf=True, score=0.8888, total=   6.4s\n",
      "[CV] lrg__C=0.5, tfidf__max_df=0.83, tfidf__ngram_range=(1, 2), tfidf__norm=l1, tfidf__sublinear_tf=True \n",
      "[CV]  lrg__C=0.5, tfidf__max_df=0.83, tfidf__ngram_range=(1, 1), tfidf__norm=l2, tfidf__sublinear_tf=True, score=0.881, total=   6.3s\n",
      "[CV] lrg__C=0.5, tfidf__max_df=0.83, tfidf__ngram_range=(1, 2), tfidf__norm=l1, tfidf__sublinear_tf=True \n",
      "[CV]  lrg__C=0.5, tfidf__max_df=0.83, tfidf__ngram_range=(1, 1), tfidf__norm=l2, tfidf__sublinear_tf=False, score=0.8875, total=   6.3s\n",
      "[CV]  lrg__C=0.5, tfidf__max_df=0.83, tfidf__ngram_range=(1, 1), tfidf__norm=l2, tfidf__sublinear_tf=False, score=0.8813, total=   6.2s\n",
      "[CV] lrg__C=0.5, tfidf__max_df=0.83, tfidf__ngram_range=(1, 2), tfidf__norm=l1, tfidf__sublinear_tf=False \n"
     ]
    },
    {
     "name": "stderr",
     "output_type": "stream",
     "text": [
      "[Parallel(n_jobs=-1)]: Done  24 tasks      | elapsed:  2.0min\n"
     ]
    },
    {
     "name": "stdout",
     "output_type": "stream",
     "text": [
      "[CV] lrg__C=0.5, tfidf__max_df=0.83, tfidf__ngram_range=(1, 2), tfidf__norm=l1, tfidf__sublinear_tf=False \n",
      "[CV]  lrg__C=0.5, tfidf__max_df=0.83, tfidf__ngram_range=(1, 2), tfidf__norm=l1, tfidf__sublinear_tf=True, score=0.8418, total=  22.2s\n",
      "[CV]  lrg__C=0.5, tfidf__max_df=0.83, tfidf__ngram_range=(1, 2), tfidf__norm=l1, tfidf__sublinear_tf=True, score=0.8485, total=  22.6s\n",
      "[CV] lrg__C=0.5, tfidf__max_df=0.83, tfidf__ngram_range=(1, 2), tfidf__norm=l2, tfidf__sublinear_tf=True \n",
      "[CV] lrg__C=0.5, tfidf__max_df=0.83, tfidf__ngram_range=(1, 2), tfidf__norm=l2, tfidf__sublinear_tf=True \n",
      "[CV]  lrg__C=0.5, tfidf__max_df=0.83, tfidf__ngram_range=(1, 2), tfidf__norm=l1, tfidf__sublinear_tf=False, score=0.815, total=  22.3s\n",
      "[CV] lrg__C=0.5, tfidf__max_df=0.83, tfidf__ngram_range=(1, 2), tfidf__norm=l2, tfidf__sublinear_tf=False \n",
      "[CV]  lrg__C=0.5, tfidf__max_df=0.83, tfidf__ngram_range=(1, 2), tfidf__norm=l1, tfidf__sublinear_tf=False, score=0.8158, total=  22.7s\n",
      "[CV] lrg__C=0.5, tfidf__max_df=0.83, tfidf__ngram_range=(1, 2), tfidf__norm=l2, tfidf__sublinear_tf=False \n",
      "[CV]  lrg__C=0.5, tfidf__max_df=0.83, tfidf__ngram_range=(1, 2), tfidf__norm=l2, tfidf__sublinear_tf=True, score=0.894, total=  26.2s\n",
      "[CV]  lrg__C=0.5, tfidf__max_df=0.83, tfidf__ngram_range=(1, 2), tfidf__norm=l2, tfidf__sublinear_tf=True, score=0.8937, total=  26.1s\n",
      "[CV] lrg__C=0.5, tfidf__max_df=1, tfidf__ngram_range=(1, 1), tfidf__norm=l1, tfidf__sublinear_tf=True \n",
      "[CV] lrg__C=0.5, tfidf__max_df=1, tfidf__ngram_range=(1, 1), tfidf__norm=l1, tfidf__sublinear_tf=True \n",
      "[CV]  lrg__C=0.5, tfidf__max_df=0.83, tfidf__ngram_range=(1, 2), tfidf__norm=l2, tfidf__sublinear_tf=False, score=0.8925, total=  26.0s\n",
      "[CV]  lrg__C=0.5, tfidf__max_df=0.83, tfidf__ngram_range=(1, 2), tfidf__norm=l2, tfidf__sublinear_tf=False, score=0.8925, total=  26.4s\n",
      "[CV] lrg__C=0.5, tfidf__max_df=1, tfidf__ngram_range=(1, 1), tfidf__norm=l1, tfidf__sublinear_tf=False \n",
      "[CV] lrg__C=0.5, tfidf__max_df=1, tfidf__ngram_range=(1, 1), tfidf__norm=l1, tfidf__sublinear_tf=False \n",
      "[CV]  lrg__C=0.5, tfidf__max_df=1, tfidf__ngram_range=(1, 1), tfidf__norm=l1, tfidf__sublinear_tf=True, score=0.5584, total=   5.9s\n",
      "[CV] lrg__C=0.5, tfidf__max_df=1, tfidf__ngram_range=(1, 1), tfidf__norm=l2, tfidf__sublinear_tf=True \n"
     ]
    },
    {
     "name": "stderr",
     "output_type": "stream",
     "text": [
      "[Parallel(n_jobs=-1)]: Done  33 tasks      | elapsed:  3.3min\n"
     ]
    },
    {
     "name": "stdout",
     "output_type": "stream",
     "text": [
      "[CV]  lrg__C=0.5, tfidf__max_df=1, tfidf__ngram_range=(1, 1), tfidf__norm=l1, tfidf__sublinear_tf=True, score=0.5539, total=   5.8s\n",
      "[CV] lrg__C=0.5, tfidf__max_df=1, tfidf__ngram_range=(1, 1), tfidf__norm=l2, tfidf__sublinear_tf=True \n",
      "[CV]  lrg__C=0.5, tfidf__max_df=1, tfidf__ngram_range=(1, 1), tfidf__norm=l1, tfidf__sublinear_tf=False, score=0.5578, total=   5.8s\n",
      "[CV] lrg__C=0.5, tfidf__max_df=1, tfidf__ngram_range=(1, 1), tfidf__norm=l2, tfidf__sublinear_tf=False \n",
      "[CV]  lrg__C=0.5, tfidf__max_df=1, tfidf__ngram_range=(1, 1), tfidf__norm=l1, tfidf__sublinear_tf=False, score=0.5536, total=   5.8s\n",
      "[CV] lrg__C=0.5, tfidf__max_df=1, tfidf__ngram_range=(1, 1), tfidf__norm=l2, tfidf__sublinear_tf=False \n",
      "[CV]  lrg__C=0.5, tfidf__max_df=1, tfidf__ngram_range=(1, 1), tfidf__norm=l2, tfidf__sublinear_tf=True, score=0.56, total=   5.8s\n",
      "[CV]  lrg__C=0.5, tfidf__max_df=1, tfidf__ngram_range=(1, 1), tfidf__norm=l2, tfidf__sublinear_tf=True, score=0.5478, total=   5.7s\n",
      "[CV] lrg__C=0.5, tfidf__max_df=1, tfidf__ngram_range=(1, 2), tfidf__norm=l1, tfidf__sublinear_tf=True \n",
      "[CV] lrg__C=0.5, tfidf__max_df=1, tfidf__ngram_range=(1, 2), tfidf__norm=l1, tfidf__sublinear_tf=True \n",
      "[CV]  lrg__C=0.5, tfidf__max_df=1, tfidf__ngram_range=(1, 1), tfidf__norm=l2, tfidf__sublinear_tf=False, score=0.5598, total=   5.7s\n",
      "[CV] lrg__C=0.5, tfidf__max_df=1, tfidf__ngram_range=(1, 2), tfidf__norm=l1, tfidf__sublinear_tf=False \n",
      "[CV]  lrg__C=0.5, tfidf__max_df=1, tfidf__ngram_range=(1, 1), tfidf__norm=l2, tfidf__sublinear_tf=False, score=0.5492, total=   5.8s\n",
      "[CV] lrg__C=0.5, tfidf__max_df=1, tfidf__ngram_range=(1, 2), tfidf__norm=l1, tfidf__sublinear_tf=False \n",
      "[CV]  lrg__C=0.5, tfidf__max_df=1, tfidf__ngram_range=(1, 2), tfidf__norm=l1, tfidf__sublinear_tf=True, score=0.6835, total=  20.0s\n",
      "[CV]  lrg__C=0.5, tfidf__max_df=1, tfidf__ngram_range=(1, 2), tfidf__norm=l1, tfidf__sublinear_tf=True, score=0.6881, total=  20.3s\n",
      "[CV] lrg__C=0.5, tfidf__max_df=1, tfidf__ngram_range=(1, 2), tfidf__norm=l2, tfidf__sublinear_tf=True \n"
     ]
    },
    {
     "name": "stderr",
     "output_type": "stream",
     "text": [
      "[Parallel(n_jobs=-1)]: Done  42 tasks      | elapsed:  3.8min\n"
     ]
    },
    {
     "name": "stdout",
     "output_type": "stream",
     "text": [
      "[CV] lrg__C=0.5, tfidf__max_df=1, tfidf__ngram_range=(1, 2), tfidf__norm=l2, tfidf__sublinear_tf=True \n",
      "[CV]  lrg__C=0.5, tfidf__max_df=1, tfidf__ngram_range=(1, 2), tfidf__norm=l1, tfidf__sublinear_tf=False, score=0.6842, total=  19.8s\n",
      "[CV]  lrg__C=0.5, tfidf__max_df=1, tfidf__ngram_range=(1, 2), tfidf__norm=l1, tfidf__sublinear_tf=False, score=0.6894, total=  20.0s\n",
      "[CV] lrg__C=0.5, tfidf__max_df=1, tfidf__ngram_range=(1, 2), tfidf__norm=l2, tfidf__sublinear_tf=False \n",
      "[CV] lrg__C=0.5, tfidf__max_df=1, tfidf__ngram_range=(1, 2), tfidf__norm=l2, tfidf__sublinear_tf=False \n",
      "[CV]  lrg__C=0.5, tfidf__max_df=1, tfidf__ngram_range=(1, 2), tfidf__norm=l2, tfidf__sublinear_tf=True, score=0.6979, total=  21.3s\n",
      "[CV]  lrg__C=0.5, tfidf__max_df=1, tfidf__ngram_range=(1, 2), tfidf__norm=l2, tfidf__sublinear_tf=True, score=0.7066, total=  21.5s\n",
      "[CV] lrg__C=1, tfidf__max_df=0.5, tfidf__ngram_range=(1, 1), tfidf__norm=l1, tfidf__sublinear_tf=True \n",
      "[CV] lrg__C=1, tfidf__max_df=0.5, tfidf__ngram_range=(1, 1), tfidf__norm=l1, tfidf__sublinear_tf=True \n",
      "[CV]  lrg__C=0.5, tfidf__max_df=1, tfidf__ngram_range=(1, 2), tfidf__norm=l2, tfidf__sublinear_tf=False, score=0.6979, total=  21.4s\n",
      "[CV]  lrg__C=0.5, tfidf__max_df=1, tfidf__ngram_range=(1, 2), tfidf__norm=l2, tfidf__sublinear_tf=False, score=0.7077, total=  21.7s\n",
      "[CV] lrg__C=1, tfidf__max_df=0.5, tfidf__ngram_range=(1, 1), tfidf__norm=l1, tfidf__sublinear_tf=False \n",
      "[CV] lrg__C=1, tfidf__max_df=0.5, tfidf__ngram_range=(1, 1), tfidf__norm=l1, tfidf__sublinear_tf=False \n",
      "[CV]  lrg__C=1, tfidf__max_df=0.5, tfidf__ngram_range=(1, 1), tfidf__norm=l1, tfidf__sublinear_tf=True, score=0.8593, total=   7.2s\n",
      "[CV]  lrg__C=1, tfidf__max_df=0.5, tfidf__ngram_range=(1, 1), tfidf__norm=l1, tfidf__sublinear_tf=True, score=0.8522, total=   7.1s\n",
      "[CV] lrg__C=1, tfidf__max_df=0.5, tfidf__ngram_range=(1, 1), tfidf__norm=l2, tfidf__sublinear_tf=True \n",
      "[CV] lrg__C=1, tfidf__max_df=0.5, tfidf__ngram_range=(1, 1), tfidf__norm=l2, tfidf__sublinear_tf=True \n",
      "[CV]  lrg__C=1, tfidf__max_df=0.5, tfidf__ngram_range=(1, 1), tfidf__norm=l1, tfidf__sublinear_tf=False, score=0.8523, total=   6.9s\n",
      "[CV]  lrg__C=1, tfidf__max_df=0.5, tfidf__ngram_range=(1, 1), tfidf__norm=l1, tfidf__sublinear_tf=False, score=0.8451, total=   6.8s\n",
      "[CV] lrg__C=1, tfidf__max_df=0.5, tfidf__ngram_range=(1, 1), tfidf__norm=l2, tfidf__sublinear_tf=False \n",
      "[CV] lrg__C=1, tfidf__max_df=0.5, tfidf__ngram_range=(1, 1), tfidf__norm=l2, tfidf__sublinear_tf=False \n",
      "[CV]  lrg__C=1, tfidf__max_df=0.5, tfidf__ngram_range=(1, 1), tfidf__norm=l2, tfidf__sublinear_tf=True, score=0.8848, total=   6.7s\n",
      "[CV]  lrg__C=1, tfidf__max_df=0.5, tfidf__ngram_range=(1, 1), tfidf__norm=l2, tfidf__sublinear_tf=True, score=0.8801, total=   6.7s\n"
     ]
    },
    {
     "name": "stderr",
     "output_type": "stream",
     "text": [
      "[Parallel(n_jobs=-1)]: Done  53 tasks      | elapsed:  4.7min\n"
     ]
    },
    {
     "name": "stdout",
     "output_type": "stream",
     "text": [
      "[CV] lrg__C=1, tfidf__max_df=0.5, tfidf__ngram_range=(1, 2), tfidf__norm=l1, tfidf__sublinear_tf=True \n",
      "[CV] lrg__C=1, tfidf__max_df=0.5, tfidf__ngram_range=(1, 2), tfidf__norm=l1, tfidf__sublinear_tf=True \n",
      "[CV]  lrg__C=1, tfidf__max_df=0.5, tfidf__ngram_range=(1, 1), tfidf__norm=l2, tfidf__sublinear_tf=False, score=0.8782, total=   6.8s\n",
      "[CV]  lrg__C=1, tfidf__max_df=0.5, tfidf__ngram_range=(1, 1), tfidf__norm=l2, tfidf__sublinear_tf=False, score=0.8842, total=   6.9s\n",
      "[CV] lrg__C=1, tfidf__max_df=0.5, tfidf__ngram_range=(1, 2), tfidf__norm=l1, tfidf__sublinear_tf=False \n",
      "[CV] lrg__C=1, tfidf__max_df=0.5, tfidf__ngram_range=(1, 2), tfidf__norm=l1, tfidf__sublinear_tf=False \n",
      "[CV]  lrg__C=1, tfidf__max_df=0.5, tfidf__ngram_range=(1, 2), tfidf__norm=l1, tfidf__sublinear_tf=True, score=0.8526, total=  25.7s\n",
      "[CV]  lrg__C=1, tfidf__max_df=0.5, tfidf__ngram_range=(1, 2), tfidf__norm=l1, tfidf__sublinear_tf=True, score=0.8562, total=  26.0s\n",
      "[CV] lrg__C=1, tfidf__max_df=0.5, tfidf__ngram_range=(1, 2), tfidf__norm=l2, tfidf__sublinear_tf=True \n",
      "[CV] lrg__C=1, tfidf__max_df=0.5, tfidf__ngram_range=(1, 2), tfidf__norm=l2, tfidf__sublinear_tf=True \n",
      "[CV]  lrg__C=1, tfidf__max_df=0.5, tfidf__ngram_range=(1, 2), tfidf__norm=l1, tfidf__sublinear_tf=False, score=0.8431, total=  25.4s\n",
      "[CV]  lrg__C=1, tfidf__max_df=0.5, tfidf__ngram_range=(1, 2), tfidf__norm=l1, tfidf__sublinear_tf=False, score=0.8454, total=  25.7s\n",
      "[CV] lrg__C=1, tfidf__max_df=0.5, tfidf__ngram_range=(1, 2), tfidf__norm=l2, tfidf__sublinear_tf=False \n",
      "[CV] lrg__C=1, tfidf__max_df=0.5, tfidf__ngram_range=(1, 2), tfidf__norm=l2, tfidf__sublinear_tf=False \n",
      "[CV]  lrg__C=1, tfidf__max_df=0.5, tfidf__ngram_range=(1, 2), tfidf__norm=l2, tfidf__sublinear_tf=True, score=0.8951, total=  24.3s\n",
      "[CV] lrg__C=1, tfidf__max_df=0.83, tfidf__ngram_range=(1, 1), tfidf__norm=l1, tfidf__sublinear_tf=True \n",
      "[CV]  lrg__C=1, tfidf__max_df=0.5, tfidf__ngram_range=(1, 2), tfidf__norm=l2, tfidf__sublinear_tf=True, score=0.8974, total=  25.0s\n",
      "[CV] lrg__C=1, tfidf__max_df=0.83, tfidf__ngram_range=(1, 1), tfidf__norm=l1, tfidf__sublinear_tf=True \n",
      "[CV]  lrg__C=1, tfidf__max_df=0.5, tfidf__ngram_range=(1, 2), tfidf__norm=l2, tfidf__sublinear_tf=False, score=0.8937, total=  24.5s\n",
      "[CV]  lrg__C=1, tfidf__max_df=0.5, tfidf__ngram_range=(1, 2), tfidf__norm=l2, tfidf__sublinear_tf=False, score=0.897, total=  24.9s\n",
      "[CV] lrg__C=1, tfidf__max_df=0.83, tfidf__ngram_range=(1, 1), tfidf__norm=l1, tfidf__sublinear_tf=False \n"
     ]
    },
    {
     "name": "stderr",
     "output_type": "stream",
     "text": [
      "[Parallel(n_jobs=-1)]: Done  64 tasks      | elapsed:  5.9min\n"
     ]
    },
    {
     "name": "stdout",
     "output_type": "stream",
     "text": [
      "[CV] lrg__C=1, tfidf__max_df=0.83, tfidf__ngram_range=(1, 1), tfidf__norm=l1, tfidf__sublinear_tf=False \n",
      "[CV]  lrg__C=1, tfidf__max_df=0.83, tfidf__ngram_range=(1, 1), tfidf__norm=l1, tfidf__sublinear_tf=True, score=0.8542, total=   7.1s\n",
      "[CV] lrg__C=1, tfidf__max_df=0.83, tfidf__ngram_range=(1, 1), tfidf__norm=l2, tfidf__sublinear_tf=True \n",
      "[CV]  lrg__C=1, tfidf__max_df=0.83, tfidf__ngram_range=(1, 1), tfidf__norm=l1, tfidf__sublinear_tf=True, score=0.8466, total=   6.8s\n",
      "[CV] lrg__C=1, tfidf__max_df=0.83, tfidf__ngram_range=(1, 1), tfidf__norm=l2, tfidf__sublinear_tf=True \n",
      "[CV]  lrg__C=1, tfidf__max_df=0.83, tfidf__ngram_range=(1, 1), tfidf__norm=l1, tfidf__sublinear_tf=False, score=0.8454, total=   6.6s\n",
      "[CV] lrg__C=1, tfidf__max_df=0.83, tfidf__ngram_range=(1, 1), tfidf__norm=l2, tfidf__sublinear_tf=False \n",
      "[CV]  lrg__C=1, tfidf__max_df=0.83, tfidf__ngram_range=(1, 1), tfidf__norm=l1, tfidf__sublinear_tf=False, score=0.8379, total=   6.6s\n",
      "[CV] lrg__C=1, tfidf__max_df=0.83, tfidf__ngram_range=(1, 1), tfidf__norm=l2, tfidf__sublinear_tf=False \n",
      "[CV]  lrg__C=1, tfidf__max_df=0.83, tfidf__ngram_range=(1, 1), tfidf__norm=l2, tfidf__sublinear_tf=True, score=0.8865, total=   6.5s\n",
      "[CV] lrg__C=1, tfidf__max_df=0.83, tfidf__ngram_range=(1, 2), tfidf__norm=l1, tfidf__sublinear_tf=True \n",
      "[CV]  lrg__C=1, tfidf__max_df=0.83, tfidf__ngram_range=(1, 1), tfidf__norm=l2, tfidf__sublinear_tf=True, score=0.8799, total=   6.5s\n",
      "[CV] lrg__C=1, tfidf__max_df=0.83, tfidf__ngram_range=(1, 2), tfidf__norm=l1, tfidf__sublinear_tf=True \n",
      "[CV]  lrg__C=1, tfidf__max_df=0.83, tfidf__ngram_range=(1, 1), tfidf__norm=l2, tfidf__sublinear_tf=False, score=0.8858, total=   6.6s\n",
      "[CV] lrg__C=1, tfidf__max_df=0.83, tfidf__ngram_range=(1, 2), tfidf__norm=l1, tfidf__sublinear_tf=False \n",
      "[CV]  lrg__C=1, tfidf__max_df=0.83, tfidf__ngram_range=(1, 1), tfidf__norm=l2, tfidf__sublinear_tf=False, score=0.8803, total=   6.6s\n",
      "[CV] lrg__C=1, tfidf__max_df=0.83, tfidf__ngram_range=(1, 2), tfidf__norm=l1, tfidf__sublinear_tf=False \n",
      "[CV]  lrg__C=1, tfidf__max_df=0.83, tfidf__ngram_range=(1, 2), tfidf__norm=l1, tfidf__sublinear_tf=True, score=0.8504, total=  25.9s\n",
      "[CV]  lrg__C=1, tfidf__max_df=0.83, tfidf__ngram_range=(1, 2), tfidf__norm=l1, tfidf__sublinear_tf=True, score=0.8449, total=  25.8s\n",
      "[CV] lrg__C=1, tfidf__max_df=0.83, tfidf__ngram_range=(1, 2), tfidf__norm=l2, tfidf__sublinear_tf=True \n",
      "[CV] lrg__C=1, tfidf__max_df=0.83, tfidf__ngram_range=(1, 2), tfidf__norm=l2, tfidf__sublinear_tf=True \n",
      "[CV]  lrg__C=1, tfidf__max_df=0.83, tfidf__ngram_range=(1, 2), tfidf__norm=l1, tfidf__sublinear_tf=False, score=0.822, total=  26.0s\n",
      "[CV] lrg__C=1, tfidf__max_df=0.83, tfidf__ngram_range=(1, 2), tfidf__norm=l2, tfidf__sublinear_tf=False \n",
      "[CV]  lrg__C=1, tfidf__max_df=0.83, tfidf__ngram_range=(1, 2), tfidf__norm=l1, tfidf__sublinear_tf=False, score=0.8231, total=  26.5s\n",
      "[CV] lrg__C=1, tfidf__max_df=0.83, tfidf__ngram_range=(1, 2), tfidf__norm=l2, tfidf__sublinear_tf=False \n",
      "[CV]  lrg__C=1, tfidf__max_df=0.83, tfidf__ngram_range=(1, 2), tfidf__norm=l2, tfidf__sublinear_tf=True, score=0.8972, total=  28.7s\n",
      "[CV]  lrg__C=1, tfidf__max_df=0.83, tfidf__ngram_range=(1, 2), tfidf__norm=l2, tfidf__sublinear_tf=True, score=0.8965, total=  28.8s\n"
     ]
    },
    {
     "name": "stderr",
     "output_type": "stream",
     "text": [
      "[Parallel(n_jobs=-1)]: Done  77 tasks      | elapsed:  7.4min\n"
     ]
    },
    {
     "name": "stdout",
     "output_type": "stream",
     "text": [
      "[CV] lrg__C=1, tfidf__max_df=1, tfidf__ngram_range=(1, 1), tfidf__norm=l1, tfidf__sublinear_tf=True \n",
      "[CV] lrg__C=1, tfidf__max_df=1, tfidf__ngram_range=(1, 1), tfidf__norm=l1, tfidf__sublinear_tf=True \n",
      "[CV]  lrg__C=1, tfidf__max_df=0.83, tfidf__ngram_range=(1, 2), tfidf__norm=l2, tfidf__sublinear_tf=False, score=0.8948, total=  28.8s\n",
      "[CV]  lrg__C=1, tfidf__max_df=0.83, tfidf__ngram_range=(1, 2), tfidf__norm=l2, tfidf__sublinear_tf=False, score=0.895, total=  29.3s\n",
      "[CV] lrg__C=1, tfidf__max_df=1, tfidf__ngram_range=(1, 1), tfidf__norm=l1, tfidf__sublinear_tf=False \n",
      "[CV] lrg__C=1, tfidf__max_df=1, tfidf__ngram_range=(1, 1), tfidf__norm=l1, tfidf__sublinear_tf=False \n",
      "[CV]  lrg__C=1, tfidf__max_df=1, tfidf__ngram_range=(1, 1), tfidf__norm=l1, tfidf__sublinear_tf=True, score=0.5595, total=   5.5s\n",
      "[CV] lrg__C=1, tfidf__max_df=1, tfidf__ngram_range=(1, 1), tfidf__norm=l2, tfidf__sublinear_tf=True \n",
      "[CV]  lrg__C=1, tfidf__max_df=1, tfidf__ngram_range=(1, 1), tfidf__norm=l1, tfidf__sublinear_tf=True, score=0.5533, total=   5.7s\n",
      "[CV] lrg__C=1, tfidf__max_df=1, tfidf__ngram_range=(1, 1), tfidf__norm=l2, tfidf__sublinear_tf=True \n",
      "[CV]  lrg__C=1, tfidf__max_df=1, tfidf__ngram_range=(1, 1), tfidf__norm=l1, tfidf__sublinear_tf=False, score=0.5597, total=   5.6s\n",
      "[CV] lrg__C=1, tfidf__max_df=1, tfidf__ngram_range=(1, 1), tfidf__norm=l2, tfidf__sublinear_tf=False \n",
      "[CV]  lrg__C=1, tfidf__max_df=1, tfidf__ngram_range=(1, 1), tfidf__norm=l1, tfidf__sublinear_tf=False, score=0.5545, total=   5.6s\n",
      "[CV] lrg__C=1, tfidf__max_df=1, tfidf__ngram_range=(1, 1), tfidf__norm=l2, tfidf__sublinear_tf=False \n",
      "[CV]  lrg__C=1, tfidf__max_df=1, tfidf__ngram_range=(1, 1), tfidf__norm=l2, tfidf__sublinear_tf=True, score=0.56, total=   5.6s\n",
      "[CV] lrg__C=1, tfidf__max_df=1, tfidf__ngram_range=(1, 2), tfidf__norm=l1, tfidf__sublinear_tf=True \n",
      "[CV]  lrg__C=1, tfidf__max_df=1, tfidf__ngram_range=(1, 1), tfidf__norm=l2, tfidf__sublinear_tf=True, score=0.5478, total=   5.6s\n",
      "[CV] lrg__C=1, tfidf__max_df=1, tfidf__ngram_range=(1, 2), tfidf__norm=l1, tfidf__sublinear_tf=True \n",
      "[CV]  lrg__C=1, tfidf__max_df=1, tfidf__ngram_range=(1, 1), tfidf__norm=l2, tfidf__sublinear_tf=False, score=0.5597, total=   5.6s\n",
      "[CV] lrg__C=1, tfidf__max_df=1, tfidf__ngram_range=(1, 2), tfidf__norm=l1, tfidf__sublinear_tf=False \n",
      "[CV]  lrg__C=1, tfidf__max_df=1, tfidf__ngram_range=(1, 1), tfidf__norm=l2, tfidf__sublinear_tf=False, score=0.5492, total=   5.6s\n",
      "[CV] lrg__C=1, tfidf__max_df=1, tfidf__ngram_range=(1, 2), tfidf__norm=l1, tfidf__sublinear_tf=False \n",
      "[CV]  lrg__C=1, tfidf__max_df=1, tfidf__ngram_range=(1, 2), tfidf__norm=l1, tfidf__sublinear_tf=True, score=0.6865, total=  19.0s\n",
      "[CV]  lrg__C=1, tfidf__max_df=1, tfidf__ngram_range=(1, 2), tfidf__norm=l1, tfidf__sublinear_tf=True, score=0.6896, total=  19.3s\n"
     ]
    },
    {
     "name": "stderr",
     "output_type": "stream",
     "text": [
      "[Parallel(n_jobs=-1)]: Done  90 tasks      | elapsed:  8.1min\n"
     ]
    },
    {
     "name": "stdout",
     "output_type": "stream",
     "text": [
      "[CV] lrg__C=1, tfidf__max_df=1, tfidf__ngram_range=(1, 2), tfidf__norm=l2, tfidf__sublinear_tf=True \n",
      "[CV] lrg__C=1, tfidf__max_df=1, tfidf__ngram_range=(1, 2), tfidf__norm=l2, tfidf__sublinear_tf=True \n",
      "[CV]  lrg__C=1, tfidf__max_df=1, tfidf__ngram_range=(1, 2), tfidf__norm=l1, tfidf__sublinear_tf=False, score=0.6871, total=  18.9s\n",
      "[CV]  lrg__C=1, tfidf__max_df=1, tfidf__ngram_range=(1, 2), tfidf__norm=l1, tfidf__sublinear_tf=False, score=0.6905, total=  19.2s\n",
      "[CV] lrg__C=1, tfidf__max_df=1, tfidf__ngram_range=(1, 2), tfidf__norm=l2, tfidf__sublinear_tf=False \n",
      "[CV] lrg__C=1, tfidf__max_df=1, tfidf__ngram_range=(1, 2), tfidf__norm=l2, tfidf__sublinear_tf=False \n",
      "[CV]  lrg__C=1, tfidf__max_df=1, tfidf__ngram_range=(1, 2), tfidf__norm=l2, tfidf__sublinear_tf=True, score=0.7062, total=  17.8s\n",
      "[CV]  lrg__C=1, tfidf__max_df=1, tfidf__ngram_range=(1, 2), tfidf__norm=l2, tfidf__sublinear_tf=True, score=0.6979, total=  17.6s\n",
      "[CV] lrg__C=66, tfidf__max_df=0.5, tfidf__ngram_range=(1, 1), tfidf__norm=l1, tfidf__sublinear_tf=True \n",
      "[CV] lrg__C=66, tfidf__max_df=0.5, tfidf__ngram_range=(1, 1), tfidf__norm=l1, tfidf__sublinear_tf=True \n",
      "[CV]  lrg__C=1, tfidf__max_df=1, tfidf__ngram_range=(1, 2), tfidf__norm=l2, tfidf__sublinear_tf=False, score=0.7079, total=  17.6s\n",
      "[CV]  lrg__C=1, tfidf__max_df=1, tfidf__ngram_range=(1, 2), tfidf__norm=l2, tfidf__sublinear_tf=False, score=0.6981, total=  17.5s\n",
      "[CV] lrg__C=66, tfidf__max_df=0.5, tfidf__ngram_range=(1, 1), tfidf__norm=l1, tfidf__sublinear_tf=False \n",
      "[CV] lrg__C=66, tfidf__max_df=0.5, tfidf__ngram_range=(1, 1), tfidf__norm=l1, tfidf__sublinear_tf=False \n",
      "[CV]  lrg__C=66, tfidf__max_df=0.5, tfidf__ngram_range=(1, 1), tfidf__norm=l1, tfidf__sublinear_tf=True, score=0.8874, total=  14.8s\n",
      "[CV]  lrg__C=66, tfidf__max_df=0.5, tfidf__ngram_range=(1, 1), tfidf__norm=l1, tfidf__sublinear_tf=True, score=0.88, total=  14.7s\n",
      "[CV] lrg__C=66, tfidf__max_df=0.5, tfidf__ngram_range=(1, 1), tfidf__norm=l2, tfidf__sublinear_tf=True \n",
      "[CV] lrg__C=66, tfidf__max_df=0.5, tfidf__ngram_range=(1, 1), tfidf__norm=l2, tfidf__sublinear_tf=True \n",
      "[CV]  lrg__C=66, tfidf__max_df=0.5, tfidf__ngram_range=(1, 1), tfidf__norm=l1, tfidf__sublinear_tf=False, score=0.8804, total=  14.6s\n",
      "[CV]  lrg__C=66, tfidf__max_df=0.5, tfidf__ngram_range=(1, 1), tfidf__norm=l1, tfidf__sublinear_tf=False, score=0.8863, total=  14.9s\n",
      "[CV] lrg__C=66, tfidf__max_df=0.5, tfidf__ngram_range=(1, 1), tfidf__norm=l2, tfidf__sublinear_tf=False \n",
      "[CV] lrg__C=66, tfidf__max_df=0.5, tfidf__ngram_range=(1, 1), tfidf__norm=l2, tfidf__sublinear_tf=False \n",
      "[CV]  lrg__C=66, tfidf__max_df=0.5, tfidf__ngram_range=(1, 1), tfidf__norm=l2, tfidf__sublinear_tf=True, score=0.8687, total=  11.6s\n",
      "[CV]  lrg__C=66, tfidf__max_df=0.5, tfidf__ngram_range=(1, 1), tfidf__norm=l2, tfidf__sublinear_tf=True, score=0.8711, total=  11.8s\n",
      "[CV] lrg__C=66, tfidf__max_df=0.5, tfidf__ngram_range=(1, 2), tfidf__norm=l1, tfidf__sublinear_tf=True \n",
      "[CV] lrg__C=66, tfidf__max_df=0.5, tfidf__ngram_range=(1, 2), tfidf__norm=l1, tfidf__sublinear_tf=True \n",
      "[CV]  lrg__C=66, tfidf__max_df=0.5, tfidf__ngram_range=(1, 1), tfidf__norm=l2, tfidf__sublinear_tf=False, score=0.869, total=  12.0s\n",
      "[CV]  lrg__C=66, tfidf__max_df=0.5, tfidf__ngram_range=(1, 1), tfidf__norm=l2, tfidf__sublinear_tf=False, score=0.8637, total=  12.0s\n",
      "[CV] lrg__C=66, tfidf__max_df=0.5, tfidf__ngram_range=(1, 2), tfidf__norm=l1, tfidf__sublinear_tf=False \n",
      "[CV] lrg__C=66, tfidf__max_df=0.5, tfidf__ngram_range=(1, 2), tfidf__norm=l1, tfidf__sublinear_tf=False \n",
      "[CV]  lrg__C=66, tfidf__max_df=0.5, tfidf__ngram_range=(1, 2), tfidf__norm=l1, tfidf__sublinear_tf=True, score=0.8899, total= 1.1min\n"
     ]
    },
    {
     "name": "stderr",
     "output_type": "stream",
     "text": [
      "[Parallel(n_jobs=-1)]: Done 105 tasks      | elapsed: 10.3min\n"
     ]
    },
    {
     "name": "stdout",
     "output_type": "stream",
     "text": [
      "[CV] lrg__C=66, tfidf__max_df=0.5, tfidf__ngram_range=(1, 2), tfidf__norm=l2, tfidf__sublinear_tf=True \n",
      "[CV]  lrg__C=66, tfidf__max_df=0.5, tfidf__ngram_range=(1, 2), tfidf__norm=l1, tfidf__sublinear_tf=False, score=0.8861, total= 1.1min\n",
      "[CV]  lrg__C=66, tfidf__max_df=0.5, tfidf__ngram_range=(1, 2), tfidf__norm=l1, tfidf__sublinear_tf=True, score=0.8908, total= 1.1min\n",
      "[CV] lrg__C=66, tfidf__max_df=0.5, tfidf__ngram_range=(1, 2), tfidf__norm=l2, tfidf__sublinear_tf=True \n",
      "[CV] lrg__C=66, tfidf__max_df=0.5, tfidf__ngram_range=(1, 2), tfidf__norm=l2, tfidf__sublinear_tf=False \n",
      "[CV]  lrg__C=66, tfidf__max_df=0.5, tfidf__ngram_range=(1, 2), tfidf__norm=l1, tfidf__sublinear_tf=False, score=0.8882, total= 1.1min\n",
      "[CV] lrg__C=66, tfidf__max_df=0.5, tfidf__ngram_range=(1, 2), tfidf__norm=l2, tfidf__sublinear_tf=False \n",
      "[CV]  lrg__C=66, tfidf__max_df=0.5, tfidf__ngram_range=(1, 2), tfidf__norm=l2, tfidf__sublinear_tf=True, score=0.8991, total= 1.0min\n",
      "[CV] lrg__C=66, tfidf__max_df=0.83, tfidf__ngram_range=(1, 1), tfidf__norm=l1, tfidf__sublinear_tf=True \n",
      "[CV]  lrg__C=66, tfidf__max_df=0.5, tfidf__ngram_range=(1, 2), tfidf__norm=l2, tfidf__sublinear_tf=False, score=0.8974, total= 1.0min\n",
      "[CV]  lrg__C=66, tfidf__max_df=0.5, tfidf__ngram_range=(1, 2), tfidf__norm=l2, tfidf__sublinear_tf=True, score=0.8976, total= 1.0min\n",
      "[CV] lrg__C=66, tfidf__max_df=0.83, tfidf__ngram_range=(1, 1), tfidf__norm=l1, tfidf__sublinear_tf=True \n",
      "[CV]  lrg__C=66, tfidf__max_df=0.5, tfidf__ngram_range=(1, 2), tfidf__norm=l2, tfidf__sublinear_tf=False, score=0.8969, total= 1.0min\n",
      "[CV] lrg__C=66, tfidf__max_df=0.83, tfidf__ngram_range=(1, 1), tfidf__norm=l1, tfidf__sublinear_tf=False \n",
      "[CV] lrg__C=66, tfidf__max_df=0.83, tfidf__ngram_range=(1, 1), tfidf__norm=l1, tfidf__sublinear_tf=False \n",
      "[CV]  lrg__C=66, tfidf__max_df=0.83, tfidf__ngram_range=(1, 1), tfidf__norm=l1, tfidf__sublinear_tf=True, score=0.8884, total=  14.9s\n",
      "[CV] lrg__C=66, tfidf__max_df=0.83, tfidf__ngram_range=(1, 1), tfidf__norm=l2, tfidf__sublinear_tf=True \n",
      "[CV]  lrg__C=66, tfidf__max_df=0.83, tfidf__ngram_range=(1, 1), tfidf__norm=l1, tfidf__sublinear_tf=True, score=0.8807, total=  14.0s\n",
      "[CV] lrg__C=66, tfidf__max_df=0.83, tfidf__ngram_range=(1, 1), tfidf__norm=l2, tfidf__sublinear_tf=True \n",
      "[CV]  lrg__C=66, tfidf__max_df=0.83, tfidf__ngram_range=(1, 1), tfidf__norm=l1, tfidf__sublinear_tf=False, score=0.8863, total=  14.1s\n",
      "[CV]  lrg__C=66, tfidf__max_df=0.83, tfidf__ngram_range=(1, 1), tfidf__norm=l1, tfidf__sublinear_tf=False, score=0.8808, total=  13.7s\n",
      "[CV] lrg__C=66, tfidf__max_df=0.83, tfidf__ngram_range=(1, 1), tfidf__norm=l2, tfidf__sublinear_tf=False \n",
      "[CV] lrg__C=66, tfidf__max_df=0.83, tfidf__ngram_range=(1, 1), tfidf__norm=l2, tfidf__sublinear_tf=False \n",
      "[CV]  lrg__C=66, tfidf__max_df=0.83, tfidf__ngram_range=(1, 1), tfidf__norm=l2, tfidf__sublinear_tf=True, score=0.8707, total=  10.0s\n",
      "[CV] lrg__C=66, tfidf__max_df=0.83, tfidf__ngram_range=(1, 2), tfidf__norm=l1, tfidf__sublinear_tf=True \n",
      "[CV]  lrg__C=66, tfidf__max_df=0.83, tfidf__ngram_range=(1, 1), tfidf__norm=l2, tfidf__sublinear_tf=True, score=0.8698, total=  10.7s\n",
      "[CV] lrg__C=66, tfidf__max_df=0.83, tfidf__ngram_range=(1, 2), tfidf__norm=l1, tfidf__sublinear_tf=True \n",
      "[CV]  lrg__C=66, tfidf__max_df=0.83, tfidf__ngram_range=(1, 1), tfidf__norm=l2, tfidf__sublinear_tf=False, score=0.8709, total=  10.5s\n",
      "[CV] lrg__C=66, tfidf__max_df=0.83, tfidf__ngram_range=(1, 2), tfidf__norm=l1, tfidf__sublinear_tf=False \n",
      "[CV]  lrg__C=66, tfidf__max_df=0.83, tfidf__ngram_range=(1, 1), tfidf__norm=l2, tfidf__sublinear_tf=False, score=0.8635, total=  10.7s\n"
     ]
    },
    {
     "name": "stderr",
     "output_type": "stream",
     "text": [
      "[Parallel(n_jobs=-1)]: Done 120 tasks      | elapsed: 12.1min\n"
     ]
    },
    {
     "name": "stdout",
     "output_type": "stream",
     "text": [
      "[CV] lrg__C=66, tfidf__max_df=0.83, tfidf__ngram_range=(1, 2), tfidf__norm=l1, tfidf__sublinear_tf=False \n",
      "[CV]  lrg__C=66, tfidf__max_df=0.83, tfidf__ngram_range=(1, 2), tfidf__norm=l1, tfidf__sublinear_tf=True, score=0.8899, total= 1.2min\n",
      "[CV] lrg__C=66, tfidf__max_df=0.83, tfidf__ngram_range=(1, 2), tfidf__norm=l2, tfidf__sublinear_tf=True \n",
      "[CV]  lrg__C=66, tfidf__max_df=0.83, tfidf__ngram_range=(1, 2), tfidf__norm=l1, tfidf__sublinear_tf=True, score=0.8903, total= 1.2min\n",
      "[CV] lrg__C=66, tfidf__max_df=0.83, tfidf__ngram_range=(1, 2), tfidf__norm=l2, tfidf__sublinear_tf=True \n",
      "[CV]  lrg__C=66, tfidf__max_df=0.83, tfidf__ngram_range=(1, 2), tfidf__norm=l1, tfidf__sublinear_tf=False, score=0.8856, total= 1.2min\n",
      "[CV] lrg__C=66, tfidf__max_df=0.83, tfidf__ngram_range=(1, 2), tfidf__norm=l2, tfidf__sublinear_tf=False \n",
      "[CV]  lrg__C=66, tfidf__max_df=0.83, tfidf__ngram_range=(1, 2), tfidf__norm=l1, tfidf__sublinear_tf=False, score=0.8859, total= 1.2min\n",
      "[CV] lrg__C=66, tfidf__max_df=0.83, tfidf__ngram_range=(1, 2), tfidf__norm=l2, tfidf__sublinear_tf=False \n",
      "[CV]  lrg__C=66, tfidf__max_df=0.83, tfidf__ngram_range=(1, 2), tfidf__norm=l2, tfidf__sublinear_tf=True, score=0.8999, total=  57.4s\n",
      "[CV]  lrg__C=66, tfidf__max_df=0.83, tfidf__ngram_range=(1, 2), tfidf__norm=l2, tfidf__sublinear_tf=True, score=0.8973, total=  56.6s\n",
      "[CV] lrg__C=66, tfidf__max_df=1, tfidf__ngram_range=(1, 1), tfidf__norm=l1, tfidf__sublinear_tf=True \n",
      "[CV] lrg__C=66, tfidf__max_df=1, tfidf__ngram_range=(1, 1), tfidf__norm=l1, tfidf__sublinear_tf=True \n",
      "[CV]  lrg__C=66, tfidf__max_df=0.83, tfidf__ngram_range=(1, 2), tfidf__norm=l2, tfidf__sublinear_tf=False, score=0.8975, total=  56.4s\n",
      "[CV]  lrg__C=66, tfidf__max_df=0.83, tfidf__ngram_range=(1, 2), tfidf__norm=l2, tfidf__sublinear_tf=False, score=0.8976, total=  57.6s\n",
      "[CV] lrg__C=66, tfidf__max_df=1, tfidf__ngram_range=(1, 1), tfidf__norm=l1, tfidf__sublinear_tf=False \n",
      "[CV] lrg__C=66, tfidf__max_df=1, tfidf__ngram_range=(1, 1), tfidf__norm=l1, tfidf__sublinear_tf=False \n",
      "[CV]  lrg__C=66, tfidf__max_df=1, tfidf__ngram_range=(1, 1), tfidf__norm=l1, tfidf__sublinear_tf=True, score=0.5603, total=   6.3s\n",
      "[CV] lrg__C=66, tfidf__max_df=1, tfidf__ngram_range=(1, 1), tfidf__norm=l2, tfidf__sublinear_tf=True \n",
      "[CV]  lrg__C=66, tfidf__max_df=1, tfidf__ngram_range=(1, 1), tfidf__norm=l1, tfidf__sublinear_tf=True, score=0.5503, total=   6.4s\n",
      "[CV] lrg__C=66, tfidf__max_df=1, tfidf__ngram_range=(1, 1), tfidf__norm=l2, tfidf__sublinear_tf=True \n",
      "[CV]  lrg__C=66, tfidf__max_df=1, tfidf__ngram_range=(1, 1), tfidf__norm=l1, tfidf__sublinear_tf=False, score=0.5605, total=   6.3s\n",
      "[CV] lrg__C=66, tfidf__max_df=1, tfidf__ngram_range=(1, 1), tfidf__norm=l2, tfidf__sublinear_tf=False \n",
      "[CV]  lrg__C=66, tfidf__max_df=1, tfidf__ngram_range=(1, 1), tfidf__norm=l1, tfidf__sublinear_tf=False, score=0.5509, total=   6.3s\n",
      "[CV] lrg__C=66, tfidf__max_df=1, tfidf__ngram_range=(1, 1), tfidf__norm=l2, tfidf__sublinear_tf=False \n",
      "[CV]  lrg__C=66, tfidf__max_df=1, tfidf__ngram_range=(1, 1), tfidf__norm=l2, tfidf__sublinear_tf=True, score=0.5598, total=   7.5s\n",
      "[CV]  lrg__C=66, tfidf__max_df=1, tfidf__ngram_range=(1, 1), tfidf__norm=l2, tfidf__sublinear_tf=True, score=0.5481, total=   7.3s\n",
      "[CV] lrg__C=66, tfidf__max_df=1, tfidf__ngram_range=(1, 2), tfidf__norm=l1, tfidf__sublinear_tf=True \n",
      "[CV] lrg__C=66, tfidf__max_df=1, tfidf__ngram_range=(1, 2), tfidf__norm=l1, tfidf__sublinear_tf=True \n",
      "[CV]  lrg__C=66, tfidf__max_df=1, tfidf__ngram_range=(1, 1), tfidf__norm=l2, tfidf__sublinear_tf=False, score=0.5595, total=   7.4s\n",
      "[CV] lrg__C=66, tfidf__max_df=1, tfidf__ngram_range=(1, 2), tfidf__norm=l1, tfidf__sublinear_tf=False \n",
      "[CV]  lrg__C=66, tfidf__max_df=1, tfidf__ngram_range=(1, 1), tfidf__norm=l2, tfidf__sublinear_tf=False, score=0.5494, total=   7.3s\n",
      "[CV] lrg__C=66, tfidf__max_df=1, tfidf__ngram_range=(1, 2), tfidf__norm=l1, tfidf__sublinear_tf=False \n",
      "[CV]  lrg__C=66, tfidf__max_df=1, tfidf__ngram_range=(1, 2), tfidf__norm=l1, tfidf__sublinear_tf=True, score=0.7011, total=  30.9s\n"
     ]
    },
    {
     "name": "stderr",
     "output_type": "stream",
     "text": [
      "[Parallel(n_jobs=-1)]: Done 137 tasks      | elapsed: 15.4min\n"
     ]
    },
    {
     "name": "stdout",
     "output_type": "stream",
     "text": [
      "[CV]  lrg__C=66, tfidf__max_df=1, tfidf__ngram_range=(1, 2), tfidf__norm=l1, tfidf__sublinear_tf=True, score=0.7103, total=  31.4s\n",
      "[CV] lrg__C=66, tfidf__max_df=1, tfidf__ngram_range=(1, 2), tfidf__norm=l2, tfidf__sublinear_tf=True \n",
      "[CV] lrg__C=66, tfidf__max_df=1, tfidf__ngram_range=(1, 2), tfidf__norm=l2, tfidf__sublinear_tf=True \n",
      "[CV]  lrg__C=66, tfidf__max_df=1, tfidf__ngram_range=(1, 2), tfidf__norm=l1, tfidf__sublinear_tf=False, score=0.7011, total=  30.8s\n",
      "[CV]  lrg__C=66, tfidf__max_df=1, tfidf__ngram_range=(1, 2), tfidf__norm=l1, tfidf__sublinear_tf=False, score=0.711, total=  31.1s\n",
      "[CV] lrg__C=66, tfidf__max_df=1, tfidf__ngram_range=(1, 2), tfidf__norm=l2, tfidf__sublinear_tf=False \n",
      "[CV] lrg__C=66, tfidf__max_df=1, tfidf__ngram_range=(1, 2), tfidf__norm=l2, tfidf__sublinear_tf=False \n",
      "[CV]  lrg__C=66, tfidf__max_df=1, tfidf__ngram_range=(1, 2), tfidf__norm=l2, tfidf__sublinear_tf=True, score=0.6645, total=  30.5s\n",
      "[CV]  lrg__C=66, tfidf__max_df=1, tfidf__ngram_range=(1, 2), tfidf__norm=l2, tfidf__sublinear_tf=True, score=0.701, total=  31.0s\n",
      "[CV] lrg__C=6666, tfidf__max_df=0.5, tfidf__ngram_range=(1, 1), tfidf__norm=l1, tfidf__sublinear_tf=True \n",
      "[CV] lrg__C=6666, tfidf__max_df=0.5, tfidf__ngram_range=(1, 1), tfidf__norm=l1, tfidf__sublinear_tf=True \n",
      "[CV]  lrg__C=66, tfidf__max_df=1, tfidf__ngram_range=(1, 2), tfidf__norm=l2, tfidf__sublinear_tf=False, score=0.6647, total=  30.1s\n",
      "[CV]  lrg__C=66, tfidf__max_df=1, tfidf__ngram_range=(1, 2), tfidf__norm=l2, tfidf__sublinear_tf=False, score=0.7035, total=  30.7s\n",
      "[CV] lrg__C=6666, tfidf__max_df=0.5, tfidf__ngram_range=(1, 1), tfidf__norm=l1, tfidf__sublinear_tf=False \n",
      "[CV] lrg__C=6666, tfidf__max_df=0.5, tfidf__ngram_range=(1, 1), tfidf__norm=l1, tfidf__sublinear_tf=False \n",
      "[CV]  lrg__C=6666, tfidf__max_df=0.5, tfidf__ngram_range=(1, 1), tfidf__norm=l1, tfidf__sublinear_tf=True, score=0.8703, total=  12.3s\n",
      "[CV]  lrg__C=6666, tfidf__max_df=0.5, tfidf__ngram_range=(1, 1), tfidf__norm=l1, tfidf__sublinear_tf=True, score=0.871, total=  12.6s\n",
      "[CV] lrg__C=6666, tfidf__max_df=0.5, tfidf__ngram_range=(1, 1), tfidf__norm=l2, tfidf__sublinear_tf=True \n",
      "[CV] lrg__C=6666, tfidf__max_df=0.5, tfidf__ngram_range=(1, 1), tfidf__norm=l2, tfidf__sublinear_tf=True \n",
      "[CV]  lrg__C=6666, tfidf__max_df=0.5, tfidf__ngram_range=(1, 1), tfidf__norm=l1, tfidf__sublinear_tf=False, score=0.8679, total=  12.2s\n",
      "[CV]  lrg__C=6666, tfidf__max_df=0.5, tfidf__ngram_range=(1, 1), tfidf__norm=l1, tfidf__sublinear_tf=False, score=0.8696, total=  12.6s\n",
      "[CV] lrg__C=6666, tfidf__max_df=0.5, tfidf__ngram_range=(1, 1), tfidf__norm=l2, tfidf__sublinear_tf=False \n",
      "[CV] lrg__C=6666, tfidf__max_df=0.5, tfidf__ngram_range=(1, 1), tfidf__norm=l2, tfidf__sublinear_tf=False \n",
      "[CV]  lrg__C=6666, tfidf__max_df=0.5, tfidf__ngram_range=(1, 1), tfidf__norm=l2, tfidf__sublinear_tf=True, score=0.8706, total=   6.7s\n",
      "[CV]  lrg__C=6666, tfidf__max_df=0.5, tfidf__ngram_range=(1, 1), tfidf__norm=l2, tfidf__sublinear_tf=True, score=0.8687, total=   6.7s\n",
      "[CV] lrg__C=6666, tfidf__max_df=0.5, tfidf__ngram_range=(1, 2), tfidf__norm=l1, tfidf__sublinear_tf=True \n",
      "[CV] lrg__C=6666, tfidf__max_df=0.5, tfidf__ngram_range=(1, 2), tfidf__norm=l1, tfidf__sublinear_tf=True \n",
      "[CV]  lrg__C=6666, tfidf__max_df=0.5, tfidf__ngram_range=(1, 1), tfidf__norm=l2, tfidf__sublinear_tf=False, score=0.8687, total=   6.7s\n",
      "[CV] lrg__C=6666, tfidf__max_df=0.5, tfidf__ngram_range=(1, 2), tfidf__norm=l1, tfidf__sublinear_tf=False \n",
      "[CV]  lrg__C=6666, tfidf__max_df=0.5, tfidf__ngram_range=(1, 1), tfidf__norm=l2, tfidf__sublinear_tf=False, score=0.8631, total=   6.8s\n",
      "[CV] lrg__C=6666, tfidf__max_df=0.5, tfidf__ngram_range=(1, 2), tfidf__norm=l1, tfidf__sublinear_tf=False \n",
      "[CV]  lrg__C=6666, tfidf__max_df=0.5, tfidf__ngram_range=(1, 2), tfidf__norm=l1, tfidf__sublinear_tf=True, score=0.8946, total= 1.3min\n",
      "[CV] lrg__C=6666, tfidf__max_df=0.5, tfidf__ngram_range=(1, 2), tfidf__norm=l2, tfidf__sublinear_tf=True \n",
      "[CV]  lrg__C=6666, tfidf__max_df=0.5, tfidf__ngram_range=(1, 2), tfidf__norm=l1, tfidf__sublinear_tf=True, score=0.8879, total= 1.3min\n"
     ]
    },
    {
     "name": "stderr",
     "output_type": "stream",
     "text": [
      "[Parallel(n_jobs=-1)]: Done 154 tasks      | elapsed: 18.0min\n"
     ]
    },
    {
     "name": "stdout",
     "output_type": "stream",
     "text": [
      "[CV] lrg__C=6666, tfidf__max_df=0.5, tfidf__ngram_range=(1, 2), tfidf__norm=l2, tfidf__sublinear_tf=True \n",
      "[CV]  lrg__C=6666, tfidf__max_df=0.5, tfidf__ngram_range=(1, 2), tfidf__norm=l1, tfidf__sublinear_tf=False, score=0.8931, total= 1.3min\n",
      "[CV] lrg__C=6666, tfidf__max_df=0.5, tfidf__ngram_range=(1, 2), tfidf__norm=l2, tfidf__sublinear_tf=False \n",
      "[CV]  lrg__C=6666, tfidf__max_df=0.5, tfidf__ngram_range=(1, 2), tfidf__norm=l1, tfidf__sublinear_tf=False, score=0.8918, total= 1.3min\n",
      "[CV] lrg__C=6666, tfidf__max_df=0.5, tfidf__ngram_range=(1, 2), tfidf__norm=l2, tfidf__sublinear_tf=False \n",
      "[CV]  lrg__C=6666, tfidf__max_df=0.5, tfidf__ngram_range=(1, 2), tfidf__norm=l2, tfidf__sublinear_tf=True, score=0.8973, total=  24.5s\n",
      "[CV]  lrg__C=6666, tfidf__max_df=0.5, tfidf__ngram_range=(1, 2), tfidf__norm=l2, tfidf__sublinear_tf=True, score=0.8994, total=  26.0s\n",
      "[CV] lrg__C=6666, tfidf__max_df=0.83, tfidf__ngram_range=(1, 1), tfidf__norm=l1, tfidf__sublinear_tf=True \n",
      "[CV] lrg__C=6666, tfidf__max_df=0.83, tfidf__ngram_range=(1, 1), tfidf__norm=l1, tfidf__sublinear_tf=True \n",
      "[CV]  lrg__C=6666, tfidf__max_df=0.5, tfidf__ngram_range=(1, 2), tfidf__norm=l2, tfidf__sublinear_tf=False, score=0.8975, total=  23.9s\n",
      "[CV] lrg__C=6666, tfidf__max_df=0.83, tfidf__ngram_range=(1, 1), tfidf__norm=l1, tfidf__sublinear_tf=False \n",
      "[CV]  lrg__C=6666, tfidf__max_df=0.5, tfidf__ngram_range=(1, 2), tfidf__norm=l2, tfidf__sublinear_tf=False, score=0.897, total=  23.7s\n",
      "[CV] lrg__C=6666, tfidf__max_df=0.83, tfidf__ngram_range=(1, 1), tfidf__norm=l1, tfidf__sublinear_tf=False \n",
      "[CV]  lrg__C=6666, tfidf__max_df=0.83, tfidf__ngram_range=(1, 1), tfidf__norm=l1, tfidf__sublinear_tf=True, score=0.8718, total=  14.9s\n",
      "[CV]  lrg__C=6666, tfidf__max_df=0.83, tfidf__ngram_range=(1, 1), tfidf__norm=l1, tfidf__sublinear_tf=True, score=0.8728, total=  14.7s\n",
      "[CV] lrg__C=6666, tfidf__max_df=0.83, tfidf__ngram_range=(1, 1), tfidf__norm=l2, tfidf__sublinear_tf=True \n",
      "[CV] lrg__C=6666, tfidf__max_df=0.83, tfidf__ngram_range=(1, 1), tfidf__norm=l2, tfidf__sublinear_tf=True \n",
      "[CV]  lrg__C=6666, tfidf__max_df=0.83, tfidf__ngram_range=(1, 1), tfidf__norm=l1, tfidf__sublinear_tf=False, score=0.8724, total=  14.9s\n",
      "[CV]  lrg__C=6666, tfidf__max_df=0.83, tfidf__ngram_range=(1, 1), tfidf__norm=l1, tfidf__sublinear_tf=False, score=0.8667, total=  14.6s\n",
      "[CV] lrg__C=6666, tfidf__max_df=0.83, tfidf__ngram_range=(1, 1), tfidf__norm=l2, tfidf__sublinear_tf=False \n",
      "[CV] lrg__C=6666, tfidf__max_df=0.83, tfidf__ngram_range=(1, 1), tfidf__norm=l2, tfidf__sublinear_tf=False \n",
      "[CV]  lrg__C=6666, tfidf__max_df=0.83, tfidf__ngram_range=(1, 1), tfidf__norm=l2, tfidf__sublinear_tf=True, score=0.87, total=   8.0s\n",
      "[CV]  lrg__C=6666, tfidf__max_df=0.83, tfidf__ngram_range=(1, 1), tfidf__norm=l2, tfidf__sublinear_tf=True, score=0.8698, total=   8.0s\n",
      "[CV] lrg__C=6666, tfidf__max_df=0.83, tfidf__ngram_range=(1, 2), tfidf__norm=l1, tfidf__sublinear_tf=True \n",
      "[CV] lrg__C=6666, tfidf__max_df=0.83, tfidf__ngram_range=(1, 2), tfidf__norm=l1, tfidf__sublinear_tf=True \n",
      "[CV]  lrg__C=6666, tfidf__max_df=0.83, tfidf__ngram_range=(1, 1), tfidf__norm=l2, tfidf__sublinear_tf=False, score=0.8703, total=   8.3s\n",
      "[CV] lrg__C=6666, tfidf__max_df=0.83, tfidf__ngram_range=(1, 2), tfidf__norm=l1, tfidf__sublinear_tf=False \n",
      "[CV]  lrg__C=6666, tfidf__max_df=0.83, tfidf__ngram_range=(1, 1), tfidf__norm=l2, tfidf__sublinear_tf=False, score=0.8624, total=  10.6s\n",
      "[CV] lrg__C=6666, tfidf__max_df=0.83, tfidf__ngram_range=(1, 2), tfidf__norm=l1, tfidf__sublinear_tf=False \n",
      "[CV]  lrg__C=6666, tfidf__max_df=0.83, tfidf__ngram_range=(1, 2), tfidf__norm=l1, tfidf__sublinear_tf=True, score=0.8945, total= 1.2min\n",
      "[CV] lrg__C=6666, tfidf__max_df=0.83, tfidf__ngram_range=(1, 2), tfidf__norm=l2, tfidf__sublinear_tf=True \n",
      "[CV]  lrg__C=6666, tfidf__max_df=0.83, tfidf__ngram_range=(1, 2), tfidf__norm=l1, tfidf__sublinear_tf=True, score=0.8958, total= 1.2min\n",
      "[CV] lrg__C=6666, tfidf__max_df=0.83, tfidf__ngram_range=(1, 2), tfidf__norm=l2, tfidf__sublinear_tf=True \n",
      "[CV]  lrg__C=6666, tfidf__max_df=0.83, tfidf__ngram_range=(1, 2), tfidf__norm=l1, tfidf__sublinear_tf=False, score=0.8963, total= 1.2min\n",
      "[CV] lrg__C=6666, tfidf__max_df=0.83, tfidf__ngram_range=(1, 2), tfidf__norm=l2, tfidf__sublinear_tf=False \n",
      "[CV]  lrg__C=6666, tfidf__max_df=0.83, tfidf__ngram_range=(1, 2), tfidf__norm=l1, tfidf__sublinear_tf=False, score=0.8938, total= 1.2min\n",
      "[CV] lrg__C=6666, tfidf__max_df=0.83, tfidf__ngram_range=(1, 2), tfidf__norm=l2, tfidf__sublinear_tf=False \n",
      "[CV]  lrg__C=6666, tfidf__max_df=0.83, tfidf__ngram_range=(1, 2), tfidf__norm=l2, tfidf__sublinear_tf=True, score=0.9, total=  30.5s\n"
     ]
    },
    {
     "name": "stderr",
     "output_type": "stream",
     "text": [
      "[Parallel(n_jobs=-1)]: Done 173 tasks      | elapsed: 21.0min\n"
     ]
    },
    {
     "name": "stdout",
     "output_type": "stream",
     "text": [
      "[CV]  lrg__C=6666, tfidf__max_df=0.83, tfidf__ngram_range=(1, 2), tfidf__norm=l2, tfidf__sublinear_tf=True, score=0.8971, total=  29.7s\n",
      "[CV] lrg__C=6666, tfidf__max_df=1, tfidf__ngram_range=(1, 1), tfidf__norm=l1, tfidf__sublinear_tf=True \n",
      "[CV] lrg__C=6666, tfidf__max_df=1, tfidf__ngram_range=(1, 1), tfidf__norm=l1, tfidf__sublinear_tf=True \n",
      "[CV]  lrg__C=6666, tfidf__max_df=0.83, tfidf__ngram_range=(1, 2), tfidf__norm=l2, tfidf__sublinear_tf=False, score=0.8974, total=  30.8s\n",
      "[CV]  lrg__C=6666, tfidf__max_df=0.83, tfidf__ngram_range=(1, 2), tfidf__norm=l2, tfidf__sublinear_tf=False, score=0.8977, total=  29.8s\n",
      "[CV] lrg__C=6666, tfidf__max_df=1, tfidf__ngram_range=(1, 1), tfidf__norm=l1, tfidf__sublinear_tf=False \n",
      "[CV] lrg__C=6666, tfidf__max_df=1, tfidf__ngram_range=(1, 1), tfidf__norm=l1, tfidf__sublinear_tf=False \n",
      "[CV]  lrg__C=6666, tfidf__max_df=1, tfidf__ngram_range=(1, 1), tfidf__norm=l1, tfidf__sublinear_tf=True, score=0.5253, total=   6.4s\n",
      "[CV] lrg__C=6666, tfidf__max_df=1, tfidf__ngram_range=(1, 1), tfidf__norm=l2, tfidf__sublinear_tf=True \n",
      "[CV]  lrg__C=6666, tfidf__max_df=1, tfidf__ngram_range=(1, 1), tfidf__norm=l1, tfidf__sublinear_tf=True, score=0.5267, total=   6.4s\n",
      "[CV] lrg__C=6666, tfidf__max_df=1, tfidf__ngram_range=(1, 1), tfidf__norm=l2, tfidf__sublinear_tf=True \n",
      "[CV]  lrg__C=6666, tfidf__max_df=1, tfidf__ngram_range=(1, 1), tfidf__norm=l1, tfidf__sublinear_tf=False, score=0.5268, total=   6.4s\n",
      "[CV] lrg__C=6666, tfidf__max_df=1, tfidf__ngram_range=(1, 1), tfidf__norm=l2, tfidf__sublinear_tf=False \n",
      "[CV]  lrg__C=6666, tfidf__max_df=1, tfidf__ngram_range=(1, 1), tfidf__norm=l1, tfidf__sublinear_tf=False, score=0.5253, total=   6.3s\n",
      "[CV] lrg__C=6666, tfidf__max_df=1, tfidf__ngram_range=(1, 1), tfidf__norm=l2, tfidf__sublinear_tf=False \n",
      "[CV]  lrg__C=6666, tfidf__max_df=1, tfidf__ngram_range=(1, 1), tfidf__norm=l2, tfidf__sublinear_tf=True, score=0.5684, total=   6.4s\n",
      "[CV]  lrg__C=6666, tfidf__max_df=1, tfidf__ngram_range=(1, 1), tfidf__norm=l2, tfidf__sublinear_tf=True, score=0.5117, total=   6.4s\n",
      "[CV] lrg__C=6666, tfidf__max_df=1, tfidf__ngram_range=(1, 2), tfidf__norm=l1, tfidf__sublinear_tf=True \n",
      "[CV] lrg__C=6666, tfidf__max_df=1, tfidf__ngram_range=(1, 2), tfidf__norm=l1, tfidf__sublinear_tf=True \n",
      "[CV]  lrg__C=6666, tfidf__max_df=1, tfidf__ngram_range=(1, 1), tfidf__norm=l2, tfidf__sublinear_tf=False, score=0.5688, total=   6.5s\n",
      "[CV] lrg__C=6666, tfidf__max_df=1, tfidf__ngram_range=(1, 2), tfidf__norm=l1, tfidf__sublinear_tf=False \n",
      "[CV]  lrg__C=6666, tfidf__max_df=1, tfidf__ngram_range=(1, 1), tfidf__norm=l2, tfidf__sublinear_tf=False, score=0.5127, total=   6.4s\n",
      "[CV] lrg__C=6666, tfidf__max_df=1, tfidf__ngram_range=(1, 2), tfidf__norm=l1, tfidf__sublinear_tf=False \n",
      "[CV]  lrg__C=6666, tfidf__max_df=1, tfidf__ngram_range=(1, 2), tfidf__norm=l1, tfidf__sublinear_tf=True, score=0.6996, total=  29.8s\n",
      "[CV] lrg__C=6666, tfidf__max_df=1, tfidf__ngram_range=(1, 2), tfidf__norm=l2, tfidf__sublinear_tf=True \n",
      "[CV]  lrg__C=6666, tfidf__max_df=1, tfidf__ngram_range=(1, 2), tfidf__norm=l1, tfidf__sublinear_tf=True, score=0.7045, total=  30.3s\n",
      "[CV] lrg__C=6666, tfidf__max_df=1, tfidf__ngram_range=(1, 2), tfidf__norm=l2, tfidf__sublinear_tf=True \n",
      "[CV]  lrg__C=6666, tfidf__max_df=1, tfidf__ngram_range=(1, 2), tfidf__norm=l1, tfidf__sublinear_tf=False, score=0.6985, total=  30.2s\n",
      "[CV]  lrg__C=6666, tfidf__max_df=1, tfidf__ngram_range=(1, 2), tfidf__norm=l1, tfidf__sublinear_tf=False, score=0.7052, total=  30.5s\n",
      "[CV] lrg__C=6666, tfidf__max_df=1, tfidf__ngram_range=(1, 2), tfidf__norm=l2, tfidf__sublinear_tf=False \n",
      "[CV] lrg__C=6666, tfidf__max_df=1, tfidf__ngram_range=(1, 2), tfidf__norm=l2, tfidf__sublinear_tf=False \n",
      "[CV]  lrg__C=6666, tfidf__max_df=1, tfidf__ngram_range=(1, 2), tfidf__norm=l2, tfidf__sublinear_tf=True, score=0.6499, total=  28.5s\n",
      "[CV]  lrg__C=6666, tfidf__max_df=1, tfidf__ngram_range=(1, 2), tfidf__norm=l2, tfidf__sublinear_tf=True, score=0.563, total=  28.2s\n",
      "[CV]  lrg__C=6666, tfidf__max_df=1, tfidf__ngram_range=(1, 2), tfidf__norm=l2, tfidf__sublinear_tf=False, score=0.5656, total=  28.0s\n",
      "[CV]  lrg__C=6666, tfidf__max_df=1, tfidf__ngram_range=(1, 2), tfidf__norm=l2, tfidf__sublinear_tf=False, score=0.6508, total=  28.7s\n"
     ]
    },
    {
     "name": "stderr",
     "output_type": "stream",
     "text": [
      "[Parallel(n_jobs=-1)]: Done 192 out of 192 | elapsed: 22.5min finished\n"
     ]
    },
    {
     "name": "stdout",
     "output_type": "stream",
     "text": [
      "Model with rank: 1\n",
      "Mean validation score: 0.899 (std: 0.001)\n",
      "Parameters: {'lrg__C': 66, 'tfidf__max_df': 0.83, 'tfidf__ngram_range': (1, 2), 'tfidf__norm': 'l2', 'tfidf__sublinear_tf': True}\n",
      "\n",
      "Model with rank: 2\n",
      "Mean validation score: 0.899 (std: 0.001)\n",
      "Parameters: {'lrg__C': 6666, 'tfidf__max_df': 0.83, 'tfidf__ngram_range': (1, 2), 'tfidf__norm': 'l2', 'tfidf__sublinear_tf': True}\n",
      "\n",
      "Model with rank: 3\n",
      "Mean validation score: 0.898 (std: 0.001)\n",
      "Parameters: {'lrg__C': 66, 'tfidf__max_df': 0.5, 'tfidf__ngram_range': (1, 2), 'tfidf__norm': 'l2', 'tfidf__sublinear_tf': True}\n",
      "\n",
      "Model with rank: 3\n",
      "Mean validation score: 0.898 (std: 0.001)\n",
      "Parameters: {'lrg__C': 6666, 'tfidf__max_df': 0.5, 'tfidf__ngram_range': (1, 2), 'tfidf__norm': 'l2', 'tfidf__sublinear_tf': True}\n",
      "\n"
     ]
    }
   ],
   "source": [
    "commentSvmCVBPipeline = Pipeline([\n",
    "    ('tfidf', TfidfVectorizer()),\n",
    "    ('lrg', svm.LinearSVC())\n",
    "])\n",
    "\n",
    "gridSearch = GridSearchCV(commentSvmCVBPipeline, {\n",
    "    'tfidf__sublinear_tf': [True, False], \n",
    "    'tfidf__ngram_range': [(1, 1), (1, 2)], \n",
    "    'tfidf__norm': ['l1', 'l2'], \n",
    "    'tfidf__max_df': [0.5, 0.83, 1], \n",
    "    'lrg__C': [0.5, 1, 66, 6666]\n",
    "}, cv=2, verbose=10, n_jobs=-1)\n",
    "\n",
    "gridSearch.fit(X_train, y_train)\n",
    "report(gridSearch.cv_results_)"
   ]
  },
  {
   "cell_type": "code",
   "execution_count": 43,
   "metadata": {},
   "outputs": [
    {
     "name": "stdout",
     "output_type": "stream",
     "text": [
      "0.9135071090047393\n"
     ]
    }
   ],
   "source": [
    "commentSvmBFPipeline = Pipeline([\n",
    "    ('tfidf', TfidfVectorizer(max_df=0.83, ngram_range=(1, 2), norm='l2', sublinear_tf=True)),\n",
    "    ('lrg', svm.LinearSVC(C=66))\n",
    "])\n",
    "\n",
    "commentSvmBFPipeline.fit(X_train, y_train)\n",
    "y_pred = commentSvmBFPipeline.predict(X_test)\n",
    "print(metrics.f1_score(y_test, y_pred))"
   ]
  },
  {
   "cell_type": "markdown",
   "metadata": {},
   "source": [
    "## Remove Stopword"
   ]
  },
  {
   "cell_type": "code",
   "execution_count": 12,
   "metadata": {},
   "outputs": [
    {
     "name": "stdout",
     "output_type": "stream",
     "text": [
      "0.9018525817895151\n"
     ]
    }
   ],
   "source": [
    "commentSvmCPipeline = Pipeline([\n",
    "    ('tfidf', TfidfVectorizer(max_df=0.83, ngram_range=(1, 2), norm='l2', sublinear_tf=True, tokenizer = lambda x: stopWordRemover(x.split()))),\n",
    "    ('lrg', svm.LinearSVC())\n",
    "])\n",
    "\n",
    "commentSvmCPipeline.fit(X_train, y_train)\n",
    "y_pred = commentSvmCPipeline.predict(X_test)\n",
    "print(metrics.f1_score(y_test, y_pred))"
   ]
  },
  {
   "cell_type": "markdown",
   "metadata": {},
   "source": [
    "## Lemma and Stemma"
   ]
  },
  {
   "cell_type": "code",
   "execution_count": 51,
   "metadata": {},
   "outputs": [
    {
     "name": "stdout",
     "output_type": "stream",
     "text": [
      "0.9147592738752961\n"
     ]
    }
   ],
   "source": [
    "commentSvmDPipeline = Pipeline([\n",
    "    ('tfidf', TfidfVectorizer(max_df=0.83, ngram_range=(1, 2), norm='l2', sublinear_tf=True, tokenizer = lambda x: lemma(x.split()))),\n",
    "    ('lrg', svm.LinearSVC())\n",
    "])\n",
    "\n",
    "commentSvmDPipeline.fit(X_train, y_train)\n",
    "y_pred = commentSvmDPipeline.predict(X_test)\n",
    "print(metrics.f1_score(y_test, y_pred))"
   ]
  },
  {
   "cell_type": "markdown",
   "metadata": {},
   "source": [
    "# NBLogisticRegression"
   ]
  },
  {
   "cell_type": "code",
   "execution_count": 14,
   "metadata": {},
   "outputs": [],
   "source": [
    "from sklearn.base import BaseEstimator, ClassifierMixin\n",
    "from sklearn.utils.validation import check_X_y, check_is_fitted"
   ]
  },
  {
   "cell_type": "code",
   "execution_count": 15,
   "metadata": {},
   "outputs": [],
   "source": [
    "class NBWrapper(BaseEstimator, ClassifierMixin):\n",
    "    def __init__(self, C=1, dual=False, fit_intercept=True, penalty='l2', alpha=1):\n",
    "        self.classifier = None\n",
    "        self.X_ = None\n",
    "        self.y_ = None\n",
    "        self.r = None\n",
    "        self.alpha = alpha\n",
    "        self.C = C\n",
    "        self.dual = dual\n",
    "        self.fit_intercept = fit_intercept\n",
    "        self.penalty = penalty\n",
    "\n",
    "    def fit(self, X, y):\n",
    "        X, y = check_X_y(X, y, accept_sparse=True)\n",
    "        p = self.alpha + X[y == 1].sum(0)\n",
    "        q = self.alpha + X[y == 0].sum(0)\n",
    "        p_vn = p / (np.linalg.norm(p))\n",
    "        q_vn = q / (np.linalg.norm(q))\n",
    "        self.r = sparse.csr_matrix(np.log(p_vn / q_vn))\n",
    "        X2 = X.multiply(self.r)\n",
    "        self.classifier = LogisticRegression(C=self.C, dual=self.dual, fit_intercept=self.fit_intercept, penalty=self.penalty).fit(X2, y)\n",
    "        self.X_ = X2\n",
    "        self.y_ = y\n",
    "        return self\n",
    "\n",
    "    def predict(self, X):\n",
    "        check_is_fitted(self, ['X_', 'y_'])\n",
    "        return self.classifier.predict(X.multiply(self.r))"
   ]
  },
  {
   "cell_type": "code",
   "execution_count": 17,
   "metadata": {},
   "outputs": [],
   "source": [
    "unionRPipeline = FeatureUnion([\n",
    "    ('bigram', CountVectorizer()),\n",
    "    ('unigram', CountVectorizer())\n",
    "])\n",
    "\n",
    "commentNBRLrgPipeline = Pipeline([\n",
    "    ('union', unionRPipeline),\n",
    "    ('lrg', NBWrapper(C=66, alpha=1))\n",
    "])"
   ]
  },
  {
   "cell_type": "code",
   "execution_count": 18,
   "metadata": {},
   "outputs": [
    {
     "name": "stdout",
     "output_type": "stream",
     "text": [
      "0.875544986127626\n"
     ]
    }
   ],
   "source": [
    "commentNBRLrgPipeline.fit(X_train, y_train)\n",
    "y_pred = commentNBRLrgPipeline.predict(X_test)\n",
    "print(metrics.f1_score(y_test, y_pred))"
   ]
  },
  {
   "cell_type": "code",
   "execution_count": 30,
   "metadata": {},
   "outputs": [],
   "source": [
    "unionPipeline = FeatureUnion([\n",
    "    ('bigram', CountVectorizer(ngram_range=(2, 3), tokenizer=bigramParser, max_df=0.95)),\n",
    "    ('unigram', CountVectorizer(ngram_range=(1, 1), max_df=0.8))\n",
    "])\n",
    "\n",
    "commentNBLrgPipeline = Pipeline([\n",
    "    ('union', unionPipeline),\n",
    "    ('lrg', NBWrapper(C=66, alpha=1))\n",
    "])"
   ]
  },
  {
   "cell_type": "markdown",
   "metadata": {},
   "source": [
    "## For Cross validation, goto NBLrgCV.py"
   ]
  },
  {
   "cell_type": "code",
   "execution_count": 21,
   "metadata": {},
   "outputs": [
    {
     "name": "stdout",
     "output_type": "stream",
     "text": [
      "0.9174709474098878\n"
     ]
    }
   ],
   "source": [
    "commentNBLrgPipeline.fit(X_train, y_train)\n",
    "y_pred = commentNBLrgPipeline.predict(X_test)\n",
    "print(metrics.f1_score(y_test, y_pred))"
   ]
  },
  {
   "cell_type": "markdown",
   "metadata": {},
   "source": [
    "# Final submission"
   ]
  },
  {
   "cell_type": "code",
   "execution_count": 31,
   "metadata": {},
   "outputs": [
    {
     "name": "stdout",
     "output_type": "stream",
     "text": [
      ">>> Start\n",
      ">>> Predict\n",
      ">>> Logistic regression\n",
      ">>> FOut\n",
      ">>> File Out\n",
      ">>> Finish\n"
     ]
    }
   ],
   "source": [
    "import csv\n",
    "outFiles = glob.glob('./comp-551-imbd-sentiment-classification/test/*.txt')\n",
    "outFiles.sort(key=lambda x: int(x.split('/')[-1].split('.txt')[0]))\n",
    "xOut = []\n",
    "for outFile in outFiles:\n",
    "    with open(outFile) as f:\n",
    "        xOut.append(f.read())\n",
    "\n",
    "outDf = pd.DataFrame(xOut, columns=['text'])\n",
    "\n",
    "print(\">>> Start\")\n",
    "commentNBLrgPipeline.fit(df['text'], df['y discrete'])\n",
    "print(\">>> Predict\")\n",
    "print(\">>> Logistic regression\")\n",
    "y_pred = commentNBLrgPipeline.predict(outDf['text'])\n",
    "print(\">>> FOut\")\n",
    "print(\">>> File Out\")\n",
    "with open('out_final.csv', 'w') as csvfile:\n",
    "    fieldnames = ['Id', 'Category']\n",
    "    writer = csv.DictWriter(csvfile, fieldnames=fieldnames)\n",
    "    writer.writeheader()\n",
    "    for c in range(len(y_pred)):\n",
    "        writer.writerow({'Id': c, 'Category': y_pred[c]})\n",
    "print(\">>> Finish\")"
   ]
  },
  {
   "cell_type": "markdown",
   "metadata": {},
   "source": [
    "# Extra: Remove word by POS tag"
   ]
  },
  {
   "cell_type": "code",
   "execution_count": 21,
   "metadata": {},
   "outputs": [],
   "source": [
    "def labelRemover(textArr, labels): \n",
    "    return [s.lower() for s in textArr if nltk.pos_tag(s)[0][1] not in labels]"
   ]
  },
  {
   "cell_type": "markdown",
   "metadata": {},
   "source": [
    "## Remove Noun"
   ]
  },
  {
   "cell_type": "code",
   "execution_count": 22,
   "metadata": {},
   "outputs": [
    {
     "name": "stdout",
     "output_type": "stream",
     "text": [
      "0.8231118122658252\n"
     ]
    }
   ],
   "source": [
    "commentLrgPOSAPipeline = Pipeline([\n",
    "    ('tfidf', TfidfVectorizer(max_df=0.83, ngram_range=(1, 2), norm='l2', sublinear_tf=True, tokenizer = lambda x: labelRemover(x.split(), ['NN', 'NNP', 'NNS', 'NNPS']))),\n",
    "    ('lrg', LogisticRegression())\n",
    "])\n",
    "\n",
    "commentLrgPOSAPipeline.fit(X_train, y_train)\n",
    "y_pred = commentLrgPOSAPipeline.predict(X_test)\n",
    "print(metrics.f1_score(y_test, y_pred))"
   ]
  },
  {
   "cell_type": "markdown",
   "metadata": {},
   "source": [
    "## Remove Adjective"
   ]
  },
  {
   "cell_type": "code",
   "execution_count": 23,
   "metadata": {},
   "outputs": [
    {
     "name": "stdout",
     "output_type": "stream",
     "text": [
      "0.8908125122958882\n"
     ]
    }
   ],
   "source": [
    "commentLrgPOSNPipeline = Pipeline([\n",
    "    ('tfidf', TfidfVectorizer(max_df=0.83, ngram_range=(1, 2), norm='l2', sublinear_tf=True, tokenizer = lambda x: labelRemover(x.split(), ['JJ', 'JJR', 'JJS']))),\n",
    "    ('lrg', LogisticRegression())\n",
    "])\n",
    "\n",
    "commentLrgPOSNPipeline.fit(X_train, y_train)\n",
    "y_pred = commentLrgPOSNPipeline.predict(X_test)\n",
    "print(metrics.f1_score(y_test, y_pred))"
   ]
  },
  {
   "cell_type": "markdown",
   "metadata": {},
   "source": [
    "## Remove Verb"
   ]
  },
  {
   "cell_type": "code",
   "execution_count": 24,
   "metadata": {},
   "outputs": [
    {
     "name": "stdout",
     "output_type": "stream",
     "text": [
      "0.8928430209569\n"
     ]
    }
   ],
   "source": [
    "commentLrgPOSVPipeline = Pipeline([\n",
    "    ('tfidf', TfidfVectorizer(max_df=0.83, ngram_range=(1, 2), norm='l2', sublinear_tf=True, tokenizer = lambda x: labelRemover(x.split(), ['VB', 'VBD', 'VBG', 'VBN', 'VBP', 'VBZ']))),\n",
    "    ('lrg', LogisticRegression())\n",
    "])\n",
    "\n",
    "commentLrgPOSVPipeline.fit(X_train, y_train)\n",
    "y_pred = commentLrgPOSVPipeline.predict(X_test)\n",
    "print(metrics.f1_score(y_test, y_pred))"
   ]
  },
  {
   "cell_type": "markdown",
   "metadata": {},
   "source": [
    "## None Removed"
   ]
  },
  {
   "cell_type": "code",
   "execution_count": 27,
   "metadata": {},
   "outputs": [
    {
     "name": "stdout",
     "output_type": "stream",
     "text": [
      "0.8953925252125766\n"
     ]
    }
   ],
   "source": [
    "commentLrgPOSOPipeline = Pipeline([\n",
    "    ('tfidf', TfidfVectorizer(max_df=0.83, ngram_range=(1, 2), norm='l2', sublinear_tf=True)),\n",
    "    ('lrg', LogisticRegression())\n",
    "])\n",
    "\n",
    "commentLrgPOSOPipeline.fit(X_train, y_train)\n",
    "y_pred = commentLrgPOSOPipeline.predict(X_test)\n",
    "print(metrics.f1_score(y_test, y_pred))"
   ]
  },
  {
   "cell_type": "code",
   "execution_count": null,
   "metadata": {},
   "outputs": [],
   "source": []
  }
 ],
 "metadata": {
  "kernelspec": {
   "display_name": "Python 3",
   "language": "python",
   "name": "python3"
  },
  "language_info": {
   "codemirror_mode": {
    "name": "ipython",
    "version": 3
   },
   "file_extension": ".py",
   "mimetype": "text/x-python",
   "name": "python",
   "nbconvert_exporter": "python",
   "pygments_lexer": "ipython3",
   "version": "3.6.5"
  }
 },
 "nbformat": 4,
 "nbformat_minor": 2
}
